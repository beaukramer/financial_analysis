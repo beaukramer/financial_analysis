{
 "cells": [
  {
   "cell_type": "code",
   "execution_count": 93,
   "metadata": {},
   "outputs": [
    {
     "data": {
      "text/html": [
       "<script type=\"text/javascript\">window.PlotlyConfig = {MathJaxConfig: 'local'};</script><script type=\"text/javascript\">if (window.MathJax) {MathJax.Hub.Config({SVG: {font: \"STIX-Web\"}});}</script><script>requirejs.config({paths: { 'plotly': ['https://cdn.plot.ly/plotly-latest.min']},});if(!window._Plotly) {require(['plotly'],function(plotly) {window._Plotly=plotly;});}</script>"
      ],
      "text/vnd.plotly.v1+html": [
       "<script type=\"text/javascript\">window.PlotlyConfig = {MathJaxConfig: 'local'};</script><script type=\"text/javascript\">if (window.MathJax) {MathJax.Hub.Config({SVG: {font: \"STIX-Web\"}});}</script><script>requirejs.config({paths: { 'plotly': ['https://cdn.plot.ly/plotly-latest.min']},});if(!window._Plotly) {require(['plotly'],function(plotly) {window._Plotly=plotly;});}</script>"
      ]
     },
     "metadata": {},
     "output_type": "display_data"
    },
    {
     "data": {
      "text/html": [
       "<script type=\"text/javascript\">window.PlotlyConfig = {MathJaxConfig: 'local'};</script><script type=\"text/javascript\">if (window.MathJax) {MathJax.Hub.Config({SVG: {font: \"STIX-Web\"}});}</script><script>requirejs.config({paths: { 'plotly': ['https://cdn.plot.ly/plotly-latest.min']},});if(!window._Plotly) {require(['plotly'],function(plotly) {window._Plotly=plotly;});}</script>"
      ],
      "text/vnd.plotly.v1+html": [
       "<script type=\"text/javascript\">window.PlotlyConfig = {MathJaxConfig: 'local'};</script><script type=\"text/javascript\">if (window.MathJax) {MathJax.Hub.Config({SVG: {font: \"STIX-Web\"}});}</script><script>requirejs.config({paths: { 'plotly': ['https://cdn.plot.ly/plotly-latest.min']},});if(!window._Plotly) {require(['plotly'],function(plotly) {window._Plotly=plotly;});}</script>"
      ]
     },
     "metadata": {},
     "output_type": "display_data"
    }
   ],
   "source": [
    "import numpy as np\n",
    "import pandas as pd\n",
    "import matplotlib.pyplot as plt\n",
    "import quandl\n",
    "import seaborn as sns\n",
    "import statsmodels.api as sm\n",
    "authtoken=\"AmT6hbzjx59sQAvKde2L\"\n",
    "from sklearn.model_selection import train_test_split\n",
    "from sklearn.preprocessing import KBinsDiscretizer\n",
    "from sklearn import linear_model\n",
    "%matplotlib inline\n",
    "\n",
    "# Standard plotly imports\n",
    "import plotly.plotly as py\n",
    "import plotly.graph_objs as go\n",
    "from plotly.offline import iplot, init_notebook_mode\n",
    "\n",
    "# Using plotly + cufflinks in offline mode\n",
    "import cufflinks\n",
    "cufflinks.go_offline(connected=True)\n",
    "init_notebook_mode(connected=True)"
   ]
  },
  {
   "cell_type": "code",
   "execution_count": 94,
   "metadata": {},
   "outputs": [],
   "source": [
    "start_date = pd.datetime(1900, 1, 1)\n",
    "end_date = pd.datetime(2018, 3, 31)\n",
    "yale = quandl.get(\"YALE/SPCOMP\", start_date = start_date, end_date = end_date, authtoken=authtoken)"
   ]
  },
  {
   "cell_type": "code",
   "execution_count": 95,
   "metadata": {},
   "outputs": [],
   "source": [
    "yale.columns = ['SP_Comp','Dividend', 'Earnings', 'CPI', 'Long_Int_Rate',\n",
    "       'Real_Price', 'Real_Dividend', 'Real_Earnings',\n",
    "       'CAPE']"
   ]
  },
  {
   "cell_type": "code",
   "execution_count": 96,
   "metadata": {},
   "outputs": [
    {
     "data": {
      "text/html": [
       "<div>\n",
       "<style scoped>\n",
       "    .dataframe tbody tr th:only-of-type {\n",
       "        vertical-align: middle;\n",
       "    }\n",
       "\n",
       "    .dataframe tbody tr th {\n",
       "        vertical-align: top;\n",
       "    }\n",
       "\n",
       "    .dataframe thead th {\n",
       "        text-align: right;\n",
       "    }\n",
       "</style>\n",
       "<table border=\"1\" class=\"dataframe\">\n",
       "  <thead>\n",
       "    <tr style=\"text-align: right;\">\n",
       "      <th></th>\n",
       "      <th>SP_Comp</th>\n",
       "      <th>Dividend</th>\n",
       "      <th>Earnings</th>\n",
       "      <th>CPI</th>\n",
       "      <th>Long_Int_Rate</th>\n",
       "      <th>Real_Price</th>\n",
       "      <th>Real_Dividend</th>\n",
       "      <th>Real_Earnings</th>\n",
       "      <th>CAPE</th>\n",
       "    </tr>\n",
       "    <tr>\n",
       "      <th>Year</th>\n",
       "      <th></th>\n",
       "      <th></th>\n",
       "      <th></th>\n",
       "      <th></th>\n",
       "      <th></th>\n",
       "      <th></th>\n",
       "      <th></th>\n",
       "      <th></th>\n",
       "      <th></th>\n",
       "    </tr>\n",
       "  </thead>\n",
       "  <tbody>\n",
       "    <tr>\n",
       "      <th>1900-01-31</th>\n",
       "      <td>6.10</td>\n",
       "      <td>0.2175</td>\n",
       "      <td>0.48</td>\n",
       "      <td>7.897091</td>\n",
       "      <td>3.150000</td>\n",
       "      <td>197.180979</td>\n",
       "      <td>7.030633</td>\n",
       "      <td>15.515880</td>\n",
       "      <td>18.674275</td>\n",
       "    </tr>\n",
       "    <tr>\n",
       "      <th>1900-02-28</th>\n",
       "      <td>6.21</td>\n",
       "      <td>0.2250</td>\n",
       "      <td>0.48</td>\n",
       "      <td>7.992232</td>\n",
       "      <td>3.145833</td>\n",
       "      <td>198.347095</td>\n",
       "      <td>7.186489</td>\n",
       "      <td>15.331176</td>\n",
       "      <td>18.703797</td>\n",
       "    </tr>\n",
       "    <tr>\n",
       "      <th>1900-03-31</th>\n",
       "      <td>6.26</td>\n",
       "      <td>0.2325</td>\n",
       "      <td>0.48</td>\n",
       "      <td>7.992232</td>\n",
       "      <td>3.141667</td>\n",
       "      <td>199.944093</td>\n",
       "      <td>7.426039</td>\n",
       "      <td>15.331176</td>\n",
       "      <td>18.775793</td>\n",
       "    </tr>\n",
       "    <tr>\n",
       "      <th>1900-04-30</th>\n",
       "      <td>6.34</td>\n",
       "      <td>0.2400</td>\n",
       "      <td>0.48</td>\n",
       "      <td>7.992232</td>\n",
       "      <td>3.137500</td>\n",
       "      <td>202.499289</td>\n",
       "      <td>7.665588</td>\n",
       "      <td>15.331176</td>\n",
       "      <td>18.936402</td>\n",
       "    </tr>\n",
       "    <tr>\n",
       "      <th>1900-05-31</th>\n",
       "      <td>6.04</td>\n",
       "      <td>0.2475</td>\n",
       "      <td>0.48</td>\n",
       "      <td>7.801942</td>\n",
       "      <td>3.133333</td>\n",
       "      <td>197.622574</td>\n",
       "      <td>8.097945</td>\n",
       "      <td>15.705105</td>\n",
       "      <td>18.403197</td>\n",
       "    </tr>\n",
       "  </tbody>\n",
       "</table>\n",
       "</div>"
      ],
      "text/plain": [
       "            SP_Comp  Dividend  Earnings       CPI  Long_Int_Rate  Real_Price  \\\n",
       "Year                                                                           \n",
       "1900-01-31     6.10    0.2175      0.48  7.897091       3.150000  197.180979   \n",
       "1900-02-28     6.21    0.2250      0.48  7.992232       3.145833  198.347095   \n",
       "1900-03-31     6.26    0.2325      0.48  7.992232       3.141667  199.944093   \n",
       "1900-04-30     6.34    0.2400      0.48  7.992232       3.137500  202.499289   \n",
       "1900-05-31     6.04    0.2475      0.48  7.801942       3.133333  197.622574   \n",
       "\n",
       "            Real_Dividend  Real_Earnings       CAPE  \n",
       "Year                                                 \n",
       "1900-01-31       7.030633      15.515880  18.674275  \n",
       "1900-02-28       7.186489      15.331176  18.703797  \n",
       "1900-03-31       7.426039      15.331176  18.775793  \n",
       "1900-04-30       7.665588      15.331176  18.936402  \n",
       "1900-05-31       8.097945      15.705105  18.403197  "
      ]
     },
     "execution_count": 96,
     "metadata": {},
     "output_type": "execute_result"
    }
   ],
   "source": [
    "yale.head()"
   ]
  },
  {
   "cell_type": "code",
   "execution_count": 97,
   "metadata": {},
   "outputs": [],
   "source": [
    "def FwdReturnAnnualized(prices, n):\n",
    "    gross_returns = prices.pct_change(n).shift(-n)\n",
    "    n_years = n/12\n",
    "    annualized_returns = ((1+ gross_returns) ** (1/n_years)) - 1\n",
    "    return annualized_returns\n",
    "\n",
    "yale['Fwd10YrRet'] = FwdReturnAnnualized(prices=yale.SP_Comp ,n=120)\n",
    "yale['Fwd1YrRet'] = FwdReturnAnnualized(prices=yale.SP_Comp ,n=12)\n",
    "yale['RealEarnYield'] = yale.Real_Earnings / yale.Real_Price # Create earnings yield feature\n",
    "yale['RealDivYield'] = yale.Real_Dividend / yale.Real_Price # Create dividen yield feature\n",
    "yale['ERP_FedModel'] = yale.RealEarnYield - (yale.Long_Int_Rate / 100)"
   ]
  },
  {
   "cell_type": "code",
   "execution_count": 98,
   "metadata": {},
   "outputs": [
    {
     "data": {
      "text/html": [
       "<div>\n",
       "<style scoped>\n",
       "    .dataframe tbody tr th:only-of-type {\n",
       "        vertical-align: middle;\n",
       "    }\n",
       "\n",
       "    .dataframe tbody tr th {\n",
       "        vertical-align: top;\n",
       "    }\n",
       "\n",
       "    .dataframe thead th {\n",
       "        text-align: right;\n",
       "    }\n",
       "</style>\n",
       "<table border=\"1\" class=\"dataframe\">\n",
       "  <thead>\n",
       "    <tr style=\"text-align: right;\">\n",
       "      <th></th>\n",
       "      <th>SP_Comp</th>\n",
       "      <th>Dividend</th>\n",
       "      <th>Earnings</th>\n",
       "      <th>CPI</th>\n",
       "      <th>Long_Int_Rate</th>\n",
       "      <th>Real_Price</th>\n",
       "      <th>Real_Dividend</th>\n",
       "      <th>Real_Earnings</th>\n",
       "      <th>CAPE</th>\n",
       "      <th>Fwd10YrRet</th>\n",
       "      <th>Fwd1YrRet</th>\n",
       "      <th>RealEarnYield</th>\n",
       "      <th>RealDivYield</th>\n",
       "      <th>ERP_FedModel</th>\n",
       "    </tr>\n",
       "    <tr>\n",
       "      <th>Year</th>\n",
       "      <th></th>\n",
       "      <th></th>\n",
       "      <th></th>\n",
       "      <th></th>\n",
       "      <th></th>\n",
       "      <th></th>\n",
       "      <th></th>\n",
       "      <th></th>\n",
       "      <th></th>\n",
       "      <th></th>\n",
       "      <th></th>\n",
       "      <th></th>\n",
       "      <th></th>\n",
       "      <th></th>\n",
       "    </tr>\n",
       "  </thead>\n",
       "  <tbody>\n",
       "    <tr>\n",
       "      <th>1900-01-31</th>\n",
       "      <td>6.10</td>\n",
       "      <td>0.2175</td>\n",
       "      <td>0.48</td>\n",
       "      <td>7.897091</td>\n",
       "      <td>3.150000</td>\n",
       "      <td>197.180979</td>\n",
       "      <td>7.030633</td>\n",
       "      <td>15.515880</td>\n",
       "      <td>18.674275</td>\n",
       "      <td>0.051509</td>\n",
       "      <td>0.159016</td>\n",
       "      <td>0.078689</td>\n",
       "      <td>0.035656</td>\n",
       "      <td>0.047189</td>\n",
       "    </tr>\n",
       "    <tr>\n",
       "      <th>1900-02-28</th>\n",
       "      <td>6.21</td>\n",
       "      <td>0.2250</td>\n",
       "      <td>0.48</td>\n",
       "      <td>7.992232</td>\n",
       "      <td>3.145833</td>\n",
       "      <td>198.347095</td>\n",
       "      <td>7.186489</td>\n",
       "      <td>15.331176</td>\n",
       "      <td>18.703797</td>\n",
       "      <td>0.045821</td>\n",
       "      <td>0.167472</td>\n",
       "      <td>0.077295</td>\n",
       "      <td>0.036232</td>\n",
       "      <td>0.045836</td>\n",
       "    </tr>\n",
       "    <tr>\n",
       "      <th>1900-03-31</th>\n",
       "      <td>6.26</td>\n",
       "      <td>0.2325</td>\n",
       "      <td>0.48</td>\n",
       "      <td>7.992232</td>\n",
       "      <td>3.141667</td>\n",
       "      <td>199.944093</td>\n",
       "      <td>7.426039</td>\n",
       "      <td>15.331176</td>\n",
       "      <td>18.775793</td>\n",
       "      <td>0.047535</td>\n",
       "      <td>0.199681</td>\n",
       "      <td>0.076677</td>\n",
       "      <td>0.037141</td>\n",
       "      <td>0.045261</td>\n",
       "    </tr>\n",
       "    <tr>\n",
       "      <th>1900-04-30</th>\n",
       "      <td>6.34</td>\n",
       "      <td>0.2400</td>\n",
       "      <td>0.48</td>\n",
       "      <td>7.992232</td>\n",
       "      <td>3.137500</td>\n",
       "      <td>202.499289</td>\n",
       "      <td>7.665588</td>\n",
       "      <td>15.331176</td>\n",
       "      <td>18.936402</td>\n",
       "      <td>0.043657</td>\n",
       "      <td>0.283912</td>\n",
       "      <td>0.075710</td>\n",
       "      <td>0.037855</td>\n",
       "      <td>0.044335</td>\n",
       "    </tr>\n",
       "    <tr>\n",
       "      <th>1900-05-31</th>\n",
       "      <td>6.04</td>\n",
       "      <td>0.2475</td>\n",
       "      <td>0.48</td>\n",
       "      <td>7.801942</td>\n",
       "      <td>3.133333</td>\n",
       "      <td>197.622574</td>\n",
       "      <td>8.097945</td>\n",
       "      <td>15.705105</td>\n",
       "      <td>18.403197</td>\n",
       "      <td>0.046989</td>\n",
       "      <td>0.279801</td>\n",
       "      <td>0.079470</td>\n",
       "      <td>0.040977</td>\n",
       "      <td>0.048137</td>\n",
       "    </tr>\n",
       "  </tbody>\n",
       "</table>\n",
       "</div>"
      ],
      "text/plain": [
       "            SP_Comp  Dividend  Earnings       CPI  Long_Int_Rate  Real_Price  \\\n",
       "Year                                                                           \n",
       "1900-01-31     6.10    0.2175      0.48  7.897091       3.150000  197.180979   \n",
       "1900-02-28     6.21    0.2250      0.48  7.992232       3.145833  198.347095   \n",
       "1900-03-31     6.26    0.2325      0.48  7.992232       3.141667  199.944093   \n",
       "1900-04-30     6.34    0.2400      0.48  7.992232       3.137500  202.499289   \n",
       "1900-05-31     6.04    0.2475      0.48  7.801942       3.133333  197.622574   \n",
       "\n",
       "            Real_Dividend  Real_Earnings       CAPE  Fwd10YrRet  Fwd1YrRet  \\\n",
       "Year                                                                         \n",
       "1900-01-31       7.030633      15.515880  18.674275    0.051509   0.159016   \n",
       "1900-02-28       7.186489      15.331176  18.703797    0.045821   0.167472   \n",
       "1900-03-31       7.426039      15.331176  18.775793    0.047535   0.199681   \n",
       "1900-04-30       7.665588      15.331176  18.936402    0.043657   0.283912   \n",
       "1900-05-31       8.097945      15.705105  18.403197    0.046989   0.279801   \n",
       "\n",
       "            RealEarnYield  RealDivYield  ERP_FedModel  \n",
       "Year                                                   \n",
       "1900-01-31       0.078689      0.035656      0.047189  \n",
       "1900-02-28       0.077295      0.036232      0.045836  \n",
       "1900-03-31       0.076677      0.037141      0.045261  \n",
       "1900-04-30       0.075710      0.037855      0.044335  \n",
       "1900-05-31       0.079470      0.040977      0.048137  "
      ]
     },
     "execution_count": 98,
     "metadata": {},
     "output_type": "execute_result"
    }
   ],
   "source": [
    "yale.head()"
   ]
  },
  {
   "cell_type": "markdown",
   "metadata": {},
   "source": [
    "# train test split\n"
   ]
  },
  {
   "cell_type": "code",
   "execution_count": 122,
   "metadata": {},
   "outputs": [],
   "source": [
    "variables = ['CAPE','ERP_FedModel','RealEarnYield']\n",
    "target = ['Fwd1YrRet']\n",
    "data = yale.dropna()\n",
    "data = data[variables + target]\n",
    "train_data = data.iloc[:1000,:]\n",
    "test_data = data.iloc[1001:,:]\n",
    "X_test = np.asarray(test_data[variables])\n",
    "y_test = np.asarray(test_data[target])\n",
    "X = np.asarray(train_data[variables])\n",
    "y = np.asarray(train_data[target])\n",
    "X_train, X_val, y_train, y_val = train_test_split(X, y, test_size=0.2, random_state=42)"
   ]
  },
  {
   "cell_type": "markdown",
   "metadata": {},
   "source": [
    "# preprocess"
   ]
  },
  {
   "cell_type": "code",
   "execution_count": 123,
   "metadata": {},
   "outputs": [],
   "source": [
    "est = KBinsDiscretizer(n_bins=4, encode='ordinal')\n",
    "X_train = est.fit_transform(X_train)\n",
    "X_val = est.transform(X_val)\n",
    "est = KBinsDiscretizer(n_bins=4, encode='ordinal')\n",
    "y_train = est.fit_transform(y_train)\n",
    "y_val = est.transform(y_val)"
   ]
  },
  {
   "cell_type": "code",
   "execution_count": 124,
   "metadata": {},
   "outputs": [],
   "source": [
    "def MapToTrinary(num, low, high):\n",
    "    if num == low:\n",
    "        return -1\n",
    "    elif num == high:\n",
    "        return 1\n",
    "    else:\n",
    "        return 0\n",
    "vfunc = np.vectorize(MapToTrinary)\n",
    "X_train = vfunc(X_train, low=0, high=3)\n",
    "X_val = vfunc(X_val, low=0, high=3)\n",
    "y_train = vfunc(y_train, low=0, high=3)\n",
    "y_val = vfunc(y_val, low=0, high=3)"
   ]
  },
  {
   "cell_type": "code",
   "execution_count": 125,
   "metadata": {},
   "outputs": [
    {
     "data": {
      "text/plain": [
       "0.505"
      ]
     },
     "execution_count": 125,
     "metadata": {},
     "output_type": "execute_result"
    }
   ],
   "source": [
    "from sklearn.tree import DecisionTreeClassifier\n",
    "from sklearn.model_selection import cross_val_score\n",
    "from sklearn.metrics import accuracy_score\n",
    "clf = DecisionTreeClassifier(random_state=0, max_depth=3)\n",
    "clf.fit(X_train, y_train)\n",
    "# cross_val_score(clf, X_train, y_train, cv=5)\n",
    "accuracy_score(y_val, clf.predict(X_val))"
   ]
  },
  {
   "cell_type": "code",
   "execution_count": null,
   "metadata": {},
   "outputs": [],
   "source": [
    "current_data = np.array(data[-119:]).reshape(-1,X.shape[1])\n",
    "pred_current = neigh.predict(current_data)"
   ]
  },
  {
   "cell_type": "code",
   "execution_count": null,
   "metadata": {},
   "outputs": [],
   "source": [
    "plt.scatter(data.CAPE[-119:],pred_current)\n",
    "print(\"The current CAPE RATIO is:\",(current_data[-1]))\n",
    "print(\"The predicted 10 year forward real return is:\", round(100*pred_current[-1],1),\"%\")"
   ]
  },
  {
   "cell_type": "code",
   "execution_count": null,
   "metadata": {},
   "outputs": [],
   "source": [
    "ret_ann = yale.SP_Comp.pct_change(12)\n",
    "ret_ann = ret_ann.dropna()\n",
    "\n",
    "ret_neg = ret_ann < 0\n",
    "ret_neg = ret_neg * ret_ann\n",
    "ret_neg = ret_neg[ret_neg != 0]\n",
    "\n",
    "ret_norm = (ret_ann > 0) & (ret_ann < .1)\n",
    "ret_norm = ret_norm * ret_ann\n",
    "ret_norm = ret_norm[ret_norm != 0]\n",
    "\n",
    "ret_high = (ret_ann > .1)\n",
    "ret_high = ret_high * ret_ann\n",
    "ret_high = ret_high[ret_high != 0]\n",
    "\n",
    "print(len(ret_norm) / len(ret_ann))\n",
    "print(len(ret_neg) / len(ret_ann))\n",
    "print(len(ret_high) / len(ret_ann))"
   ]
  },
  {
   "cell_type": "code",
   "execution_count": null,
   "metadata": {},
   "outputs": [],
   "source": [
    "sns.distplot(ret_neg, kde=False)\n",
    "sns.distplot(ret_norm, kde=False)\n",
    "sns.distplot(ret_high, kde=False)"
   ]
  },
  {
   "cell_type": "code",
   "execution_count": null,
   "metadata": {},
   "outputs": [],
   "source": [
    "X = np.array(yale.dropna().CAPE)\n",
    "X = X.reshape(-1,1)\n",
    "Y = np.asarray(yale.dropna().Fwd10YrRet)\n",
    "X_train, X_test, y_train, y_test = train_test_split(X, y, test_size=0.2, random_state=42)\n",
    "model = linear_model.LinearRegression()\n",
    "model.fit(X_train,y_train)\n",
    "pred = model.predict(X_test)\n",
    "mse(y_test,pred)"
   ]
  },
  {
   "cell_type": "code",
   "execution_count": null,
   "metadata": {},
   "outputs": [],
   "source": [
    "yale.Fwd10YrRet.plot()\n",
    "yale.CAPE.plot(secondary_y=True)"
   ]
  },
  {
   "cell_type": "code",
   "execution_count": null,
   "metadata": {},
   "outputs": [],
   "source": [
    "current_data = np.asarray(yale.CAPE[-119:]).reshape(-1,1)\n",
    "pred_current = neigh.predict(current_data)"
   ]
  },
  {
   "cell_type": "code",
   "execution_count": null,
   "metadata": {},
   "outputs": [],
   "source": []
  },
  {
   "cell_type": "code",
   "execution_count": null,
   "metadata": {},
   "outputs": [],
   "source": []
  }
 ],
 "metadata": {
  "kernelspec": {
   "display_name": "Python 3",
   "language": "python",
   "name": "python3"
  },
  "language_info": {
   "codemirror_mode": {
    "name": "ipython",
    "version": 3
   },
   "file_extension": ".py",
   "mimetype": "text/x-python",
   "name": "python",
   "nbconvert_exporter": "python",
   "pygments_lexer": "ipython3",
   "version": "3.6.8"
  }
 },
 "nbformat": 4,
 "nbformat_minor": 2
}
