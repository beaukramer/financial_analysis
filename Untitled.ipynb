{
 "cells": [
  {
   "cell_type": "code",
   "execution_count": 25,
   "metadata": {},
   "outputs": [],
   "source": [
    "import scipy\n",
    "import pandas as pd\n",
    "from tiingo import TiingoClient\n",
    "import numpy as np\n",
    "from scipy.stats import entropy"
   ]
  },
  {
   "cell_type": "code",
   "execution_count": 3,
   "metadata": {},
   "outputs": [],
   "source": [
    "config = {}\n",
    "# To reuse the same HTTP Session across API calls (and have better performance), include a session key.\n",
    "config['session'] = True\n",
    "config['api_key'] = \"9606b7b7c092fa68b5726d3feee8d44f40354fe3\"\n",
    "# Initialize\n",
    "client = TiingoClient(config)"
   ]
  },
  {
   "cell_type": "code",
   "execution_count": 17,
   "metadata": {},
   "outputs": [
    {
     "name": "stdout",
     "output_type": "stream",
     "text": [
      "                  SPY        EFA        VNQ        TLT\n",
      "date                                                  \n",
      "2004-09-29  84.209111  31.560343  26.170527  54.151354\n",
      "2004-09-30  84.148876  31.672338  26.380521  53.943526\n",
      "2004-10-01  85.571937  32.165118  26.868757  53.675001\n",
      "2004-10-04  85.714997  32.214396  26.984254  53.754792\n",
      "2004-10-05  85.760173  32.232316  26.979004  53.754792\n"
     ]
    }
   ],
   "source": [
    "start_date='2000-01-01'\n",
    "end_date='2018-06-01'\n",
    "tickers = ['SPY','EFA','VNQ','TLT']\n",
    "\n",
    "\n",
    "start_date = pd.to_datetime(start_date)\n",
    "end_date = pd.to_datetime(end_date)\n",
    "prices = pd.DataFrame()\n",
    "\n",
    "\n",
    "for ticker in tickers:\n",
    "#     prices[ticker] = get_historical_data(ticker, start=start_date, end=end_date, output_format='pandas').loc[:,'close']\n",
    "    prices[ticker] = client.get_dataframe(ticker, startDate=start_date, endDate=end_date).loc[:,'adjClose']\n",
    "prices = prices.dropna()\n",
    "print(prices.head())\n",
    "returns = prices.pct_change()\n",
    "returns returns.dropna()"
   ]
  },
  {
   "cell_type": "code",
   "execution_count": 5,
   "metadata": {},
   "outputs": [
    {
     "name": "stdout",
     "output_type": "stream",
     "text": [
      "0.12338372288519178\n",
      "0.12320634750307206\n",
      "0.12313508807601184\n",
      "0.12360116366875144\n",
      "0.12352944693953953\n",
      "0.12335165262856934\n"
     ]
    }
   ],
   "source": [
    "from sklearn.metrics import mutual_info_score\n",
    "\n",
    "def calc_MI(x, y):\n",
    "    mi = mutual_info_score(x, y, contingency=None)\n",
    "    return 1/mi\n",
    "\n",
    "print(calc_MI(returns.SPY, returns.EFA))\n",
    "print(calc_MI(returns.SPY, returns.VNQ))\n",
    "ddprint(calc_MI(returns.SPY, returns.TLT))\n",
    "print(calc_MI(returns.EFA, returns.VNQ))\n",
    "print(calc_MI(returns.EFA, returns.TLT))\n",
    "print(calc_MI(returns.VNQ, returns.TLT))\n"
   ]
  },
  {
   "cell_type": "code",
   "execution_count": 23,
   "metadata": {},
   "outputs": [
    {
     "data": {
      "text/plain": [
       "-0.4109463449415529"
      ]
     },
     "execution_count": 23,
     "metadata": {},
     "output_type": "execute_result"
    }
   ],
   "source": [
    "np.corrcoef(returns.SPY,returns.TLT)[0][1]"
   ]
  },
  {
   "cell_type": "code",
   "execution_count": 31,
   "metadata": {},
   "outputs": [],
   "source": [
    "def edf(data):\n",
    "    raw_data = np.array(data)\n",
    "    # create a sorted series of unique data\n",
    "    cdfx = np.sort(data.unique())\n",
    "    # x-data for the ECDF: evenly spaced sequence of the uniques\n",
    "    x_values = np.linspace(start=min(cdfx), stop=max(cdfx),num=len(cdfx))\n",
    "    # size of the x_values\n",
    "    size_data = raw_data.size\n",
    "    # y-data for the ECDF:\n",
    "    y_values = []\n",
    "    for i in x_values:\n",
    "        # all the values in raw data less than the ith value in x_values\n",
    "        temp = raw_data[raw_data <= i]\n",
    "        # fraction of that value with respect to the size of the x_values\n",
    "        value = temp.size / size_data\n",
    "        # pushing the value in the y_values\n",
    "        y_values.append(value)\n",
    "    # return both x and y values    \n",
    "    return x_values,y_values"
   ]
  },
  {
   "cell_type": "code",
   "execution_count": null,
   "metadata": {},
   "outputs": [],
   "source": []
  }
 ],
 "metadata": {
  "kernelspec": {
   "display_name": "Python 3",
   "language": "python",
   "name": "python3"
  },
  "language_info": {
   "codemirror_mode": {
    "name": "ipython",
    "version": 3
   },
   "file_extension": ".py",
   "mimetype": "text/x-python",
   "name": "python",
   "nbconvert_exporter": "python",
   "pygments_lexer": "ipython3",
   "version": "3.6.5"
  }
 },
 "nbformat": 4,
 "nbformat_minor": 2
}
