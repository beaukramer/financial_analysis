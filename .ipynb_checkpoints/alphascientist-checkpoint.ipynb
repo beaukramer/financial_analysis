{
 "cells": [
  {
   "cell_type": "markdown",
   "metadata": {},
   "source": [
    "# Data Management"
   ]
  },
  {
   "cell_type": "code",
   "execution_count": 1,
   "metadata": {},
   "outputs": [],
   "source": [
    "import pandas as pd\n",
    "import pandas_datareader.data as web\n",
    "\n",
    "def get_symbols(symbols,data_source, begin_date=None,end_date=None):\n",
    "    out = pd.DataFrame()\n",
    "    for symbol in symbols:\n",
    "        df = web.DataReader(symbol, data_source,begin_date, end_date)\\\n",
    "        [['AdjOpen','AdjHigh','AdjLow','AdjClose','AdjVolume']].reset_index()\n",
    "        df.columns = ['date','open','high','low','close','volume'] #my convention: always lowercase\n",
    "        df['symbol'] = symbol # add a new column which contains the symbol so we can keep multiple symbols in the same dataframe\n",
    "        df = df.set_index(['date','symbol'])\n",
    "        out = pd.concat([out,df],axis=0) #stacks on top of previously collected data\n",
    "    return out.sort_index()\n",
    "        \n",
    "prices = get_symbols(['AAPL','CSCO'],data_source='quandl',\\\n",
    "                     begin_date='2015-01-01',end_date='2017-01-01')"
   ]
  },
  {
   "cell_type": "code",
   "execution_count": 4,
   "metadata": {},
   "outputs": [
    {
     "data": {
      "text/html": [
       "<div>\n",
       "<style scoped>\n",
       "    .dataframe tbody tr th:only-of-type {\n",
       "        vertical-align: middle;\n",
       "    }\n",
       "\n",
       "    .dataframe tbody tr th {\n",
       "        vertical-align: top;\n",
       "    }\n",
       "\n",
       "    .dataframe thead th {\n",
       "        text-align: right;\n",
       "    }\n",
       "</style>\n",
       "<table border=\"1\" class=\"dataframe\">\n",
       "  <thead>\n",
       "    <tr style=\"text-align: right;\">\n",
       "      <th></th>\n",
       "      <th></th>\n",
       "      <th>volume_change_ratio</th>\n",
       "      <th>momentum_5_day</th>\n",
       "      <th>intraday_chg</th>\n",
       "      <th>day_of_week</th>\n",
       "      <th>day_of_month</th>\n",
       "    </tr>\n",
       "    <tr>\n",
       "      <th>date</th>\n",
       "      <th>symbol</th>\n",
       "      <th></th>\n",
       "      <th></th>\n",
       "      <th></th>\n",
       "      <th></th>\n",
       "      <th></th>\n",
       "    </tr>\n",
       "  </thead>\n",
       "  <tbody>\n",
       "    <tr>\n",
       "      <th rowspan=\"2\" valign=\"top\">2016-12-23</th>\n",
       "      <th>AAPL</th>\n",
       "      <td>-0.453747</td>\n",
       "      <td>0.004743</td>\n",
       "      <td>0.008046</td>\n",
       "      <td>4</td>\n",
       "      <td>23</td>\n",
       "    </tr>\n",
       "    <tr>\n",
       "      <th>CSCO</th>\n",
       "      <td>-0.291298</td>\n",
       "      <td>-0.001961</td>\n",
       "      <td>-0.000327</td>\n",
       "      <td>4</td>\n",
       "      <td>23</td>\n",
       "    </tr>\n",
       "    <tr>\n",
       "      <th rowspan=\"2\" valign=\"top\">2016-12-27</th>\n",
       "      <th>AAPL</th>\n",
       "      <td>0.284036</td>\n",
       "      <td>0.005316</td>\n",
       "      <td>0.006351</td>\n",
       "      <td>1</td>\n",
       "      <td>27</td>\n",
       "    </tr>\n",
       "    <tr>\n",
       "      <th>CSCO</th>\n",
       "      <td>0.546260</td>\n",
       "      <td>-0.002276</td>\n",
       "      <td>0.001305</td>\n",
       "      <td>1</td>\n",
       "      <td>27</td>\n",
       "    </tr>\n",
       "    <tr>\n",
       "      <th rowspan=\"2\" valign=\"top\">2016-12-28</th>\n",
       "      <th>AAPL</th>\n",
       "      <td>0.142595</td>\n",
       "      <td>-0.001625</td>\n",
       "      <td>-0.006467</td>\n",
       "      <td>2</td>\n",
       "      <td>28</td>\n",
       "    </tr>\n",
       "    <tr>\n",
       "      <th>CSCO</th>\n",
       "      <td>-0.151900</td>\n",
       "      <td>-0.004581</td>\n",
       "      <td>-0.009121</td>\n",
       "      <td>2</td>\n",
       "      <td>28</td>\n",
       "    </tr>\n",
       "    <tr>\n",
       "      <th rowspan=\"2\" valign=\"top\">2016-12-29</th>\n",
       "      <th>AAPL</th>\n",
       "      <td>-0.280609</td>\n",
       "      <td>-0.002819</td>\n",
       "      <td>0.002404</td>\n",
       "      <td>3</td>\n",
       "      <td>29</td>\n",
       "    </tr>\n",
       "    <tr>\n",
       "      <th>CSCO</th>\n",
       "      <td>-0.085396</td>\n",
       "      <td>0.001315</td>\n",
       "      <td>0.002963</td>\n",
       "      <td>3</td>\n",
       "      <td>29</td>\n",
       "    </tr>\n",
       "    <tr>\n",
       "      <th rowspan=\"2\" valign=\"top\">2016-12-30</th>\n",
       "      <th>AAPL</th>\n",
       "      <td>1.033726</td>\n",
       "      <td>-0.004042</td>\n",
       "      <td>-0.007115</td>\n",
       "      <td>4</td>\n",
       "      <td>30</td>\n",
       "    </tr>\n",
       "    <tr>\n",
       "      <th>CSCO</th>\n",
       "      <td>0.836194</td>\n",
       "      <td>-0.007879</td>\n",
       "      <td>-0.011126</td>\n",
       "      <td>4</td>\n",
       "      <td>30</td>\n",
       "    </tr>\n",
       "  </tbody>\n",
       "</table>\n",
       "</div>"
      ],
      "text/plain": [
       "                   volume_change_ratio  momentum_5_day  intraday_chg  \\\n",
       "date       symbol                                                      \n",
       "2016-12-23 AAPL              -0.453747        0.004743      0.008046   \n",
       "           CSCO              -0.291298       -0.001961     -0.000327   \n",
       "2016-12-27 AAPL               0.284036        0.005316      0.006351   \n",
       "           CSCO               0.546260       -0.002276      0.001305   \n",
       "2016-12-28 AAPL               0.142595       -0.001625     -0.006467   \n",
       "           CSCO              -0.151900       -0.004581     -0.009121   \n",
       "2016-12-29 AAPL              -0.280609       -0.002819      0.002404   \n",
       "           CSCO              -0.085396        0.001315      0.002963   \n",
       "2016-12-30 AAPL               1.033726       -0.004042     -0.007115   \n",
       "           CSCO               0.836194       -0.007879     -0.011126   \n",
       "\n",
       "                   day_of_week  day_of_month  \n",
       "date       symbol                             \n",
       "2016-12-23 AAPL              4            23  \n",
       "           CSCO              4            23  \n",
       "2016-12-27 AAPL              1            27  \n",
       "           CSCO              1            27  \n",
       "2016-12-28 AAPL              2            28  \n",
       "           CSCO              2            28  \n",
       "2016-12-29 AAPL              3            29  \n",
       "           CSCO              3            29  \n",
       "2016-12-30 AAPL              4            30  \n",
       "           CSCO              4            30  "
      ]
     },
     "execution_count": 4,
     "metadata": {},
     "output_type": "execute_result"
    }
   ],
   "source": [
    "features = pd.DataFrame(index=prices.index)\n",
    "features['volume_change_ratio'] = prices.groupby(level='symbol').volume\\\n",
    ".diff(1) / prices.groupby(level='symbol').shift(1).volume\n",
    "features['momentum_5_day'] = prices.groupby(level='symbol').close\\\n",
    ".pct_change(5) \n",
    "\n",
    "features['intraday_chg'] = (prices.groupby(level='symbol').close\\\n",
    "                            .shift(0) - prices.groupby(level='symbol').open\\\n",
    "                            .shift(0))/prices.groupby(level='symbol').open.shift(0)\n",
    "\n",
    "features['day_of_week'] = features.index.get_level_values('date').weekday\n",
    "\n",
    "features['day_of_month'] = features.index.get_level_values('date').day\n",
    "\n",
    "features.dropna(inplace=True)\n",
    "features.tail(10)"
   ]
  },
  {
   "cell_type": "code",
   "execution_count": 3,
   "metadata": {},
   "outputs": [
    {
     "data": {
      "text/html": [
       "<div>\n",
       "<style scoped>\n",
       "    .dataframe tbody tr th:only-of-type {\n",
       "        vertical-align: middle;\n",
       "    }\n",
       "\n",
       "    .dataframe tbody tr th {\n",
       "        vertical-align: top;\n",
       "    }\n",
       "\n",
       "    .dataframe thead th {\n",
       "        text-align: right;\n",
       "    }\n",
       "</style>\n",
       "<table border=\"1\" class=\"dataframe\">\n",
       "  <thead>\n",
       "    <tr style=\"text-align: right;\">\n",
       "      <th></th>\n",
       "      <th></th>\n",
       "      <th>open_1</th>\n",
       "      <th>close_1</th>\n",
       "      <th>close_5</th>\n",
       "    </tr>\n",
       "    <tr>\n",
       "      <th>date</th>\n",
       "      <th>symbol</th>\n",
       "      <th></th>\n",
       "      <th></th>\n",
       "      <th></th>\n",
       "    </tr>\n",
       "  </thead>\n",
       "  <tbody>\n",
       "    <tr>\n",
       "      <th>2016-12-20</th>\n",
       "      <th>CSCO</th>\n",
       "      <td>0.004254</td>\n",
       "      <td>0.004602</td>\n",
       "      <td>0.004602</td>\n",
       "    </tr>\n",
       "    <tr>\n",
       "      <th rowspan=\"2\" valign=\"top\">2016-12-21</th>\n",
       "      <th>AAPL</th>\n",
       "      <td>-0.006065</td>\n",
       "      <td>0.006621</td>\n",
       "      <td>0.002827</td>\n",
       "    </tr>\n",
       "    <tr>\n",
       "      <th>CSCO</th>\n",
       "      <td>-0.000657</td>\n",
       "      <td>-0.001313</td>\n",
       "      <td>-0.001313</td>\n",
       "    </tr>\n",
       "    <tr>\n",
       "      <th rowspan=\"2\" valign=\"top\">2016-12-22</th>\n",
       "      <th>AAPL</th>\n",
       "      <td>-0.006019</td>\n",
       "      <td>-0.001974</td>\n",
       "      <td>0.004058</td>\n",
       "    </tr>\n",
       "    <tr>\n",
       "      <th>CSCO</th>\n",
       "      <td>0.002626</td>\n",
       "      <td>-0.002293</td>\n",
       "      <td>0.007942</td>\n",
       "    </tr>\n",
       "    <tr>\n",
       "      <th rowspan=\"2\" valign=\"top\">2016-12-23</th>\n",
       "      <th>AAPL</th>\n",
       "      <td>0.000000</td>\n",
       "      <td>-0.006311</td>\n",
       "      <td>NaN</td>\n",
       "    </tr>\n",
       "    <tr>\n",
       "      <th>CSCO</th>\n",
       "      <td>0.003603</td>\n",
       "      <td>-0.004889</td>\n",
       "      <td>NaN</td>\n",
       "    </tr>\n",
       "    <tr>\n",
       "      <th rowspan=\"2\" valign=\"top\">2016-12-27</th>\n",
       "      <th>AAPL</th>\n",
       "      <td>0.002217</td>\n",
       "      <td>0.004282</td>\n",
       "      <td>NaN</td>\n",
       "    </tr>\n",
       "    <tr>\n",
       "      <th>CSCO</th>\n",
       "      <td>0.000652</td>\n",
       "      <td>0.008547</td>\n",
       "      <td>NaN</td>\n",
       "    </tr>\n",
       "    <tr>\n",
       "      <th rowspan=\"2\" valign=\"top\">2016-12-28</th>\n",
       "      <th>AAPL</th>\n",
       "      <td>-0.002655</td>\n",
       "      <td>0.000257</td>\n",
       "      <td>NaN</td>\n",
       "    </tr>\n",
       "    <tr>\n",
       "      <th>CSCO</th>\n",
       "      <td>-0.001644</td>\n",
       "      <td>-0.001313</td>\n",
       "      <td>NaN</td>\n",
       "    </tr>\n",
       "    <tr>\n",
       "      <th rowspan=\"2\" valign=\"top\">2016-12-29</th>\n",
       "      <th>AAPL</th>\n",
       "      <td>-0.000685</td>\n",
       "      <td>0.007857</td>\n",
       "      <td>NaN</td>\n",
       "    </tr>\n",
       "    <tr>\n",
       "      <th>CSCO</th>\n",
       "      <td>0.003283</td>\n",
       "      <td>0.007942</td>\n",
       "      <td>NaN</td>\n",
       "    </tr>\n",
       "    <tr>\n",
       "      <th rowspan=\"2\" valign=\"top\">2016-12-30</th>\n",
       "      <th>AAPL</th>\n",
       "      <td>NaN</td>\n",
       "      <td>NaN</td>\n",
       "      <td>NaN</td>\n",
       "    </tr>\n",
       "    <tr>\n",
       "      <th>CSCO</th>\n",
       "      <td>NaN</td>\n",
       "      <td>NaN</td>\n",
       "      <td>NaN</td>\n",
       "    </tr>\n",
       "  </tbody>\n",
       "</table>\n",
       "</div>"
      ],
      "text/plain": [
       "                     open_1   close_1   close_5\n",
       "date       symbol                              \n",
       "2016-12-20 CSCO    0.004254  0.004602  0.004602\n",
       "2016-12-21 AAPL   -0.006065  0.006621  0.002827\n",
       "           CSCO   -0.000657 -0.001313 -0.001313\n",
       "2016-12-22 AAPL   -0.006019 -0.001974  0.004058\n",
       "           CSCO    0.002626 -0.002293  0.007942\n",
       "2016-12-23 AAPL    0.000000 -0.006311       NaN\n",
       "           CSCO    0.003603 -0.004889       NaN\n",
       "2016-12-27 AAPL    0.002217  0.004282       NaN\n",
       "           CSCO    0.000652  0.008547       NaN\n",
       "2016-12-28 AAPL   -0.002655  0.000257       NaN\n",
       "           CSCO   -0.001644 -0.001313       NaN\n",
       "2016-12-29 AAPL   -0.000685  0.007857       NaN\n",
       "           CSCO    0.003283  0.007942       NaN\n",
       "2016-12-30 AAPL         NaN       NaN       NaN\n",
       "           CSCO         NaN       NaN       NaN"
      ]
     },
     "execution_count": 3,
     "metadata": {},
     "output_type": "execute_result"
    }
   ],
   "source": [
    "outcomes = pd.DataFrame(index=prices.index)\n",
    "# next day's opening change\n",
    "outcomes['open_1'] = prices.groupby(level='symbol').open.shift(-1)\\\n",
    "/prices.groupby(level='symbol').close.shift(0)-1\n",
    "# next day's closing change\n",
    "func_one_day_ahead = lambda x: x.pct_change(-1)\n",
    "outcomes['close_1'] = prices.groupby(level='symbol').close\\\n",
    ".apply(func_one_day_ahead)\n",
    "func_five_day_ahead = lambda x: x.pct_change(-5)\n",
    "outcomes['close_5'] = prices.groupby(level='symbol').close\\\n",
    ".apply(func_five_day_ahead)\n",
    "\n",
    "(outcomes.tail(15))"
   ]
  },
  {
   "cell_type": "code",
   "execution_count": 5,
   "metadata": {},
   "outputs": [
    {
     "name": "stdout",
     "output_type": "stream",
     "text": [
      "(996,)\n",
      "(996, 5)\n"
     ]
    }
   ],
   "source": [
    "# first, create y (a series) and X (a dataframe), with only rows where \n",
    "# a valid value exists for both y and X\n",
    "y = outcomes.close_1\n",
    "X = features\n",
    "Xy = X.join(y).dropna()\n",
    "y = Xy[y.name]\n",
    "X = Xy[X.columns]\n",
    "print(y.shape)\n",
    "print(X.shape)"
   ]
  },
  {
   "cell_type": "code",
   "execution_count": 6,
   "metadata": {},
   "outputs": [
    {
     "name": "stdout",
     "output_type": "stream",
     "text": [
      "Model RSQ: 0.015983471655375392\n",
      "Coefficients: \n"
     ]
    },
    {
     "data": {
      "text/plain": [
       "intraday_chg           0.150482\n",
       "volume_change_ratio    0.000976\n",
       "day_of_month           0.000036\n",
       "day_of_week           -0.000427\n",
       "momentum_5_day        -0.005543\n",
       "dtype: float64"
      ]
     },
     "execution_count": 6,
     "metadata": {},
     "output_type": "execute_result"
    }
   ],
   "source": [
    "from sklearn.linear_model import LinearRegression\n",
    "\n",
    "model = LinearRegression()\n",
    "model.fit(X,y)\n",
    "print(\"Model RSQ: \"+ str(model.score(X,y)))\n",
    "\n",
    "print(\"Coefficients: \")\n",
    "pd.Series(model.coef_,index=X.columns).sort_values(ascending=False)"
   ]
  },
  {
   "cell_type": "code",
   "execution_count": 7,
   "metadata": {},
   "outputs": [
    {
     "name": "stdout",
     "output_type": "stream",
     "text": [
      "(996,)\n",
      "(996, 5)\n",
      "Model Score: 0.7914617831616241\n",
      "Feature Importance: \n"
     ]
    },
    {
     "data": {
      "text/plain": [
       "intraday_chg           0.302393\n",
       "momentum_5_day         0.264553\n",
       "volume_change_ratio    0.227618\n",
       "day_of_month           0.136617\n",
       "day_of_week            0.068819\n",
       "dtype: float64"
      ]
     },
     "execution_count": 7,
     "metadata": {},
     "output_type": "execute_result"
    }
   ],
   "source": [
    "from sklearn.ensemble import RandomForestRegressor\n",
    "\n",
    "y = outcomes.open_1\n",
    "X = features\n",
    "Xy = X.join(y).dropna()\n",
    "y = Xy[y.name]\n",
    "X = Xy[X.columns]\n",
    "print(y.shape)\n",
    "print(X.shape)\n",
    "\n",
    "model = RandomForestRegressor(max_features=3)\n",
    "model.fit(X,y)\n",
    "print(\"Model Score: \"+ str(model.score(X,y)))\n",
    "\n",
    "print(\"Feature Importance: \")\n",
    "pd.Series(model.feature_importances_,index=X.columns)\\\n",
    ".sort_values(ascending=False)"
   ]
  },
  {
   "cell_type": "code",
   "execution_count": 8,
   "metadata": {},
   "outputs": [
    {
     "data": {
      "text/plain": [
       "date        symbol\n",
       "2016-12-22  AAPL     -0.004374\n",
       "            CSCO      0.002432\n",
       "2016-12-23  AAPL     -0.001465\n",
       "            CSCO      0.002258\n",
       "2016-12-27  AAPL      0.004360\n",
       "            CSCO     -0.003863\n",
       "2016-12-28  AAPL     -0.001849\n",
       "            CSCO     -0.000694\n",
       "2016-12-29  AAPL      0.002109\n",
       "            CSCO      0.000512\n",
       "dtype: float64"
      ]
     },
     "execution_count": 8,
     "metadata": {},
     "output_type": "execute_result"
    }
   ],
   "source": [
    "pd.Series(model.predict(X),index=X.index).tail(10)"
   ]
  },
  {
   "cell_type": "markdown",
   "metadata": {},
   "source": [
    "# Feature Engineering\n",
    "\n",
    "\n",
    "https://alphascientist.com/feature_engineering.html"
   ]
  },
  {
   "cell_type": "code",
   "execution_count": 9,
   "metadata": {},
   "outputs": [],
   "source": [
    "import numpy as np\n",
    "import pandas as pd\n",
    "# https://github.com/pydata/pandas-datareader/issues/534\n",
    "import pandas_datareader.data as web\n",
    "%matplotlib inline\n",
    "\n",
    "def get_symbols(symbols,data_source, begin_date=None,end_date=None):\n",
    "    out = pd.DataFrame()\n",
    "    for symbol in symbols:\n",
    "        df = web.DataReader(symbol, data_source,begin_date, end_date)\\\n",
    "        [['AdjOpen','AdjHigh','AdjLow','AdjClose','AdjVolume']].reset_index()\n",
    "        df.columns = ['date','open','high','low','close','volume'] #my convention: always lowercase\n",
    "        df['symbol'] = symbol # add a new column which contains the symbol so we can keep multiple symbols in the same dataframe\n",
    "        df = df.set_index(['date','symbol'])\n",
    "        out = pd.concat([out,df],axis=0) #stacks on top of previously collected data\n",
    "    return out.sort_index()\n",
    "        \n",
    "prices = get_symbols(['AAPL','CSCO'],data_source='quandl',\\\n",
    "                     begin_date='2015-01-01',end_date='2017-01-01')"
   ]
  },
  {
   "cell_type": "code",
   "execution_count": 10,
   "metadata": {},
   "outputs": [
    {
     "data": {
      "text/html": [
       "<div>\n",
       "<style scoped>\n",
       "    .dataframe tbody tr th:only-of-type {\n",
       "        vertical-align: middle;\n",
       "    }\n",
       "\n",
       "    .dataframe tbody tr th {\n",
       "        vertical-align: top;\n",
       "    }\n",
       "\n",
       "    .dataframe thead th {\n",
       "        text-align: right;\n",
       "    }\n",
       "</style>\n",
       "<table border=\"1\" class=\"dataframe\">\n",
       "  <thead>\n",
       "    <tr style=\"text-align: right;\">\n",
       "      <th></th>\n",
       "      <th></th>\n",
       "      <th>f01</th>\n",
       "      <th>f02</th>\n",
       "    </tr>\n",
       "    <tr>\n",
       "      <th>date</th>\n",
       "      <th>symbol</th>\n",
       "      <th></th>\n",
       "      <th></th>\n",
       "    </tr>\n",
       "  </thead>\n",
       "  <tbody>\n",
       "    <tr>\n",
       "      <th>2016-12-28</th>\n",
       "      <th>CSCO</th>\n",
       "      <td>-0.009121</td>\n",
       "      <td>0.000652</td>\n",
       "    </tr>\n",
       "    <tr>\n",
       "      <th rowspan=\"2\" valign=\"top\">2016-12-29</th>\n",
       "      <th>AAPL</th>\n",
       "      <td>0.002404</td>\n",
       "      <td>-0.002655</td>\n",
       "    </tr>\n",
       "    <tr>\n",
       "      <th>CSCO</th>\n",
       "      <td>0.002963</td>\n",
       "      <td>-0.001644</td>\n",
       "    </tr>\n",
       "    <tr>\n",
       "      <th rowspan=\"2\" valign=\"top\">2016-12-30</th>\n",
       "      <th>AAPL</th>\n",
       "      <td>-0.007115</td>\n",
       "      <td>-0.000685</td>\n",
       "    </tr>\n",
       "    <tr>\n",
       "      <th>CSCO</th>\n",
       "      <td>-0.011126</td>\n",
       "      <td>0.003283</td>\n",
       "    </tr>\n",
       "  </tbody>\n",
       "</table>\n",
       "</div>"
      ],
      "text/plain": [
       "                        f01       f02\n",
       "date       symbol                    \n",
       "2016-12-28 CSCO   -0.009121  0.000652\n",
       "2016-12-29 AAPL    0.002404 -0.002655\n",
       "           CSCO    0.002963 -0.001644\n",
       "2016-12-30 AAPL   -0.007115 -0.000685\n",
       "           CSCO   -0.011126  0.003283"
      ]
     },
     "execution_count": 10,
     "metadata": {},
     "output_type": "execute_result"
    }
   ],
   "source": [
    "features = pd.DataFrame(index=prices.index).sort_index()\n",
    "features['f01'] = prices.close/prices.open-1 # daily return\n",
    "features['f02'] = prices.open/prices.groupby(level='symbol').close.shift(1)-1 \n",
    "features.tail()"
   ]
  },
  {
   "cell_type": "markdown",
   "metadata": {},
   "source": [
    "### Logs"
   ]
  },
  {
   "cell_type": "code",
   "execution_count": 13,
   "metadata": {},
   "outputs": [],
   "source": [
    "features['f03'] = prices.volume.apply(np.log) # log of daily volume"
   ]
  },
  {
   "cell_type": "markdown",
   "metadata": {},
   "source": [
    "### Differencing"
   ]
  },
  {
   "cell_type": "code",
   "execution_count": 14,
   "metadata": {},
   "outputs": [],
   "source": [
    "features['f03'] = prices.groupby(level='symbol').volume.diff() # change since prior day\n",
    "features['f04'] = prices.groupby(level='symbol').volume.diff(50) # chhange since 50 days prior"
   ]
  },
  {
   "cell_type": "markdown",
   "metadata": {},
   "source": [
    "### Rate of Change"
   ]
  },
  {
   "cell_type": "code",
   "execution_count": 15,
   "metadata": {},
   "outputs": [],
   "source": [
    "pct_chg_fxn = lambda x: x.pct_change()\n",
    "features['f05'] = prices.groupby(level='symbol').volume.apply(pct_chg_fxn) "
   ]
  },
  {
   "cell_type": "markdown",
   "metadata": {},
   "source": [
    "### Moving Averages"
   ]
  },
  {
   "cell_type": "code",
   "execution_count": 16,
   "metadata": {},
   "outputs": [],
   "source": [
    "# log of 5 day moving average of volume\n",
    "ma_5 = lambda x: x.rolling(5).mean()\n",
    "features['f06'] = prices.volume.groupby(level='symbol').apply(ma_5)\\\n",
    ".apply(np.log) \n",
    "\n",
    "# daily volume vs. 200 day moving average\n",
    "ma_200 = lambda x: x.rolling(200).mean()\n",
    "features['f07'] = prices.volume/ prices.volume.groupby(level='symbol')\\\n",
    ".apply(ma_200)-1\n",
    "\n",
    "# daily closing price vs. 50 day exponential moving avg\n",
    "ema_50 = lambda x: x.ewm(span=50).mean()\n",
    "features['f08'] = prices.close/ prices.close.groupby(level='symbol')\\\n",
    ".apply(ema_50)-1"
   ]
  },
  {
   "cell_type": "markdown",
   "metadata": {},
   "source": [
    "### Z-Scores"
   ]
  },
  {
   "cell_type": "code",
   "execution_count": 18,
   "metadata": {},
   "outputs": [
    {
     "data": {
      "text/plain": [
       "<matplotlib.axes._subplots.AxesSubplot at 0x1d684a7ac50>"
      ]
     },
     "execution_count": 18,
     "metadata": {},
     "output_type": "execute_result"
    },
    {
     "data": {
      "image/png": "[encoded data removed]",
      "text/plain": [
       "<matplotlib.figure.Figure at 0x1d684b23080>"
      ]
     },
     "metadata": {},
     "output_type": "display_data"
    }
   ],
   "source": [
    "zscore_fun_improved = lambda x: (x - x.rolling(window=200, min_periods=20).mean())\\\n",
    "/ x.rolling(window=200, min_periods=20).std()\n",
    "features['f10'] =prices.groupby(level='symbol').close.apply(zscore_fun_improved)\n",
    "features.f10.unstack().plot.kde(title='Z-Scores (accurate)')"
   ]
  },
  {
   "cell_type": "markdown",
   "metadata": {},
   "source": [
    "### Percentile"
   ]
  },
  {
   "cell_type": "code",
   "execution_count": 19,
   "metadata": {},
   "outputs": [],
   "source": [
    "rollrank_fxn = lambda x: x.rolling(200,min_periods=20)\\\n",
    ".apply(lambda x: pd.Series(x).rank(pct=True)[0])\n",
    "features['f11'] = prices.groupby(level='symbol').volume.apply(rollrank_fxn)"
   ]
  },
  {
   "cell_type": "markdown",
   "metadata": {},
   "source": [
    "### Cross-Sectional Rank"
   ]
  },
  {
   "cell_type": "code",
   "execution_count": 20,
   "metadata": {},
   "outputs": [],
   "source": [
    "features['f12'] = features['f07'].dropna().groupby(level='date').rank(pct=True) "
   ]
  },
  {
   "cell_type": "markdown",
   "metadata": {},
   "source": [
    "### Technical Analysis"
   ]
  },
  {
   "cell_type": "code",
   "execution_count": 21,
   "metadata": {},
   "outputs": [
    {
     "ename": "ModuleNotFoundError",
     "evalue": "No module named 'ta'",
     "output_type": "error",
     "traceback": [
      "\u001b[1;31m---------------------------------------------------------------------------\u001b[0m",
      "\u001b[1;31mModuleNotFoundError\u001b[0m                       Traceback (most recent call last)",
      "\u001b[1;32m<ipython-input-21-45c4e36b8c85>\u001b[0m in \u001b[0;36m<module>\u001b[1;34m()\u001b[0m\n\u001b[1;32m----> 1\u001b[1;33m \u001b[1;32mimport\u001b[0m \u001b[0mta\u001b[0m \u001b[1;31m# technical analysis library: https://technical-analysis-library-in-python.readthedocs.io/en/latest/\u001b[0m\u001b[1;33m\u001b[0m\u001b[0m\n\u001b[0m\u001b[0;32m      2\u001b[0m \u001b[1;31m# money flow index (14 day)\u001b[0m\u001b[1;33m\u001b[0m\u001b[1;33m\u001b[0m\u001b[0m\n\u001b[0;32m      3\u001b[0m features['f13'] = ta.momentum.money_flow_index(prices.high, \n\u001b[0;32m      4\u001b[0m                                                \u001b[0mprices\u001b[0m\u001b[1;33m.\u001b[0m\u001b[0mlow\u001b[0m\u001b[1;33m,\u001b[0m \u001b[0mprices\u001b[0m\u001b[1;33m.\u001b[0m\u001b[0mclose\u001b[0m\u001b[1;33m,\u001b[0m\u001b[0;31m \u001b[0m\u001b[0;31m\\\u001b[0m\u001b[1;33m\u001b[0m\u001b[0m\n\u001b[0;32m      5\u001b[0m                                                prices.volume, n=14, fillna=False)\n",
      "\u001b[1;31mModuleNotFoundError\u001b[0m: No module named 'ta'"
     ]
    }
   ],
   "source": [
    "import ta # technical analysis library: https://technical-analysis-library-in-python.readthedocs.io/en/latest/\n",
    "# money flow index (14 day)\n",
    "features['f13'] = ta.momentum.money_flow_index(prices.high, \n",
    "                                               prices.low, prices.close, \\\n",
    "                                               prices.volume, n=14, fillna=False)\n",
    "# mean-centered money flow index\n",
    "features['f14'] = features['f13'] - features['f13']\\\n",
    ".rolling(200,min_periods=20).mean()"
   ]
  },
  {
   "cell_type": "markdown",
   "metadata": {},
   "source": [
    "## Alternative Representations\n",
    "### Binning"
   ]
  },
  {
   "cell_type": "code",
   "execution_count": 22,
   "metadata": {},
   "outputs": [],
   "source": [
    "n_bins = 10\n",
    "bin_fxn = lambda y: pd.qcut(y,q=n_bins,labels = range(1,n_bins+1))\n",
    "features['f15'] = prices.volume.groupby(level='symbol').apply(bin_fxn)"
   ]
  },
  {
   "cell_type": "markdown",
   "metadata": {},
   "source": [
    "### Signing"
   ]
  },
  {
   "cell_type": "code",
   "execution_count": 23,
   "metadata": {},
   "outputs": [],
   "source": [
    "features['f16'] = features['f05'].apply(np.sign)"
   ]
  },
  {
   "cell_type": "markdown",
   "metadata": {},
   "source": [
    "### Plus-Minus"
   ]
  },
  {
   "cell_type": "code",
   "execution_count": 24,
   "metadata": {},
   "outputs": [],
   "source": [
    "plus_minus_fxn = lambda x: x.rolling(20).sum()\n",
    "features['f17'] = features['f16'].groupby(level='symbol').apply(plus_minus_fxn)"
   ]
  },
  {
   "cell_type": "markdown",
   "metadata": {},
   "source": [
    "### One-Hot Encoding"
   ]
  },
  {
   "cell_type": "code",
   "execution_count": 25,
   "metadata": {},
   "outputs": [
    {
     "data": {
      "text/html": [
       "<div>\n",
       "<style scoped>\n",
       "    .dataframe tbody tr th:only-of-type {\n",
       "        vertical-align: middle;\n",
       "    }\n",
       "\n",
       "    .dataframe tbody tr th {\n",
       "        vertical-align: top;\n",
       "    }\n",
       "\n",
       "    .dataframe thead th {\n",
       "        text-align: right;\n",
       "    }\n",
       "</style>\n",
       "<table border=\"1\" class=\"dataframe\">\n",
       "  <thead>\n",
       "    <tr style=\"text-align: right;\">\n",
       "      <th></th>\n",
       "      <th></th>\n",
       "      <th>f18</th>\n",
       "      <th>f19</th>\n",
       "      <th>f20</th>\n",
       "      <th>f21</th>\n",
       "      <th>f22</th>\n",
       "      <th>f23</th>\n",
       "      <th>f24</th>\n",
       "      <th>f25</th>\n",
       "      <th>f26</th>\n",
       "      <th>f27</th>\n",
       "      <th>f28</th>\n",
       "      <th>f29</th>\n",
       "    </tr>\n",
       "    <tr>\n",
       "      <th>date</th>\n",
       "      <th>symbol</th>\n",
       "      <th></th>\n",
       "      <th></th>\n",
       "      <th></th>\n",
       "      <th></th>\n",
       "      <th></th>\n",
       "      <th></th>\n",
       "      <th></th>\n",
       "      <th></th>\n",
       "      <th></th>\n",
       "      <th></th>\n",
       "      <th></th>\n",
       "      <th></th>\n",
       "    </tr>\n",
       "  </thead>\n",
       "  <tbody>\n",
       "    <tr>\n",
       "      <th>2016-12-28</th>\n",
       "      <th>CSCO</th>\n",
       "      <td>0</td>\n",
       "      <td>0</td>\n",
       "      <td>0</td>\n",
       "      <td>0</td>\n",
       "      <td>0</td>\n",
       "      <td>0</td>\n",
       "      <td>0</td>\n",
       "      <td>0</td>\n",
       "      <td>0</td>\n",
       "      <td>0</td>\n",
       "      <td>0</td>\n",
       "      <td>1</td>\n",
       "    </tr>\n",
       "    <tr>\n",
       "      <th rowspan=\"2\" valign=\"top\">2016-12-29</th>\n",
       "      <th>AAPL</th>\n",
       "      <td>0</td>\n",
       "      <td>0</td>\n",
       "      <td>0</td>\n",
       "      <td>0</td>\n",
       "      <td>0</td>\n",
       "      <td>0</td>\n",
       "      <td>0</td>\n",
       "      <td>0</td>\n",
       "      <td>0</td>\n",
       "      <td>0</td>\n",
       "      <td>0</td>\n",
       "      <td>1</td>\n",
       "    </tr>\n",
       "    <tr>\n",
       "      <th>CSCO</th>\n",
       "      <td>0</td>\n",
       "      <td>0</td>\n",
       "      <td>0</td>\n",
       "      <td>0</td>\n",
       "      <td>0</td>\n",
       "      <td>0</td>\n",
       "      <td>0</td>\n",
       "      <td>0</td>\n",
       "      <td>0</td>\n",
       "      <td>0</td>\n",
       "      <td>0</td>\n",
       "      <td>1</td>\n",
       "    </tr>\n",
       "    <tr>\n",
       "      <th rowspan=\"2\" valign=\"top\">2016-12-30</th>\n",
       "      <th>AAPL</th>\n",
       "      <td>0</td>\n",
       "      <td>0</td>\n",
       "      <td>0</td>\n",
       "      <td>0</td>\n",
       "      <td>0</td>\n",
       "      <td>0</td>\n",
       "      <td>0</td>\n",
       "      <td>0</td>\n",
       "      <td>0</td>\n",
       "      <td>0</td>\n",
       "      <td>0</td>\n",
       "      <td>1</td>\n",
       "    </tr>\n",
       "    <tr>\n",
       "      <th>CSCO</th>\n",
       "      <td>0</td>\n",
       "      <td>0</td>\n",
       "      <td>0</td>\n",
       "      <td>0</td>\n",
       "      <td>0</td>\n",
       "      <td>0</td>\n",
       "      <td>0</td>\n",
       "      <td>0</td>\n",
       "      <td>0</td>\n",
       "      <td>0</td>\n",
       "      <td>0</td>\n",
       "      <td>1</td>\n",
       "    </tr>\n",
       "  </tbody>\n",
       "</table>\n",
       "</div>"
      ],
      "text/plain": [
       "                   f18  f19  f20  f21  f22  f23  f24  f25  f26  f27  f28  f29\n",
       "date       symbol                                                            \n",
       "2016-12-28 CSCO      0    0    0    0    0    0    0    0    0    0    0    1\n",
       "2016-12-29 AAPL      0    0    0    0    0    0    0    0    0    0    0    1\n",
       "           CSCO      0    0    0    0    0    0    0    0    0    0    0    1\n",
       "2016-12-30 AAPL      0    0    0    0    0    0    0    0    0    0    0    1\n",
       "           CSCO      0    0    0    0    0    0    0    0    0    0    0    1"
      ]
     },
     "execution_count": 25,
     "metadata": {},
     "output_type": "execute_result"
    }
   ],
   "source": [
    "month_of_year = prices.index.get_level_values(level='date').month\n",
    "one_hot_frame = pd.DataFrame(pd.get_dummies(month_of_year))\n",
    "one_hot_frame.index = prices.index # Careful!  This is forcing index values without usual pandas alignments!\n",
    "\n",
    "# create column names \n",
    "begin_num = int(features.columns[-1][-2:]) + 1 #first available feature\n",
    "feat_names = ['f'+str(num) for num in list(range(begin_num,begin_num+12,1))]\n",
    "\n",
    "# rename columns and merge\n",
    "one_hot_frame.columns = feat_names\n",
    "features = features.join(one_hot_frame)\n",
    "features.iloc[:,-12:].tail()"
   ]
  },
  {
   "cell_type": "code",
   "execution_count": null,
   "metadata": {},
   "outputs": [],
   "source": []
  },
  {
   "cell_type": "code",
   "execution_count": null,
   "metadata": {},
   "outputs": [],
   "source": []
  },
  {
   "cell_type": "code",
   "execution_count": null,
   "metadata": {},
   "outputs": [],
   "source": []
  }
 ],
 "metadata": {
  "kernelspec": {
   "display_name": "Python 3",
   "language": "python",
   "name": "python3"
  },
  "language_info": {
   "codemirror_mode": {
    "name": "ipython",
    "version": 3
   },
   "file_extension": ".py",
   "mimetype": "text/x-python",
   "name": "python",
   "nbconvert_exporter": "python",
   "pygments_lexer": "ipython3",
   "version": "3.6.5"
  }
 },
 "nbformat": 4,
 "nbformat_minor": 2
}
