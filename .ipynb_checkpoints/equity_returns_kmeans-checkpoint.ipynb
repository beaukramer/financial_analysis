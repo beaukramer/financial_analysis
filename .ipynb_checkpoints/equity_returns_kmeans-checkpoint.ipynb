{
 "cells": [
  {
   "cell_type": "code",
   "execution_count": 20,
   "metadata": {},
   "outputs": [],
   "source": [
    "import numpy as np\n",
    "import pandas as pd\n",
    "import matplotlib.pyplot as plt\n",
    "from pandas.core import datetools\n",
    "import quandl\n",
    "import seaborn as sns\n",
    "import statsmodels.api as sm\n",
    "authtoken=\"AmT6hbzjx59sQAvKde2L\"\n",
    "\n",
    "from sklearn.neighbors import KNeighborsRegressor\n",
    "from sklearn.linear_model import LinearRegression\n",
    "from sklearn.cluster import KMeans\n",
    "from sklearn.preprocessing import StandardScaler\n",
    "from sklearn.metrics import mean_squared_error as mse\n",
    "from sklearn.model_selection import GridSearchCV\n",
    "%matplotlib inline"
   ]
  },
  {
   "cell_type": "code",
   "execution_count": 31,
   "metadata": {},
   "outputs": [],
   "source": [
    "start_date = datetools.datetime(1900, 1, 1)\n",
    "end_date = datetools.datetime(2018, 3, 31)\n",
    "yale = quandl.get(\"YALE/SPCOMP\", start_date = start_date, end_date = end_date, authtoken=authtoken)"
   ]
  },
  {
   "cell_type": "code",
   "execution_count": 32,
   "metadata": {},
   "outputs": [],
   "source": [
    "yale.columns = ['sp_comp','dividend', 'earnings', 'cpi', 'long_int_rate',\n",
    "       'real_price', 'real_dividend', 'real_earnings',\n",
    "       'cape']"
   ]
  },
  {
   "cell_type": "code",
   "execution_count": 33,
   "metadata": {},
   "outputs": [],
   "source": [
    "yale = yale.resample('BQ').mean()"
   ]
  },
  {
   "cell_type": "markdown",
   "metadata": {},
   "source": [
    "## Feature Engineering"
   ]
  },
  {
   "cell_type": "code",
   "execution_count": 34,
   "metadata": {},
   "outputs": [],
   "source": [
    "data = pd.DataFrame()\n",
    "data.index.names = ['date']\n",
    "data['cape'] = yale.cape\n",
    "# data['cpi'] = yale.cpi\n",
    "data['long_int_rate'] = yale.long_int_rate"
   ]
  },
  {
   "cell_type": "code",
   "execution_count": 35,
   "metadata": {},
   "outputs": [],
   "source": [
    "def Annualize(data, n, freq):\n",
    "    temp = data.pct_change(n*freq)\n",
    "    output = ((1 + temp) ** (1/n)) -1\n",
    "    return output\n",
    "\n",
    "# Create Target Variable\n",
    "# data['fwd_10yr_ret'] = Annualize(data=yale.sp_comp, n=10, freq=12).shift(-120)\n",
    "data['fwd_10yr_ret'] = Annualize(data=yale.sp_comp, n=10, freq=4).shift(-40)\n",
    "\n",
    "# Yield features\n",
    "data['real_earnings_yield'] = yale.real_earnings / yale.real_price\n",
    "data['real_dividend_yield'] = yale.real_dividend / yale.real_price\n",
    "\n",
    "# # Growth and Inflation Features\n",
    "# yale['inflation_12m'] = Annualize(data=yale.cpi, n=1, freq=12)\n",
    "# yale['inflation_5y'] = Annualize(data=yale.cpi, n=5, freq=12)\n",
    "\n",
    "# yale['egrowth_12m'] =  Annualize(data=yale.real_earnings, n=1, freq=12)\n",
    "# yale['egrowth_5y'] =  Annualize(data=yale.real_earnings, n=5, freq=12)\n",
    "# yale['egrowth_10y'] =  Annualize(data=yale.real_earnings, n=10, freq=12)"
   ]
  },
  {
   "cell_type": "code",
   "execution_count": 36,
   "metadata": {},
   "outputs": [
    {
     "data": {
      "text/html": [
       "<div>\n",
       "<style scoped>\n",
       "    .dataframe tbody tr th:only-of-type {\n",
       "        vertical-align: middle;\n",
       "    }\n",
       "\n",
       "    .dataframe tbody tr th {\n",
       "        vertical-align: top;\n",
       "    }\n",
       "\n",
       "    .dataframe thead th {\n",
       "        text-align: right;\n",
       "    }\n",
       "</style>\n",
       "<table border=\"1\" class=\"dataframe\">\n",
       "  <thead>\n",
       "    <tr style=\"text-align: right;\">\n",
       "      <th></th>\n",
       "      <th>cape</th>\n",
       "      <th>long_int_rate</th>\n",
       "      <th>fwd_10yr_ret</th>\n",
       "      <th>real_earnings_yield</th>\n",
       "      <th>real_dividend_yield</th>\n",
       "    </tr>\n",
       "    <tr>\n",
       "      <th>Year</th>\n",
       "      <th></th>\n",
       "      <th></th>\n",
       "      <th></th>\n",
       "      <th></th>\n",
       "      <th></th>\n",
       "    </tr>\n",
       "  </thead>\n",
       "  <tbody>\n",
       "    <tr>\n",
       "      <th>1900-03-30</th>\n",
       "      <td>18.689036</td>\n",
       "      <td>3.147917</td>\n",
       "      <td>0.048886</td>\n",
       "      <td>0.077990</td>\n",
       "      <td>0.035945</td>\n",
       "    </tr>\n",
       "    <tr>\n",
       "      <th>1900-06-29</th>\n",
       "      <td>18.705131</td>\n",
       "      <td>3.137500</td>\n",
       "      <td>0.042934</td>\n",
       "      <td>0.077271</td>\n",
       "      <td>0.038645</td>\n",
       "    </tr>\n",
       "    <tr>\n",
       "      <th>1900-09-28</th>\n",
       "      <td>17.917291</td>\n",
       "      <td>3.125000</td>\n",
       "      <td>0.041025</td>\n",
       "      <td>0.081539</td>\n",
       "      <td>0.044591</td>\n",
       "    </tr>\n",
       "    <tr>\n",
       "      <th>1900-12-31</th>\n",
       "      <td>18.901977</td>\n",
       "      <td>3.110417</td>\n",
       "      <td>0.040048</td>\n",
       "      <td>0.076272</td>\n",
       "      <td>0.045893</td>\n",
       "    </tr>\n",
       "    <tr>\n",
       "      <th>1901-03-29</th>\n",
       "      <td>21.328866</td>\n",
       "      <td>3.103333</td>\n",
       "      <td>0.026136</td>\n",
       "      <td>0.067384</td>\n",
       "      <td>0.042246</td>\n",
       "    </tr>\n",
       "  </tbody>\n",
       "</table>\n",
       "</div>"
      ],
      "text/plain": [
       "                 cape  long_int_rate  fwd_10yr_ret  real_earnings_yield  \\\n",
       "Year                                                                      \n",
       "1900-03-30  18.689036       3.147917      0.048886             0.077990   \n",
       "1900-06-29  18.705131       3.137500      0.042934             0.077271   \n",
       "1900-09-28  17.917291       3.125000      0.041025             0.081539   \n",
       "1900-12-31  18.901977       3.110417      0.040048             0.076272   \n",
       "1901-03-29  21.328866       3.103333      0.026136             0.067384   \n",
       "\n",
       "            real_dividend_yield  \n",
       "Year                             \n",
       "1900-03-30             0.035945  \n",
       "1900-06-29             0.038645  \n",
       "1900-09-28             0.044591  \n",
       "1900-12-31             0.045893  \n",
       "1901-03-29             0.042246  "
      ]
     },
     "metadata": {},
     "output_type": "display_data"
    },
    {
     "data": {
      "text/html": [
       "<div>\n",
       "<style scoped>\n",
       "    .dataframe tbody tr th:only-of-type {\n",
       "        vertical-align: middle;\n",
       "    }\n",
       "\n",
       "    .dataframe tbody tr th {\n",
       "        vertical-align: top;\n",
       "    }\n",
       "\n",
       "    .dataframe thead th {\n",
       "        text-align: right;\n",
       "    }\n",
       "</style>\n",
       "<table border=\"1\" class=\"dataframe\">\n",
       "  <thead>\n",
       "    <tr style=\"text-align: right;\">\n",
       "      <th></th>\n",
       "      <th>cape</th>\n",
       "      <th>long_int_rate</th>\n",
       "      <th>fwd_10yr_ret</th>\n",
       "      <th>real_earnings_yield</th>\n",
       "      <th>real_dividend_yield</th>\n",
       "    </tr>\n",
       "    <tr>\n",
       "      <th>Year</th>\n",
       "      <th></th>\n",
       "      <th></th>\n",
       "      <th></th>\n",
       "      <th></th>\n",
       "      <th></th>\n",
       "    </tr>\n",
       "  </thead>\n",
       "  <tbody>\n",
       "    <tr>\n",
       "      <th>2017-06-30</th>\n",
       "      <td>29.322031</td>\n",
       "      <td>2.263333</td>\n",
       "      <td>NaN</td>\n",
       "      <td>0.042891</td>\n",
       "      <td>0.019589</td>\n",
       "    </tr>\n",
       "    <tr>\n",
       "      <th>2017-09-29</th>\n",
       "      <td>29.958590</td>\n",
       "      <td>2.265000</td>\n",
       "      <td>NaN</td>\n",
       "      <td>0.042991</td>\n",
       "      <td>0.019426</td>\n",
       "    </tr>\n",
       "    <tr>\n",
       "      <th>2017-12-29</th>\n",
       "      <td>30.795807</td>\n",
       "      <td>2.303333</td>\n",
       "      <td>NaN</td>\n",
       "      <td>0.042394</td>\n",
       "      <td>0.019006</td>\n",
       "    </tr>\n",
       "    <tr>\n",
       "      <th>2018-03-30</th>\n",
       "      <td>32.476286</td>\n",
       "      <td>2.613333</td>\n",
       "      <td>NaN</td>\n",
       "      <td>0.041081</td>\n",
       "      <td>0.018122</td>\n",
       "    </tr>\n",
       "    <tr>\n",
       "      <th>2018-06-29</th>\n",
       "      <td>31.808409</td>\n",
       "      <td>2.840000</td>\n",
       "      <td>NaN</td>\n",
       "      <td>0.042712</td>\n",
       "      <td>0.018500</td>\n",
       "    </tr>\n",
       "  </tbody>\n",
       "</table>\n",
       "</div>"
      ],
      "text/plain": [
       "                 cape  long_int_rate  fwd_10yr_ret  real_earnings_yield  \\\n",
       "Year                                                                      \n",
       "2017-06-30  29.322031       2.263333           NaN             0.042891   \n",
       "2017-09-29  29.958590       2.265000           NaN             0.042991   \n",
       "2017-12-29  30.795807       2.303333           NaN             0.042394   \n",
       "2018-03-30  32.476286       2.613333           NaN             0.041081   \n",
       "2018-06-29  31.808409       2.840000           NaN             0.042712   \n",
       "\n",
       "            real_dividend_yield  \n",
       "Year                             \n",
       "2017-06-30             0.019589  \n",
       "2017-09-29             0.019426  \n",
       "2017-12-29             0.019006  \n",
       "2018-03-30             0.018122  \n",
       "2018-06-29             0.018500  "
      ]
     },
     "metadata": {},
     "output_type": "display_data"
    }
   ],
   "source": [
    "display(data.head())\n",
    "display(data.tail())"
   ]
  },
  {
   "cell_type": "code",
   "execution_count": 40,
   "metadata": {},
   "outputs": [],
   "source": [
    "current_data = data[data.isnull().any(axis=1)]\n",
    "data = data.dropna() # remove first rows where NAs are present due to growth/forward\n",
    "X = data.drop('fwd_10yr_ret', axis=1)\n",
    "y = data.loc[:,'fwd_10yr_ret']\n",
    "std_scaler = StandardScaler()\n",
    "X = std_scaler.fit_transform(X)"
   ]
  },
  {
   "cell_type": "code",
   "execution_count": 41,
   "metadata": {},
   "outputs": [
    {
     "name": "stdout",
     "output_type": "stream",
     "text": [
      "                 cape  long_int_rate  fwd_10yr_ret  real_earnings_yield  \\\n",
      "Year                                                                      \n",
      "2008-06-30  23.156429       3.886667      0.070180             0.039654   \n",
      "2008-03-31  23.374797       3.663333      0.072540             0.046158   \n",
      "2003-06-30  23.617081       3.620000      0.054001             0.035331   \n",
      "2003-03-31  21.807390       3.920000      0.056968             0.034195   \n",
      "2002-12-31  22.802024       4.006667      0.048406             0.031992   \n",
      "\n",
      "            real_dividend_yield  \n",
      "Year                             \n",
      "2008-06-30             0.020829  \n",
      "2008-03-31             0.020817  \n",
      "2003-06-30             0.017256  \n",
      "2003-03-31             0.018803  \n",
      "2002-12-31             0.017997  \n"
     ]
    }
   ],
   "source": [
    "knn = KNeighborsRegressor(n_neighbors=5, weights='distance')\n",
    "knn.fit(X, y)\n",
    "neighbors = knn.kneighbors(X=[X[-1,:]], n_neighbors=5)[1]\n",
    "for item in neighbors:\n",
    "    print(data.iloc[item,:])"
   ]
  },
  {
   "cell_type": "code",
   "execution_count": 47,
   "metadata": {},
   "outputs": [
    {
     "name": "stdout",
     "output_type": "stream",
     "text": [
      "Training on the first 12 records, through 1910-12-31 00:00:00\n",
      "Training on the first 132 records, through 1920-12-31 00:00:00\n",
      "Training on the first 252 records, through 1930-12-31 00:00:00\n",
      "Training on the first 372 records, through 1940-12-31 00:00:00\n",
      "Training on the first 492 records, through 1950-12-31 00:00:00\n",
      "Training on the first 612 records, through 1960-12-31 00:00:00\n",
      "Training on the first 732 records, through 1970-12-31 00:00:00\n",
      "Training on the first 852 records, through 1980-12-31 00:00:00\n",
      "Training on the first 972 records, through 1990-12-31 00:00:00\n",
      "Training on the first 1092 records, through 2000-12-31 00:00:00\n"
     ]
    }
   ],
   "source": [
    "recalc_dates = data.resample('10A',level='date').mean().index.values[:-1] # create recalc dates, the start of each decade, to use when walking forward\n",
    "models = pd.Series(index=recalc_dates) # create models series to hold models as they are walked forward. keeps appropriately time stamped.\n",
    "scalers = pd.Series(index=recalc_dates) # create models series to hold models as they are walked forward. keeps appropriately time stamped.\n",
    "\n",
    "for date in recalc_dates:\n",
    "    std_scaler = StandardScaler()\n",
    "    X_train = std_scaler.fit_transform(X.loc[:date,:])\n",
    "    y_train = y.loc[:date]\n",
    "    model = KNeighborsRegressor(n_neighbors=5, weights='distance')\n",
    "    model.fit(X_train,y_train)\n",
    "    models.loc[date] = model\n",
    "    std_scaler.fit(X.loc[:date,:])\n",
    "    scalers.loc[date] = std_scaler\n",
    "    \n",
    "    \n",
    "    print(\"Training on the first {} records, through {}\"\\\n",
    "          .format(len(y_train),y_train.index.get_level_values('date').max()))"
   ]
  },
  {
   "cell_type": "code",
   "execution_count": 48,
   "metadata": {},
   "outputs": [
    {
     "data": {
      "text/plain": [
       "(1179,)"
      ]
     },
     "execution_count": 48,
     "metadata": {},
     "output_type": "execute_result"
    }
   ],
   "source": [
    "begin_dates = models.index\n",
    "end_dates = models.index[1:].append(pd.to_datetime(['2099-12-31']))\n",
    "\n",
    "predictions = pd.Series(index=data.index)\n",
    "\n",
    "for i,model in enumerate(models): #loop thru each models object in collection\n",
    "    X_temp = X[str(begin_dates[i]):str(end_dates[i])]\n",
    "    X_temp = pd.DataFrame(scalers[i].fit_transform(X_temp), index=X_temp.index)\n",
    "    p = pd.Series(model.predict(X_temp),index=X_temp.index)\n",
    "    predictions.loc[X_temp.index] = p\n",
    "\n",
    "predictions.shape"
   ]
  },
  {
   "cell_type": "code",
   "execution_count": 49,
   "metadata": {},
   "outputs": [
    {
     "name": "stdout",
     "output_type": "stream",
     "text": [
      "MSE: 0.005\n"
     ]
    }
   ],
   "source": [
    "from sklearn.metrics import r2_score\n",
    "\n",
    "rsq = mse(y_true = y[predictions.isna()==False],y_pred=predictions.dropna())\n",
    "print(\"MSE: {}\".format(round(rsq,3)))"
   ]
  },
  {
   "cell_type": "code",
   "execution_count": 63,
   "metadata": {},
   "outputs": [
    {
     "data": {
      "text/plain": [
       "array([-0.02611915, -0.02611899, -0.02611869, -0.02611879, -0.02611883])"
      ]
     },
     "execution_count": 63,
     "metadata": {},
     "output_type": "execute_result"
    }
   ],
   "source": [
    "data_recent = yale.tail()\n",
    "data_recent = data_recent.drop(remove_variables, axis=1)\n",
    "data_recent = data_recent.drop('fwd_10yr_ret',axis=1)\n",
    "data_recent\n",
    "models[-1].predict(data_recent)"
   ]
  },
  {
   "cell_type": "code",
   "execution_count": 25,
   "metadata": {},
   "outputs": [
    {
     "name": "stdout",
     "output_type": "stream",
     "text": [
      "{'n_neighbors': 8, 'weights': 'distance'}\n",
      "-0.0006765694840517261\n"
     ]
    },
    {
     "data": {
      "text/plain": [
       "KNeighborsRegressor(algorithm='auto', leaf_size=30, metric='minkowski',\n",
       "          metric_params=None, n_jobs=1, n_neighbors=8, p=2,\n",
       "          weights='distance')"
      ]
     },
     "execution_count": 25,
     "metadata": {},
     "output_type": "execute_result"
    }
   ],
   "source": [
    "param_grid = {'n_neighbors':np.arange(1,15), 'weights':['uniform','distance']}\n",
    "gs = GridSearchCV(KNeighborsRegressor(),param_grid=param_grid, scoring='neg_mean_squared_error')\n",
    "gs.fit(X_train, y_train)\n",
    "print(gs.best_params_)\n",
    "print(gs.best_score_)\n",
    "knn = KNeighborsRegressor(n_neighbors=gs.best_params_['n_neighbors'], weights=gs.best_params_['weights'])\n",
    "knn.fit(X_train,y_train)"
   ]
  },
  {
   "cell_type": "code",
   "execution_count": 26,
   "metadata": {},
   "outputs": [],
   "source": [
    "current_data = np.array(data[-119:]).reshape(-1,X.shape[1])\n",
    "pred_current = knn.predict(current_data)"
   ]
  },
  {
   "cell_type": "code",
   "execution_count": 27,
   "metadata": {},
   "outputs": [
    {
     "name": "stdout",
     "output_type": "stream",
     "text": [
      "The current CAPE RATIO is: [3.51000000e+00 2.26068108e+01 4.58563032e-02 2.14892098e-02]\n",
      "The predicted 10 year forward real return is: 7.5 %\n"
     ]
    },
    {
     "data": {
      "image/png": "[encoded data removed]",
      "text/plain": [
       "<matplotlib.figure.Figure at 0x2393b036e10>"
      ]
     },
     "metadata": {},
     "output_type": "display_data"
    }
   ],
   "source": [
    "plt.scatter(data.CAPE[-119:],pred_current)\n",
    "print(\"The current CAPE RATIO is:\",(current_data[-1]))\n",
    "print(\"The predicted 10 year forward real return is:\", round(100*pred_current[-1],1),\"%\")"
   ]
  },
  {
   "cell_type": "code",
   "execution_count": 5,
   "metadata": {},
   "outputs": [
    {
     "name": "stdout",
     "output_type": "stream",
     "text": [
      "0.20113717128642503\n",
      "0.3361762615493959\n",
      "0.4626865671641791\n"
     ]
    }
   ],
   "source": [
    "ret_ann = yale.SP_Comp.pct_change(12)\n",
    "ret_ann = ret_ann.dropna()\n",
    "\n",
    "ret_neg = ret_ann < 0\n",
    "ret_neg = ret_neg * ret_ann\n",
    "ret_neg = ret_neg[ret_neg != 0]\n",
    "\n",
    "ret_norm = (ret_ann > 0) & (ret_ann < .1)\n",
    "ret_norm = ret_norm * ret_ann\n",
    "ret_norm = ret_norm[ret_norm != 0]\n",
    "\n",
    "ret_high = (ret_ann > .1)\n",
    "ret_high = ret_high * ret_ann\n",
    "ret_high = ret_high[ret_high != 0]\n",
    "\n",
    "print(len(ret_norm) / len(ret_ann))\n",
    "print(len(ret_neg) / len(ret_ann))\n",
    "print(len(ret_high) / len(ret_ann))"
   ]
  },
  {
   "cell_type": "code",
   "execution_count": 32,
   "metadata": {},
   "outputs": [
    {
     "data": {
      "text/plain": [
       "0.0021832591845982424"
      ]
     },
     "execution_count": 32,
     "metadata": {},
     "output_type": "execute_result"
    }
   ],
   "source": [
    "X = np.array(yale.dropna().CAPE)\n",
    "X = X.reshape(-1,1)\n",
    "Y = np.asarray(yale.dropna().Fwd10YrRet)\n",
    "X_train, X_test, y_train, y_test = train_test_split(X, y, test_size=0.2, random_state=42)\n",
    "model = linear_model.LinearRegression()\n",
    "model.fit(X_train,y_train)\n",
    "pred = model.predict(X_test)\n",
    "mse(y_test,pred)"
   ]
  },
  {
   "cell_type": "markdown",
   "metadata": {},
   "source": [
    "# Appendix"
   ]
  },
  {
   "cell_type": "code",
   "execution_count": 8,
   "metadata": {},
   "outputs": [
    {
     "data": {
      "text/plain": [
       "<matplotlib.axes._subplots.AxesSubplot at 0x1a3b77fcbe0>"
      ]
     },
     "execution_count": 8,
     "metadata": {},
     "output_type": "execute_result"
    },
    {
     "data": {
      "image/png": "[encoded data removed]",
      "text/plain": [
       "<matplotlib.figure.Figure at 0x1a3b77fc4e0>"
      ]
     },
     "metadata": {},
     "output_type": "display_data"
    }
   ],
   "source": [
    "yale.Fwd10YrRet.plot()\n",
    "yale.CAPE.plot(secondary_y=True)"
   ]
  },
  {
   "cell_type": "code",
   "execution_count": null,
   "metadata": {},
   "outputs": [],
   "source": [
    "current_data = np.asarray(yale.CAPE[-119:]).reshape(-1,1)\n",
    "pred_current = neigh.predict(current_data)"
   ]
  },
  {
   "cell_type": "code",
   "execution_count": 7,
   "metadata": {},
   "outputs": [
    {
     "name": "stdout",
     "output_type": "stream",
     "text": [
      "0.35180908391070054\n",
      "0.40261739799846036\n",
      "0.2455735180908391\n"
     ]
    },
    {
     "data": {
      "text/plain": [
       "<matplotlib.axes._subplots.AxesSubplot at 0x2393a8a8a20>"
      ]
     },
     "execution_count": 7,
     "metadata": {},
     "output_type": "execute_result"
    },
    {
     "data": {
      "image/png": "[encoded data removed]",
      "text/plain": [
       "<matplotlib.figure.Figure at 0x2393a8a8358>"
      ]
     },
     "metadata": {},
     "output_type": "display_data"
    }
   ],
   "source": [
    "ret_ten = yale.Fwd10YrRet\n",
    "ret_ten = ret_ten.dropna()\n",
    "\n",
    "# ret_neg = ret_ten < 0\n",
    "# ret_neg = ret_neg * ret_ten\n",
    "# ret_neg = ret_neg[ret_neg != 0]\n",
    "\n",
    "ret_low = ret_ten < 0.03\n",
    "ret_low = ret_low * ret_ten\n",
    "ret_low = ret_low[ret_low != 0]\n",
    "\n",
    "\n",
    "ret_norm = (ret_ten > 0.03) & (ret_ten < .1)\n",
    "ret_norm = ret_norm * ret_ten\n",
    "ret_norm = ret_norm[ret_norm != 0]\n",
    "\n",
    "ret_high = (ret_ten > .1)\n",
    "ret_high = ret_high * ret_ten\n",
    "ret_high = ret_high[ret_high != 0]\n",
    "\n",
    "\n",
    "print(len(ret_norm) / len(ret_ten))\n",
    "print(len(ret_low) / len(ret_ten))\n",
    "print(len(ret_high) / len(ret_ten))\n",
    "\n",
    "sns.distplot(ret_low, kde=False)\n",
    "sns.distplot(ret_norm, kde=False)\n",
    "sns.distplot(ret_high, kde=False)"
   ]
  },
  {
   "cell_type": "code",
   "execution_count": 6,
   "metadata": {},
   "outputs": [
    {
     "data": {
      "text/plain": [
       "<matplotlib.axes._subplots.AxesSubplot at 0x1a3b5418f28>"
      ]
     },
     "execution_count": 6,
     "metadata": {},
     "output_type": "execute_result"
    },
    {
     "data": {
      "image/png": "[encoded data removed]",
      "text/plain": [
       "<matplotlib.figure.Figure at 0x1a3b5418860>"
      ]
     },
     "metadata": {},
     "output_type": "display_data"
    }
   ],
   "source": [
    "sns.distplot(ret_neg, kde=False)\n",
    "sns.distplot(ret_norm, kde=False)\n",
    "sns.distplot(ret_high, kde=False)"
   ]
  }
 ],
 "metadata": {
  "kernelspec": {
   "display_name": "Python 3",
   "language": "python",
   "name": "python3"
  },
  "language_info": {
   "codemirror_mode": {
    "name": "ipython",
    "version": 3
   },
   "file_extension": ".py",
   "mimetype": "text/x-python",
   "name": "python",
   "nbconvert_exporter": "python",
   "pygments_lexer": "ipython3",
   "version": "3.6.8"
  }
 },
 "nbformat": 4,
 "nbformat_minor": 2
}
