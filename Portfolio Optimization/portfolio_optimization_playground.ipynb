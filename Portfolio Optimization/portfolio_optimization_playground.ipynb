{
 "cells": [
  {
   "cell_type": "code",
   "execution_count": 1,
   "metadata": {},
   "outputs": [],
   "source": [
    "import pandas as pd\n",
    "from cvxpy import *\n",
    "import numpy as np\n",
    "import pandas as pd\n",
    "%matplotlib inline\n",
    "import matplotlib.pyplot as plt\n",
    "from tiingo import TiingoClient\n",
    "pd.core.common.is_list_like = pd.api.types.is_list_like\n",
    "config = {}\n",
    "config['session'] = True\n",
    "config['api_key'] = \"9606b7b7c092fa68b5726d3feee8d44f40354fe3\"\n",
    "client = TiingoClient(config)"
   ]
  },
  {
   "cell_type": "code",
   "execution_count": 2,
   "metadata": {},
   "outputs": [
    {
     "name": "stdout",
     "output_type": "stream",
     "text": [
      "                                 SPY        EFA        EEM        IEF  \\\n",
      "date                                                                    \n",
      "2005-01-03 00:00:00+00:00  90.341626  35.796538  17.139783  56.772686   \n",
      "2005-01-04 00:00:00+00:00  89.237701  35.110306  16.612075  56.419190   \n",
      "2005-01-05 00:00:00+00:00  88.621906  35.087807  16.408715  56.512567   \n",
      "2005-01-06 00:00:00+00:00  89.072488  35.087807  16.397560  56.565924   \n",
      "2005-01-07 00:00:00+00:00  88.944823  34.930311  16.429308  56.519236   \n",
      "\n",
      "                                 TLT    GLD  DBC        VNQ  HYG        LQD  \n",
      "date                                                                         \n",
      "2005-01-03 00:00:00+00:00  54.138698  43.02  NaN  29.437298  NaN  60.774245  \n",
      "2005-01-04 00:00:00+00:00  53.571321  42.74  NaN  28.994870  NaN  60.433151  \n",
      "2005-01-05 00:00:00+00:00  53.858060  42.67  NaN  28.031007  NaN  60.481879  \n",
      "2005-01-06 00:00:00+00:00  53.894665  42.15  NaN  28.246955  NaN  60.525192  \n",
      "2005-01-07 00:00:00+00:00  54.016681  41.84  NaN  28.183751  NaN  60.498121  \n"
     ]
    }
   ],
   "source": [
    "start_date='2005-01-01'\n",
    "end_date='2019-01-31'\n",
    "tickers = ['SPY','EFA','EEM','IEF','TLT','GLD','DBC','VNQ','HYG','LQD']\n",
    "\n",
    "start_date = pd.to_datetime(start_date)\n",
    "end_date = pd.to_datetime(end_date)\n",
    "prices = pd.DataFrame()\n",
    "\n",
    "for ticker in tickers:\n",
    "#     prices[ticker] = get_historical_data(ticker, start=start_date, end=end_date, output_format='pandas').loc[:,'close']\n",
    "    prices[ticker] = client.get_dataframe(ticker, startDate=start_date, endDate=end_date).loc[:,'adjClose']\n",
    "print(prices.head())"
   ]
  },
  {
   "cell_type": "code",
   "execution_count": 8,
   "metadata": {},
   "outputs": [],
   "source": [
    "prices = prices.dropna() # Shortcut to grab the most common starting date\n",
    "returns = prices.pct_change() # convert prices to daily returns\n",
    "returns = returns.iloc[1:,] # dropping the first day which is NA not using dropna() because want to catch that if it occurs latter in the dataset \n",
    "returns_ann = ((1 + returns.mean())**252) -1  # annualize returns"
   ]
  },
  {
   "cell_type": "code",
   "execution_count": 15,
   "metadata": {},
   "outputs": [],
   "source": [
    "mu = np.array(returns_ann).reshape(-1,1)\n",
    "Sigma = np.array(returns.cov() * 252)\n",
    "n = len(tickers)"
   ]
  },
  {
   "cell_type": "code",
   "execution_count": 16,
   "metadata": {},
   "outputs": [],
   "source": [
    "assert mu.shape == (n, 1)\n",
    "assert Sigma.shape == (n,n)"
   ]
  },
  {
   "cell_type": "code",
   "execution_count": 24,
   "metadata": {},
   "outputs": [],
   "source": [
    "from cvxpy import *\n",
    "w = Variable(n)\n",
    "# gamma = Parameter(nonneg=True)\n",
    "gamma = 1\n",
    "ret = mu.T*w\n",
    "risk = quad_form(w, Sigma)\n",
    "prob = Problem(Maximize(ret - gamma*risk), \n",
    "               [sum(w) == 1,\n",
    "                w >= 0.05,\n",
    "               w <= 0.4])"
   ]
  },
  {
   "cell_type": "code",
   "execution_count": 25,
   "metadata": {},
   "outputs": [
    {
     "name": "stdout",
     "output_type": "stream",
     "text": [
      "     weights\n",
      "SPY  0.25169\n",
      "EFA  0.05000\n",
      "EEM  0.05000\n",
      "IEF  0.05000\n",
      "TLT  0.34831\n",
      "GLD  0.05000\n",
      "DBC  0.05000\n",
      "VNQ  0.05000\n",
      "HYG  0.05000\n",
      "LQD  0.05000\n"
     ]
    }
   ],
   "source": [
    "prob.solve()\n",
    "print(pd.DataFrame(w.value, index=tickers, columns=['weights']))"
   ]
  },
  {
   "cell_type": "code",
   "execution_count": null,
   "metadata": {},
   "outputs": [],
   "source": [
    "# Compute trade-off curve.\n",
    "SAMPLES = 100\n",
    "risk_data = np.zeros(SAMPLES)\n",
    "ret_data = np.zeros(SAMPLES)\n",
    "gamma_vals = np.logspace(-2, 3, num=SAMPLES)\n",
    "for i in range(SAMPLES):\n",
    "    gamma.value = gamma_vals[i]\n",
    "    prob.solve()\n",
    "    risk_data[i] = sqrt(risk).value\n",
    "    ret_data[i] = ret.value"
   ]
  },
  {
   "cell_type": "code",
   "execution_count": null,
   "metadata": {},
   "outputs": [],
   "source": [
    "# Plot long only trade-off curve.\n",
    "import matplotlib.pyplot as plt\n",
    "%matplotlib inline\n",
    "%config InlineBackend.figure_format = 'svg'\n",
    "\n",
    "markers_on = [29, 40]\n",
    "fig = plt.figure()\n",
    "ax = fig.add_subplot(111)\n",
    "plt.plot(risk_data, ret_data, 'g-')\n",
    "for marker in markers_on:\n",
    "    plt.plot(risk_data[marker], ret_data[marker], 'bs')\n",
    "    ax.annotate(r\"$\\gamma = %.2f$\" % gamma_vals[marker], xy=(risk_data[marker]+.08, ret_data[marker]-.03))\n",
    "for i in range(n):\n",
    "    plt.plot(sqrt(Sigma[i,i]).value, mu[i], 'ro')\n",
    "plt.xlabel('Standard deviation')\n",
    "plt.ylabel('Return')\n",
    "plt.show()"
   ]
  },
  {
   "cell_type": "code",
   "execution_count": null,
   "metadata": {},
   "outputs": [],
   "source": []
  }
 ],
 "metadata": {
  "kernelspec": {
   "display_name": "Python 3",
   "language": "python",
   "name": "python3"
  },
  "language_info": {
   "codemirror_mode": {
    "name": "ipython",
    "version": 3
   },
   "file_extension": ".py",
   "mimetype": "text/x-python",
   "name": "python",
   "nbconvert_exporter": "python",
   "pygments_lexer": "ipython3",
   "version": "3.6.8"
  }
 },
 "nbformat": 4,
 "nbformat_minor": 2
}
