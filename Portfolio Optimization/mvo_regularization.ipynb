{
 "cells": [
  {
   "cell_type": "code",
   "execution_count": 70,
   "metadata": {},
   "outputs": [],
   "source": [
    "import numpy as np\n",
    "import cvxpy as cvx"
   ]
  },
  {
   "cell_type": "code",
   "execution_count": 93,
   "metadata": {},
   "outputs": [],
   "source": [
    "def markowitz_portfolio(means, cov, gamma):\n",
    "    \"\"\"Generate the optimal fully-invested portfolio for a given risk/return tradeoff\"\"\"\n",
    "    weights = cvx.Variable(len(means))\n",
    "    \n",
    "    expected_return = weights.T * means\n",
    "    expected_vol = cvx.quad_form(weights, cov)\n",
    "    \n",
    "    utility = expected_return - gamma * expected_vol\n",
    "    objective = cvx.Maximize(utility)\n",
    "    \n",
    "    constraints = [\n",
    "        cvx.sum(weights) == 1,\n",
    "        weights >= 0\n",
    "    ]\n",
    "    \n",
    "    problem = cvx.Problem(objective, constraints)\n",
    "    problem.solve()\n",
    "    \n",
    "    return np.array(weights.value.flat).round(4), expected_return.value, expected_vol.value "
   ]
  },
  {
   "cell_type": "code",
   "execution_count": 94,
   "metadata": {},
   "outputs": [
    {
     "name": "stdout",
     "output_type": "stream",
     "text": [
      "Weights [-0.      0.0625  0.1875  0.3125  0.4375]\n",
      "Expected Return: 0.004125\n",
      "Expected Variance: 0.006562500000000001\n"
     ]
    }
   ],
   "source": [
    "expected_rets = np.array([0.001, 0.002, 0.003, 0.004, 0.005])\n",
    "cov = np.array([[0.2, 0.01, 0.04, 0., 0.],\n",
    "               [0.01, 0.02, 0., 0., 0.],\n",
    "               [0.04, 0., 0.02, 0., 0.],\n",
    "               [0., 0., 0., 0.02, 0.],\n",
    "               [0., 0., 0., 0., 0.02]])\n",
    "\n",
    "weights, rets, var = markowitz_portfolio(expected_rets, cov, 0.2)\n",
    "print(\"Weights\", weights); print(\"Expected Return:\", rets); print('Expected Variance:', var)"
   ]
  },
  {
   "cell_type": "code",
   "execution_count": 101,
   "metadata": {},
   "outputs": [],
   "source": [
    "def markowitz_portfolio_l1(means, cov, gamma, lmbda):\n",
    "    weights = cvx.Variable(len(means))\n",
    "    \n",
    "    expected_return = weights.T * means\n",
    "    expected_vol = cvx.quad_form(weights, cov)\n",
    "    \n",
    "#     objective = cvx.Minimize(expected_vol + risk_aversion*cvx.norm(weights))\n",
    "    objective = cvx.Minimize((1/2)*expected_vol - gamma * expected_return + lmbda*cvx.norm(weights))\n",
    "    constraints = [\n",
    "        cvx.sum(weights) == 1,\n",
    "        weights >= 0\n",
    "    ]\n",
    "    \n",
    "    problem = cvx.Problem(objective, constraints)\n",
    "    problem.solve()\n",
    "    \n",
    "    return np.array(weights.value.flat).round(4), expected_return.value, expected_vol.value "
   ]
  },
  {
   "cell_type": "code",
   "execution_count": 102,
   "metadata": {},
   "outputs": [
    {
     "name": "stdout",
     "output_type": "stream",
     "text": [
      "gamma 0.1\n",
      "Weights [0.1037 0.2239 0.2116 0.23   0.2308]\n",
      "Expected Return: 0.0032603225138098796\n",
      "Expected Variance: 0.008390971489387587\n",
      "gamma 0.2\n",
      "Weights [0.1404 0.215  0.2063 0.2189 0.2193]\n",
      "Expected Return: 0.0031617513071162777\n",
      "Expected Variance: 0.010561568768564587\n",
      "gamma 0.3\n",
      "Weights [0.1568 0.2109 0.2044 0.2138 0.2141]\n",
      "Expected Return: 0.003117381532434749\n",
      "Expected Variance: 0.011700523199505805\n",
      "gamma 0.4\n",
      "Weights [0.1662 0.2086 0.2033 0.2109 0.2111]\n",
      "Expected Return: 0.0030920994895500395\n",
      "Expected Variance: 0.012394545212674397\n",
      "gamma 0.5\n",
      "Weights [0.1722 0.2071 0.2027 0.2089 0.2091]\n",
      "Expected Return: 0.003075805127575576\n",
      "Expected Variance: 0.012859211532358226\n",
      "gamma 0.6\n",
      "Weights [0.1763 0.206  0.2023 0.2076 0.2078]\n",
      "Expected Return: 0.003064409717641727\n",
      "Expected Variance: 0.013192253229798844\n",
      "gamma 0.7\n",
      "Weights [0.1794 0.2052 0.202  0.2066 0.2067]\n",
      "Expected Return: 0.003055998256509927\n",
      "Expected Variance: 0.01344236399684805\n",
      "gamma 0.8\n",
      "Weights [0.1818 0.2046 0.2017 0.2059 0.206 ]\n",
      "Expected Return: 0.003049536539390034\n",
      "Expected Variance: 0.01363695957424405\n",
      "gamma 0.9\n",
      "Weights [0.1837 0.2042 0.2015 0.2053 0.2054]\n",
      "Expected Return: 0.003044401593247522\n",
      "Expected Variance: 0.013793136423815662\n",
      "gamma 1\n",
      "Weights [0.1852 0.2038 0.2014 0.2048 0.2049]\n",
      "Expected Return: 0.003040238187233853\n",
      "Expected Variance: 0.013920753808353852\n",
      "gamma 5\n",
      "Weights [0.1969 0.2008 0.2003 0.201  0.201 ]\n",
      "Expected Return: 0.0030084750189181076\n",
      "Expected Variance: 0.014923651639425016\n",
      "gamma 10\n",
      "Weights [0.1984 0.2004 0.2001 0.2005 0.2005]\n",
      "Expected Return: 0.0030042658260750997\n",
      "Expected Variance: 0.015060441299248288\n"
     ]
    }
   ],
   "source": [
    "expected_rets = np.array([0.001, 0.002, 0.003, 0.004, 0.005])\n",
    "cov = np.array([[0.2, 0.01, 0.04, 0., 0.],\n",
    "               [0.01, 0.02, 0., 0., 0.],\n",
    "               [0.04, 0., 0.02, 0., 0.],\n",
    "               [0., 0., 0., 0.02, 0.],\n",
    "               [0., 0., 0., 0., 0.02]])\n",
    "\n",
    "lambdas = [0.1,0.2,0.3,0.4,0.5,0.6,0.7,0.8,0.9,1,5,10]\n",
    "for l in lambdas:\n",
    "    weights, rets, var = markowitz_portfolio_l1(expected_rets, cov, 0.2, l)\n",
    "    print(\"gamma\", l); print(\"Weights\", weights); print(\"Expected Return:\", rets); print('Expected Variance:', var)"
   ]
  },
  {
   "cell_type": "code",
   "execution_count": null,
   "metadata": {},
   "outputs": [],
   "source": [
    "expected_rets = np.array([0.001, 0.002, 0.003, 0.004, 0.005])\n",
    "cov = np.array([[0.2, 0.01, 0.04, 0., 0.],\n",
    "               [0.01, 0.02, 0., 0., 0.],\n",
    "               [0.04, 0., 0.02, 0., 0.],\n",
    "               [0., 0., 0., 0.02, 0.],\n",
    "               [0., 0., 0., 0., 0.02]])\n",
    "\n",
    "weights, rets, var = markowitz_portfolio_l1(expected_rets, cov, 0.2, 0.6)\n",
    "print(\"Weights\", weights); print(\"Expected Return:\", rets); print('Expected Variance:', var)"
   ]
  },
  {
   "cell_type": "code",
   "execution_count": null,
   "metadata": {},
   "outputs": [],
   "source": []
  }
 ],
 "metadata": {
  "kernelspec": {
   "display_name": "Python 3",
   "language": "python",
   "name": "python3"
  },
  "language_info": {
   "codemirror_mode": {
    "name": "ipython",
    "version": 3
   },
   "file_extension": ".py",
   "mimetype": "text/x-python",
   "name": "python",
   "nbconvert_exporter": "python",
   "pygments_lexer": "ipython3",
   "version": "3.6.9"
  }
 },
 "nbformat": 4,
 "nbformat_minor": 4
}
