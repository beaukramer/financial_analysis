{
 "cells": [
  {
   "cell_type": "code",
   "execution_count": 1,
   "metadata": {},
   "outputs": [],
   "source": [
    "import numpy as np\n",
    "import pandas as pd\n",
    "%matplotlib inline\n",
    "import matplotlib.pyplot as plt\n",
    "from tiingo import TiingoClient\n",
    "pd.core.common.is_list_like = pd.api.types.is_list_like\n",
    "import ffn\n",
    "import statsmodels.api as sm\n",
    "import scipy.stats as st\n",
    "import bt\n",
    "import cvxopt as opt\n",
    "from cvxopt import blas, solvers\n",
    "import seaborn as sns\n",
    "from pypfopt import risk_models"
   ]
  },
  {
   "cell_type": "code",
   "execution_count": 2,
   "metadata": {},
   "outputs": [],
   "source": [
    "config = {}\n",
    "# To reuse the same HTTP Session across API calls (and have better performance), include a session key.\n",
    "config['session'] = True\n",
    "config['api_key'] = \"9606b7b7c092fa68b5726d3feee8d44f40354fe3\"\n",
    "# Initialize\n",
    "client = TiingoClient(config)"
   ]
  },
  {
   "cell_type": "markdown",
   "metadata": {},
   "source": [
    "# 2 - Portfolio Analysis: A Primer"
   ]
  },
  {
   "cell_type": "code",
   "execution_count": null,
   "metadata": {},
   "outputs": [],
   "source": [
    "# 2.1.2\n",
    "start_date='2000-01-01'\n",
    "end_date='2018-12-01'\n",
    "tickers = ['SPY','IEF']\n",
    "\n",
    "\n",
    "start_date = pd.to_datetime(start_date)\n",
    "end_date = pd.to_datetime(end_date)\n",
    "prices = pd.DataFrame()\n",
    "\n",
    "for ticker in tickers:\n",
    "#     prices[ticker] = get_historical_data(ticker, start=start_date, end=end_date, output_format='pandas').loc[:,'close']\n",
    "    prices[ticker] = client.get_dataframe(ticker, startDate=start_date, endDate=end_date).loc[:,'adjClose']\n",
    "prices = prices.dropna()\n",
    "print(prices.head())\n",
    "rets = prices.pct_change()\n",
    "rets = rets.dropna()\n",
    "print(rets.head())\n",
    "perf = prices.calc_stats()"
   ]
  },
  {
   "cell_type": "code",
   "execution_count": null,
   "metadata": {},
   "outputs": [],
   "source": [
    "# 2.1.3\n",
    "fig = plt.figure()\n",
    "ax = fig.add_subplot(111)\n",
    "ax.plot(rets.SPY* 100)\n",
    "ax.set(title='Daily S&P 500 Returns', xlabel='Date', ylabel='Return')"
   ]
  },
  {
   "cell_type": "code",
   "execution_count": null,
   "metadata": {},
   "outputs": [],
   "source": [
    "# 2.1.4\n",
    "# 2.1.4\n",
    "sp500_index = np.cumprod(1 + rets.SPY)\n",
    "fig = plt.figure()\n",
    "ax = fig.add_subplot(111)\n",
    "ax.plot(sp500_index)\n",
    "ax.set(title='S&P 500 Index', xlabel='Date', ylabel='Price')"
   ]
  },
  {
   "cell_type": "code",
   "execution_count": null,
   "metadata": {},
   "outputs": [],
   "source": [
    "# 2.1.5\n",
    "sp500_index = 100*np.cumprod((1+rets.SPY))"
   ]
  },
  {
   "cell_type": "code",
   "execution_count": null,
   "metadata": {},
   "outputs": [],
   "source": [
    "# 2.1.6 \n",
    "sp500_ret = sp500_index.pct_change().dropna()"
   ]
  },
  {
   "cell_type": "code",
   "execution_count": null,
   "metadata": {},
   "outputs": [],
   "source": [
    "# 2.1.7\n",
    "data_test = pd.concat([sp500_ret, rets.SPY],axis=1)"
   ]
  },
  {
   "cell_type": "code",
   "execution_count": null,
   "metadata": {},
   "outputs": [],
   "source": [
    "# 2.1.8\n",
    "sp500_12mo_ret = prices.SPY.pct_change(252).dropna()"
   ]
  },
  {
   "cell_type": "code",
   "execution_count": null,
   "metadata": {},
   "outputs": [],
   "source": [
    "# 2.2.1\n",
    "\n",
    "fig = plt.figure()\n",
    "ax = fig.add_subplot(111)\n",
    "ax.plot(prices.pct_change(21))\n",
    "ax.set(title='S&P 500 vs 10-Year Treasury', xlabel='Date', ylabel='% Return')\n"
   ]
  },
  {
   "cell_type": "code",
   "execution_count": null,
   "metadata": {},
   "outputs": [],
   "source": [
    "# 2.3.1\n",
    "vol = rets.std()\n",
    "print(vol)\n",
    "# 2.3.2\n",
    "vol_annualized = vol * np.sqrt(252)\n",
    "print(vol_annualized)\n",
    "\n",
    "# 2.3.3\n",
    "vol_roll = rets.rolling(window=252).std().dropna()\n",
    "print(vol_roll.head())\n",
    " \n",
    "# 2.3.4\n",
    "corr_matrix = rets.corr()\n",
    "corr_roll = rets.SPY.rolling(window=252).corr(other=rets.IEF).dropna()\n",
    "print(corr_matrix)\n",
    "print(corr_roll.head())"
   ]
  },
  {
   "cell_type": "code",
   "execution_count": null,
   "metadata": {},
   "outputs": [],
   "source": [
    "# 2.4.1\n",
    "round(rets.SPY.std(), 5)\n",
    " \n",
    "# 2.4.2\n",
    "# round(returns.geltner(rets.SPY).std(),5)\n",
    "# TODO\n",
    "\n",
    "# # 2.4.3\n",
    "round(rets.SPY.std()*np.sqrt(252), 5)\n",
    " \n",
    "# # 2.4.4\n",
    "def SharpeRatio(returns, rf=0.01/252, N=252):\n",
    "    \"\"\"Calculate annualized sharpe ratio:\n",
    "    :dataframe returns: a dataframe, asset returns\n",
    "    :param rf: a float, the risk free rate, default=1%\n",
    "    :param N: an int, the number of trading periods, default=252\n",
    "    \n",
    "    RETURNS:\n",
    "    :Sharpe Ratio: float\"\"\"\n",
    "    return np.sqrt(N) * (returns.mean() - rf) / returns.std()\n",
    "round(SharpeRatio(rets.SPY), 3)"
   ]
  },
  {
   "cell_type": "code",
   "execution_count": null,
   "metadata": {},
   "outputs": [],
   "source": [
    "# 2.5.1\n",
    "round(perf['SPY'].stats['yearly_sortino'], 3)"
   ]
  },
  {
   "cell_type": "code",
   "execution_count": null,
   "metadata": {},
   "outputs": [],
   "source": [
    "# 2.6.1 \n",
    "# CAPM.beta(Ra=managers$EDHEC, Rb=managers$SP500)\n",
    " \n",
    "# 2.6.2\n",
    "model =sm.OLS(rets.IEF, rets.SPY)\n",
    "results = model.fit()\n",
    "beta=float(results.params)\n",
    "print(round(beta,3))"
   ]
  },
  {
   "cell_type": "code",
   "execution_count": null,
   "metadata": {},
   "outputs": [],
   "source": [
    "# 2.7.1\n",
    "scipy.stats.norm.ppf(0.05, loc=0.07, scale=0.1)\n",
    " \n",
    "# 2.7.2\n",
    "scipy.stats.norm.cdf(-0.09448536,loc=0.07, scale=0.1)\n",
    " \n",
    "# 2.7.3\n",
    "scipy.stats.norm.ppf([0.05,0.01,0.001], loc=0.07, scale=0.1) \n",
    " \n",
    "# 2.7.4\n",
    "np.random.seed(87655678)\n",
    "ret_sim = np.random.normal(loc=0.07, scale=0.1, size=10000)\n",
    "ret_sim_var = np.quantile(ret_sim, [0.05, 0.01, 0.001])\n",
    "\n",
    "# 2.7.5\n",
    "np.quantile(rets.SPY.pct_change(252).dropna(), 0.05)\n",
    " \n",
    "# # 2.7.6\n",
    "sp500_sort = rets.SPY.sort_values()\n",
    "sp500_sort_var95 = np.quantile(sp500_sort,0.05)\n",
    "\n",
    "fig = plt.figure()\n",
    "ax = fig.add_subplot(111)\n",
    "ax.plot(range(0,len(sp500_sort)),sp500_sort)\n",
    "ax.axhline(y=-0.05,color='red')\n",
    "ax.set(title='Sorted S&P 500 Returns', xlabel='Date', ylabel='% Return')"
   ]
  },
  {
   "cell_type": "code",
   "execution_count": null,
   "metadata": {},
   "outputs": [],
   "source": [
    "# 2.8.1\n",
    "scipy.stats.norm.cdf(0,loc=rets.SPY.mean(), scale=rets.SPY.std())\n",
    " \n",
    "# 2.8.2\n",
    "rets.SPY.mean()\n",
    " \n",
    "# 2.8.3\n",
    "1-scipy.stats.norm.cdf(0, loc=rets.SPY.mean(), scale=rets.SPY.std())\n",
    " "
   ]
  },
  {
   "cell_type": "code",
   "execution_count": null,
   "metadata": {},
   "outputs": [],
   "source": [
    "# 2.9.1\n",
    "drawdown_series = ffn.to_drawdown_series(prices.SPY)\n",
    "drawdowns = ffn.drawdown_details(drawdown_series)\n",
    "drawdowns.sort_values(by='Length', ascending=False)[0:3]\n",
    "\n",
    "# 2.9.2\n",
    "fig = plt.figure()\n",
    "ax = fig.add_subplot(111)\n",
    "ax.plot(drawdown_series * 100)\n",
    "ax.set(title='Sorted S&P 500 Drawdowns', xlabel='Date', ylabel='Drawdown %')\n",
    " "
   ]
  },
  {
   "cell_type": "markdown",
   "metadata": {},
   "source": [
    "# 3 - Rebalancing and Backtesting"
   ]
  },
  {
   "cell_type": "code",
   "execution_count": null,
   "metadata": {},
   "outputs": [],
   "source": [
    "# 3.1.1\n",
    "weights = pd.Series([0.6,0.4],index = prices.columns)\n",
    "weighSpecifiedAlgo = bt.algos.WeighSpecified(**weights)\n",
    "s = bt.Strategy('Rebalance', [bt.algos.RunMonthly(),\n",
    "                       bt.algos.SelectAll(),\n",
    "                       weighSpecifiedAlgo,\n",
    "                       bt.algos.Rebalance()])\n",
    "\n",
    "test = bt.Backtest(s, prices)\n",
    "s2 = bt.Strategy('No Rebalance', [bt.algos.RunOnce(),\n",
    "                       bt.algos.SelectAll(),\n",
    "                       weighSpecifiedAlgo,\n",
    "                       bt.algos.Rebalance()])\n",
    "\n",
    "test2 = bt.Backtest(s2, prices)\n",
    "res= bt.run(test, test2)\n",
    "res.plot()\n"
   ]
  },
  {
   "cell_type": "code",
   "execution_count": null,
   "metadata": {},
   "outputs": [],
   "source": [
    "# 3.1.2\n",
    "res.display()"
   ]
  },
  {
   "cell_type": "code",
   "execution_count": null,
   "metadata": {},
   "outputs": [],
   "source": [
    "# 3.2.1\n",
    "sma  = prices.rolling(window=252,center=False).mean().shift(1) # create trend signal\n",
    "trend = sma.copy()\n",
    "trend[prices > sma] = True\n",
    "trend[prices <= sma] = False\n",
    "trend[sma.isnull()] = False\n",
    "\n",
    "# 3.2.2-3.27\n",
    "s3 = bt.Strategy('Moving Average', [bt.algos.RunMonthly(),\n",
    "                       bt.algos.SelectWhere(trend),\n",
    "                       bt.algos.WeighEqually(),\n",
    "                       bt.algos.Rebalance()])\n",
    "\n",
    "test3 = bt.Backtest(s3, prices)\n",
    "res= bt.run(test, test2, test3)\n",
    "res.plot()\n",
    "res.display()\n"
   ]
  },
  {
   "cell_type": "markdown",
   "metadata": {},
   "source": [
    "# 4 - Estimating \"Optimal\" Portfolios"
   ]
  },
  {
   "cell_type": "code",
   "execution_count": null,
   "metadata": {},
   "outputs": [],
   "source": [
    "# 4.1.1\n",
    "start_date='2000-01-01'\n",
    "end_date='2018-06-01'\n",
    "tickers = ['SPY','IEF','EFA','DBC','TIP']\n",
    "\n",
    "start_date = pd.to_datetime(start_date)\n",
    "end_date = pd.to_datetime(end_date)\n",
    "prices = pd.DataFrame()\n",
    "\n",
    "for ticker in tickers:\n",
    "    prices[ticker] = client.get_dataframe(ticker, startDate=start_date, endDate=end_date).loc[:,'adjClose']\n",
    "prices = prices.dropna()\n",
    "returns = prices.pct_change()\n",
    "returns = returns.dropna()"
   ]
  },
  {
   "cell_type": "code",
   "execution_count": null,
   "metadata": {},
   "outputs": [],
   "source": [
    "# 4.1.2\n",
    "from pypfopt.efficient_frontier import EfficientFrontier\n",
    "from pypfopt import risk_models\n",
    "from pypfopt import expected_returns\n",
    "\n",
    "\n",
    "mu = expected_returns.mean_historical_return(prices)\n",
    "S = risk_models.sample_cov(prices)\n",
    "\n",
    "# Optimise for maximal Sharpe ratio\n",
    "ef = EfficientFrontier(mu, S, weight_bounds=(-1, 1))\n",
    "raw_weights = ef.max_sharpe()\n",
    "cleaned_weights = ef.clean_weights()\n",
    "print(cleaned_weights)\n",
    "ef.portfolio_performance(verbose=True)"
   ]
  },
  {
   "cell_type": "code",
   "execution_count": null,
   "metadata": {},
   "outputs": [],
   "source": [
    "# 4.1.3\n",
    "mu = expected_returns.mean_historical_return(prices)\n",
    "S = risk_models.sample_cov(prices)\n",
    "\n",
    "# Optimise for maximal Sharpe ratio\n",
    "ef = EfficientFrontier(mu, S, weight_bounds=(0, 1))\n",
    "raw_weights = ef.max_sharpe()\n",
    "cleaned_weights = ef.clean_weights()\n",
    "print(cleaned_weights)\n",
    "ef.portfolio_performance(verbose=True)"
   ]
  },
  {
   "cell_type": "code",
   "execution_count": null,
   "metadata": {},
   "outputs": [],
   "source": [
    "# 4.1.4\n",
    "mu = expected_returns.mean_historical_return(prices)\n",
    "S = risk_models.sample_cov(prices)\n",
    "\n",
    "# Optimise for maximal Sharpe ratio\n",
    "ef = EfficientFrontier(mu, S, weight_bounds=(0.1, 1))\n",
    "raw_weights = ef.max_sharpe()\n",
    "cleaned_weights = ef.clean_weights()\n",
    "print(cleaned_weights)\n",
    "ef.portfolio_performance(verbose=True)"
   ]
  },
  {
   "cell_type": "markdown",
   "metadata": {},
   "source": [
    "# 5 Factor Analysis"
   ]
  },
  {
   "cell_type": "code",
   "execution_count": null,
   "metadata": {},
   "outputs": [],
   "source": [
    "# 5.1.1\n",
    "import pandas_datareader as pdr\n",
    "from pandas_datareader.famafrench import get_available_datasets\n",
    "french = pdr.DataReader('F-F_Research_Data_Factors_daily', 'famafrench',start = \"2000-01-01\")[0]\n",
    "french.head()"
   ]
  },
  {
   "cell_type": "code",
   "execution_count": null,
   "metadata": {},
   "outputs": [],
   "source": [
    "# 5.1.2\n",
    "start_date='2000-01-01'\n",
    "end_date='2018-06-01'\n",
    "tickers = ['SPY','BIL']\n",
    "\n",
    "start_date = pd.to_datetime(start_date)\n",
    "end_date = pd.to_datetime(end_date)\n",
    "prices = pd.DataFrame()\n",
    "\n",
    "for ticker in tickers:\n",
    "    prices[ticker] = client.get_dataframe(ticker, startDate=start_date, endDate=end_date).loc[:,'adjClose']\n",
    "prices = prices.dropna()\n",
    "returns = prices.pct_change()\n",
    "returns = returns.dropna() * 100\n",
    "sp500_premium = returns.SPY - returns.BIL\n",
    "sp500_premium = pd.DataFrame(data=sp500_premium)\n",
    "sp500_premium.columns = ['sp500_premium']"
   ]
  },
  {
   "cell_type": "code",
   "execution_count": null,
   "metadata": {},
   "outputs": [],
   "source": [
    "# 5.1.3\n",
    "french_factors_sp500 = sp500_premium.join(french, how='left')\n",
    "# french_factors_sp500.sp500 = french_factors_sp500.sp500 - french_factors_sp500.RF"
   ]
  },
  {
   "cell_type": "code",
   "execution_count": null,
   "metadata": {},
   "outputs": [],
   "source": [
    "french_factors_sp500.head()"
   ]
  },
  {
   "cell_type": "code",
   "execution_count": null,
   "metadata": {},
   "outputs": [],
   "source": [
    "# 5.1.4\n",
    "import statsmodels.api as sm\n",
    "results = sm.OLS(french_factors_sp500.sp500_premium,french_factors_sp500.iloc[:,1:-1]).fit()"
   ]
  },
  {
   "cell_type": "code",
   "execution_count": null,
   "metadata": {},
   "outputs": [],
   "source": [
    "# 5.1.5\n",
    "print(results.summary())"
   ]
  },
  {
   "cell_type": "code",
   "execution_count": null,
   "metadata": {},
   "outputs": [],
   "source": [
    "# 5.1.6\n",
    "estimates = results.get_prediction(french_factors_sp500.iloc[:,1:-1]).summary_frame()\n",
    "estimates= estimates.loc[:,'mean']\n",
    "fig = plt.figure()\n",
    "ax = fig.add_subplot(111)\n",
    "ax.scatter(french_factors_sp500.sp500_premium, estimates, marker='o', facecolors='none', edgecolors='b')\n",
    "ax.set(title='Fama-French 3-factor Model for S&P 500', xlabel='historical premia', ylabel='estimated premia')"
   ]
  },
  {
   "cell_type": "code",
   "execution_count": null,
   "metadata": {},
   "outputs": [],
   "source": [
    "# 5.2.1 \n",
    "managers = pd.read_csv(\"managers.csv\", index_col=0)\n",
    "returns = managers.dropna().iloc[:,0:6]\n",
    "\n",
    "from sklearn.decomposition import FactorAnalysis, PCA\n",
    "from sklearn import preprocessing\n",
    "\n",
    "fa = FactorAnalysis(n_components=1, tol=1e-6, max_iter=10000)\n",
    "returns_normal = -1*preprocessing.scale(returns)\n",
    "fa.fit(returns_normal)\n",
    "loadings = pd.DataFrame(fa.components_[0], index=managers.columns[0:6],columns=['Loadings'])\n",
    "print(loadings)\n",
    "print(\"Sum of Squared Loadings: \", np.sum(fa.components_[0] **2)) # Note this is for a single factor. Will need to be more Numpy-ish if using multiple factors\n",
    "print(\"Explained Variance: \", np.sum(fa.components_[0] **2)/(np.sum(fa.components_[0]**2) + np.sum(fa.noise_variance_)))"
   ]
  },
  {
   "cell_type": "code",
   "execution_count": null,
   "metadata": {},
   "outputs": [],
   "source": [
    "# 5.2.2\n",
    "from sklearn.decomposition import PCA\n",
    "pca = decomposition.PCA(n_components=6)\n",
    "pca.fit(returns)\n",
    "eigenvalues = pca.explained_variance_\n",
    "pca_variances = pd.DataFrame(data=eigenvalues, columns=['Variance'], index=[\"PC\" +str(i) for i in range(1,7)]).sort_values(by='Variance',ascending=False)\n",
    "\n",
    "fig = plt.figure()\n",
    "ax = fig.add_subplot(111)\n",
    "ax.bar(x=pca_variances.index, height=pca_variances.Variance)\n",
    "ax.set(title='PCA Portfolio Variance', xlabel='Principal Component Portfolios', ylabel='Variance')"
   ]
  },
  {
   "cell_type": "code",
   "execution_count": null,
   "metadata": {},
   "outputs": [],
   "source": [
    "# 5.2.3\n",
    "standard_deviation = np.sqrt(pca.explained_variance_)\n",
    "prop_variation = pca.explained_variance_ratio_\n",
    "cumulative_proporiton = np.cumsum(pca.explained_variance_ratio_)\n",
    "pca_summary = pd.DataFrame(data={'Standard Deviation':standard_deviation, 'Proportion of Variance':prop_variation, 'Cumulative Proportion':cumulative_proporiton},\n",
    "                           index=[\"PC\" +str(i) for i in range(1,7)])\n",
    "pca_summary.transpose()"
   ]
  },
  {
   "cell_type": "code",
   "execution_count": null,
   "metadata": {},
   "outputs": [],
   "source": [
    "pca.components_[0]"
   ]
  },
  {
   "cell_type": "code",
   "execution_count": null,
   "metadata": {},
   "outputs": [],
   "source": [
    "sum(pca.components_[0]/sum(pca.components_[0]))"
   ]
  },
  {
   "cell_type": "code",
   "execution_count": null,
   "metadata": {},
   "outputs": [],
   "source": [
    "# 5.2.4\n",
    "eigenfolios = np.empty(shape=6)\n",
    "for i in range(len(pca.components_)):\n",
    "    denom = sum(pca.components_[i])\n",
    "    eigenfolio = pca.components_[i]/denom\n",
    "    eigenfolios = np.vstack((eigenfolios, eigenfolio))\n",
    "eigenfolios=eigenfolios[1:]\n",
    "eigenfolios = pd.DataFrame(data=eigenfolios, index=[\"PC\" +str(i) for i in range(1,7)], columns=managers.columns[0:6])\n",
    "eigenfolios.transpose()"
   ]
  },
  {
   "cell_type": "code",
   "execution_count": null,
   "metadata": {},
   "outputs": [],
   "source": [
    "# 5.2.5\n",
    "eigenfolios.transpose().sum()"
   ]
  },
  {
   "cell_type": "code",
   "execution_count": null,
   "metadata": {},
   "outputs": [],
   "source": [
    "# 5.2.6\n",
    "start_date='2000-01-01'\n",
    "end_date='2018-06-01'\n",
    "tickers = ['SPY','AGG','EFA','EEM','USO']\n",
    "\n",
    "start_date = pd.to_datetime(start_date)\n",
    "end_date = pd.to_datetime(end_date)\n",
    "prices = pd.DataFrame()\n",
    "\n",
    "for ticker in tickers:\n",
    "    prices[ticker] = client.get_dataframe(ticker, startDate=start_date, endDate=end_date).loc[:,'adjClose']\n",
    "prices = prices.dropna()"
   ]
  },
  {
   "cell_type": "code",
   "execution_count": null,
   "metadata": {},
   "outputs": [],
   "source": [
    "# 5.2.7\n",
    "returns = prices.pct_change().dropna()\n",
    "from sklearn.decomposition import PCA\n",
    "pca = PCA()\n",
    "pca.fit(returns)\n",
    "pca.components_\n",
    "pd.DataFrame(data=pca.components_, index=[\"PC\" +str(i) for i in range(1,6)], columns=tickers).transpose()"
   ]
  },
  {
   "cell_type": "code",
   "execution_count": null,
   "metadata": {},
   "outputs": [],
   "source": [
    "# 5.2.8\n",
    "eigenfolios = np.empty(shape=5)\n",
    "for i in range(len(pca.components_)):\n",
    "    denom = sum(pca.components_[i])\n",
    "    eigenfolio = pca.components_[i]/denom\n",
    "    eigenfolios = np.vstack((eigenfolios, eigenfolio))\n",
    "eigenfolios=eigenfolios[1:]\n",
    "eigenfolios = pd.DataFrame(data=eigenfolios, index=[\"PC\" +str(i) for i in range(1,6)], columns=tickers)\n",
    "eigenfolios.transpose().iloc[:,0]"
   ]
  },
  {
   "cell_type": "markdown",
   "metadata": {},
   "source": [
    "# 6 - Monte Carlo Simulations"
   ]
  },
  {
   "cell_type": "code",
   "execution_count": null,
   "metadata": {},
   "outputs": [],
   "source": [
    "#############\n",
    "# Chapter 6 #\n",
    "#############\n",
    " \n",
    "# FIX SEEDS THEY NEED TO GO INSIDE SAMPLE FUNCTION \n",
    "\n",
    "# 6.1.1\n",
    "import random\n",
    "\n",
    "managers = pd.read_csv(\"managers.csv\", index_col=0)\n",
    "ret_sp500 = managers['SP500 TR']\n",
    "random.seed(994)\n",
    "ret_sp500_sim_1 = ret_sp500.sample(n=len(ret_sp500),replace=True)"
   ]
  },
  {
   "cell_type": "code",
   "execution_count": null,
   "metadata": {},
   "outputs": [],
   "source": [
    "# 6.1.2\n",
    "import matplotlib.dates as mdates\n",
    "ret_sp500_sim_1.index= ret_sp500.index\n",
    "ret_all = pd.concat([ret_sp500, ret_sp500_sim_1], axis=1)\n",
    "ret_all.columns = ['Actual', 'Simulated']\n",
    "\n",
    "fig = plt.figure()\n",
    "ax = fig.add_subplot(111)\n",
    "ax.plot(ret_all)\n",
    "ax.set(title='Monthly Returns')\n",
    "ax.legend(ret_all.columns)\n",
    "\n",
    "# FIX DATETIME AXIS"
   ]
  },
  {
   "cell_type": "code",
   "execution_count": null,
   "metadata": {},
   "outputs": [],
   "source": [
    "# 6.1.3\n",
    "random.seed(645)\n",
    "ret_sp500_sim_2 = ret_sp500.sample(n=1000, replace=True)"
   ]
  },
  {
   "cell_type": "code",
   "execution_count": null,
   "metadata": {},
   "outputs": [],
   "source": [
    "# 6.1.4\n",
    "managers = pd.read_csv(\"managers.csv\", index_col=0)\n",
    "ret_a = managers.iloc[:,7:10]\n",
    "random.seed(44)\n",
    "ret_a_sim = ret_a.sample(n=len(ret_a),replace=True)"
   ]
  },
  {
   "cell_type": "code",
   "execution_count": null,
   "metadata": {},
   "outputs": [],
   "source": [
    "# 6.1.5\n",
    "def fun_a(returns, sim=False, wgt_a=[0.6,0.3,0.1]):\n",
    "    weights = pd.Series(wgt_a,index = returns.columns)\n",
    "    weighSpecifiedAlgo = bt.algos.WeighSpecified(**weights)\n",
    "    s = bt.Strategy('Rebalance', [bt.algos.RunYearly(),\n",
    "                       bt.algos.SelectAll(),\n",
    "                       weighSpecifiedAlgo,\n",
    "                       bt.algos.Rebalance()])\n",
    "    if sim==True:\n",
    "        ret_sim = returns.sample(n=len(returns), replace=True)\n",
    "        ret_sim.index = returns.index\n",
    "        prices = np.cumprod(np.exp(ret_sim))\n",
    "    else:\n",
    "        prices = np.cumprod(np.exp(returns))\n",
    "    test = bt.Backtest(s, prices,progress_bar=False)\n",
    "    res= bt.run(test)\n",
    "    return res.prices"
   ]
  },
  {
   "cell_type": "code",
   "execution_count": null,
   "metadata": {},
   "outputs": [],
   "source": [
    "# 6.1.6\n",
    "start_date='2000-01-01'\n",
    "end_date='2018-06-01'\n",
    "tickers = ['SPY','BIL','IEF']\n",
    "\n",
    "start_date = pd.to_datetime(start_date)\n",
    "end_date = pd.to_datetime(end_date)\n",
    "prices = pd.DataFrame()\n",
    "\n",
    "for ticker in tickers:\n",
    "    prices[ticker] = client.get_dataframe(ticker, startDate=start_date, endDate=end_date).loc[:,'adjClose']\n",
    "prices = prices.dropna()\n",
    "returns = prices.pct_change().dropna()\n",
    "port_sim_test = fun_a(returns, sim=False)\n",
    "port_sim_test.head()"
   ]
  },
  {
   "cell_type": "code",
   "execution_count": null,
   "metadata": {},
   "outputs": [],
   "source": [
    "# 6.1.7\n",
    "random.seed(48)\n",
    "port_sim_a = pd.concat([fun_a(returns, sim=True) for _ in range(10)], axis=1)"
   ]
  },
  {
   "cell_type": "code",
   "execution_count": null,
   "metadata": {},
   "outputs": [],
   "source": [
    "# 6.1.8\n",
    "weights = pd.Series([0.6,0.3,0.1],index = returns.columns)\n",
    "weighSpecifiedAlgo = bt.algos.WeighSpecified(**weights)\n",
    "s = bt.Strategy('Rebalance', [bt.algos.RunYearly(),\n",
    "                       bt.algos.SelectAll(),\n",
    "                       weighSpecifiedAlgo,\n",
    "                       bt.algos.Rebalance()])\n",
    "prices = np.cumprod(np.exp(returns))\n",
    "test = bt.Backtest(s, prices,progress_bar=False)\n",
    "res = bt.run(test)\n",
    "port_actual = res.prices"
   ]
  },
  {
   "cell_type": "code",
   "execution_count": null,
   "metadata": {},
   "outputs": [],
   "source": [
    "# 6.1.9\n",
    "wi_all = pd.concat([port_actual,port_sim_a],axis=1)\n",
    "sims=['sim'+str(i) for i in range(1,11)]\n",
    "sims.append('actual')\n",
    "sims.sort()\n",
    "wi_all.columns = [sims]\n",
    "fig = plt.figure()\n",
    "ax = fig.add_subplot(111)\n",
    "ax.plot(wi_all.actual)\n",
    "ax.plot(wi_all.iloc[:,1:], color='k', linestyle='--', linewidth=0.5)\n",
    "ax.set(title='Wealth Indexes')"
   ]
  },
  {
   "cell_type": "code",
   "execution_count": null,
   "metadata": {},
   "outputs": [],
   "source": [
    "# 6.2.1\n",
    "import scipy.stats as st\n",
    "random.seed(401)\n",
    "ret = st.norm.rvs(loc=0.05, scale=0.10, size=100)"
   ]
  },
  {
   "cell_type": "code",
   "execution_count": null,
   "metadata": {},
   "outputs": [],
   "source": [
    "# 6.2.2\n",
    "prices_a = np.cumprod(1+ret)"
   ]
  },
  {
   "cell_type": "code",
   "execution_count": null,
   "metadata": {},
   "outputs": [],
   "source": [
    "# 6.2.3\n",
    "managers = pd.read_csv(\"managers.csv\", index_col=0)\n",
    "mean_ret = managers.iloc[:,7].mean()\n",
    "print(\"Mean Return \", mean_ret)\n",
    "sd_1 = managers.iloc[:,7].std()\n",
    "print(\"Standard Deviation\" , sd_1)"
   ]
  },
  {
   "cell_type": "code",
   "execution_count": null,
   "metadata": {},
   "outputs": [],
   "source": [
    "# 6.2.4\n",
    "random.seed(49)\n",
    "sp500_sim = st.norm.rvs(loc=mean_ret, scale=sd_1, size=100)\n",
    "sp500_sim[0:5]"
   ]
  },
  {
   "cell_type": "code",
   "execution_count": null,
   "metadata": {},
   "outputs": [],
   "source": [
    "# 6.2.5\n",
    "sp500_sim_a = pd.Series(data=st.norm.rvs(loc=mean_ret, scale=sd_1, size=len(managers.iloc[:,7])),index=managers.iloc[:,7].index, random_state=49)\n",
    "sp500_sim_a.head()"
   ]
  },
  {
   "cell_type": "code",
   "execution_count": null,
   "metadata": {},
   "outputs": [],
   "source": [
    "# 6.2.6\n",
    "assets_sim = st.norm.rvs(loc=managers.iloc[:,7:10].mean(), scale=managers.iloc[:,7:10].std(), size=(len(managers.iloc[:,7:10]), len(managers.iloc[:,7:10].columns)),random_state=666)\n",
    "assets_sim = pd.DataFrame(data=assets_sim, columns=managers.iloc[:,7:10].columns, index=managers.iloc[:,7:10].index)\n",
    "assets_sim.head()"
   ]
  },
  {
   "cell_type": "code",
   "execution_count": null,
   "metadata": {},
   "outputs": [],
   "source": [
    "# 6.2.7\n",
    "print(managers.iloc[:,7:10].mean())\n",
    "print(assets_sim.mean())"
   ]
  },
  {
   "cell_type": "code",
   "execution_count": null,
   "metadata": {},
   "outputs": [],
   "source": [
    "# 6.2.8\n",
    "print(managers.iloc[:,7:10].std())\n",
    "print(assets_sim.std())"
   ]
  },
  {
   "cell_type": "code",
   "execution_count": null,
   "metadata": {},
   "outputs": [],
   "source": [
    "# 6.3.1\n",
    "tdist_ret = st.t(df=13).rvs(100000) * 0.01"
   ]
  },
  {
   "cell_type": "code",
   "execution_count": null,
   "metadata": {},
   "outputs": [],
   "source": [
    "# 6.3.2\n",
    "managers = pd.read_csv(\"managers.csv\", index_col=0)\n",
    "spy_ret = managers.iloc[:,7]\n",
    "spy_t_model = st.t.fit(spy_ret) \n",
    "spy_t_model"
   ]
  },
  {
   "cell_type": "code",
   "execution_count": null,
   "metadata": {},
   "outputs": [],
   "source": [
    "# 6.3.3\n",
    "norm_ret = st.norm.rvs(size=100000, loc=0.05/252, scale=0.15/np.sqrt(252), random_state=77)"
   ]
  },
  {
   "cell_type": "code",
   "execution_count": null,
   "metadata": {},
   "outputs": [],
   "source": [
    "# 6.3.4\n",
    "t_kurt = st.kurtosis(tdist_ret)\n",
    "norm_kurt = st.kurtosis(norm_ret)\n",
    "print(t_kurt)\n",
    "print(norm_kurt)"
   ]
  },
  {
   "cell_type": "code",
   "execution_count": null,
   "metadata": {},
   "outputs": [],
   "source": [
    "# 6.3.5\n",
    "norm_ret = st.norm.rvs(size=100, loc=0.05/252, scale=0.15/np.sqrt(252), random_state=77)\n",
    "prices_a = np.cumprod(1+norm_ret)\n",
    "fig = plt.figure()\n",
    "ax = fig.add_subplot(111)\n",
    "ax.plot(prices_a)\n",
    "ax.set(title='Wealth Indexes')"
   ]
  },
  {
   "cell_type": "code",
   "execution_count": null,
   "metadata": {},
   "outputs": [],
   "source": [
    "# 6.3.6\n",
    "{x:data.loc[:,x] for x in managers.iloc[:,7:10].columns}\n",
    "fit = {ticker: st.t.fit(managers.loc[:,ticker]) for ticker in managers.iloc[:,7:10].columns}\n",
    "mu = [item[1][1] for item in fit.items()]\n",
    "sigma = [item[1][2] for item in fit.items()]\n",
    "nu = [item[1][0] for item in fit.items()]\n",
    "n = len(managers.iloc[:,7:10])\n",
    "sim_dat = st.t.rvs(df=nu, loc=mu, scale=sigma, size=(n, 3), random_state=198)\n",
    "sim_dat_ts = pd.DataFrame(data=sim_dat, index=managers.index, columns=managers.columns[7:10])"
   ]
  },
  {
   "cell_type": "code",
   "execution_count": null,
   "metadata": {},
   "outputs": [],
   "source": [
    "# 6.4.1\n",
    "ret_1 = managers.iloc[:,[0,2,3,7]]\n",
    "ret_1.columns = ['HF-A','HF-B','HF-C','SP500']\n",
    "coefficients_1 = sm.OLS(ret_1.SP500,ret_1.iloc[:,:-1]).fit()\n",
    "coefficients_1.params"
   ]
  },
  {
   "cell_type": "code",
   "execution_count": null,
   "metadata": {},
   "outputs": [],
   "source": [
    "# 6.4.2\n",
    "from sklearn.linear_model import LinearRegression\n",
    "def coef(A):\n",
    "    reg = LinearRegression(fit_intercept=True)\n",
    "    X = A[:,:-1]\n",
    "    y = A[:,-1]\n",
    "    reg.fit(X, y)\n",
    "    return {\"coef\": reg.coef_, \"intercept\": reg.intercept_}"
   ]
  },
  {
   "cell_type": "code",
   "execution_count": null,
   "metadata": {},
   "outputs": [],
   "source": [
    "# 6.4.3\n",
    "results = bootstrap(a=ret_1, f=coef, b=10000, family='t')\n",
    "param_frame = pd.DataFrame([pd.Series(x) for x in results])"
   ]
  },
  {
   "cell_type": "code",
   "execution_count": null,
   "metadata": {},
   "outputs": [],
   "source": [
    "# 6.4.4\n",
    "HFB_coef = param_frame[\"coef\"].map(lambda x: x[1])\n",
    "print(np.quantile(HFB_coef, q=[0.025, 0.975]))\n",
    "\n",
    "# 6.4.5\n",
    "# import seaborn as sns\n",
    "sns.distplot(HFB_coef, hist=True)"
   ]
  },
  {
   "cell_type": "markdown",
   "metadata": {},
   "source": [
    "# 7 - Modeling Tail Risk"
   ]
  },
  {
   "cell_type": "code",
   "execution_count": null,
   "metadata": {},
   "outputs": [],
   "source": [
    "#############\n",
    "# Chapter 7 #\n",
    "#############\n",
    " \n",
    "# 7.1.1\n",
    "alpha = np.array([0.05, 0.01])\n",
    "conf_l= 1-alpha\n",
    "VaR_1 = st.norm.ppf(q=alpha, loc=0.07, scale=0.15)\n",
    "VaR_1"
   ]
  },
  {
   "cell_type": "code",
   "execution_count": null,
   "metadata": {},
   "outputs": [],
   "source": [
    "# 7.1.2\n",
    "VaR_1_alt = 0.07 + 0.15 * st.norm.ppf(q=alpha)\n",
    "VaR_1_alt"
   ]
  },
  {
   "cell_type": "code",
   "execution_count": null,
   "metadata": {},
   "outputs": [],
   "source": [
    "# 7.1.3\n",
    "prob_1 = st.norm.cdf(-0.176728, loc=0.07, scale=0.15)\n",
    "prob_1"
   ]
  },
  {
   "cell_type": "code",
   "execution_count": null,
   "metadata": {},
   "outputs": [],
   "source": [
    "# 7.1.4\n",
    "es_1 = 0.07 + 0.15 * st.norm.pdf(st.norm.ppf(q=alpha))/alpha\n",
    "es_1"
   ]
  },
  {
   "cell_type": "code",
   "execution_count": null,
   "metadata": {},
   "outputs": [],
   "source": [
    "# 7.1.5\n",
    "alpha = np.linspace(0.05, 0.001, num=1000)\n",
    "conf_1 = 1 -alpha\n",
    "VaR_a = 0.07 + 0.15 * st.norm.ppf(q=alpha)\n",
    "ES_a = 0.07 + 0.15 * (st.norm.pdf(st.norm.ppf(q=alpha))/alpha) * -1\n",
    "columns = ['VaR','ES']\n",
    "data = [VaR_a, ES_a]\n",
    "VaR_ES_a = pd.DataFrame(dict(zip(columns, data)))\n",
    "VaR_ES_a.index = conf_1\n",
    "fig = plt.figure()\n",
    "ax = fig.add_subplot(111)\n",
    "ax.plot(VaR_ES_a)\n",
    "ax.set(ylabel='loss', title='Value at Risk & Expected Shortfall')\n",
    "ax.legend(VaR_ES_a.columns, loc='lower left')"
   ]
  },
  {
   "cell_type": "code",
   "execution_count": null,
   "metadata": {},
   "outputs": [],
   "source": [
    "# 7.1.6\n",
    "managers = pd.read_csv(\"managers.csv\", index_col=0)\n",
    "sp500_ret = managers.iloc[:,7]\n",
    "fit_norm = st.norm.fit(sp500_ret)\n",
    "alpha = 0.05\n",
    "mu = fit_norm[0]\n",
    "sigma = fit_norm[1]\n",
    "VaR_norm = mu + sigma * st.norm.ppf(q=alpha)\n",
    "VaR_norm"
   ]
  },
  {
   "cell_type": "code",
   "execution_count": null,
   "metadata": {},
   "outputs": [],
   "source": [
    "# 7.1.7\n",
    "managers = pd.read_csv(\"managers.csv\", index_col=0)\n",
    "sp500_ret = managers.iloc[:,7]\n",
    "fit_t = st.t.fit(sp500_ret)\n",
    "alpha = 0.05\n",
    "nu = fit_t[0]\n",
    "mu = fit_t[1]\n",
    "sigma = fit_t[2]\n",
    "VaR_t = sigma * st.t(df=nu).ppf(q=alpha)\n",
    "VaR_t"
   ]
  },
  {
   "cell_type": "code",
   "execution_count": null,
   "metadata": {},
   "outputs": [],
   "source": [
    "# 7.1.8\n",
    "managers = pd.read_csv(\"managers.csv\", index_col=0)\n",
    "sp500_ret = managers.iloc[:,7]\n",
    "g=sns.distplot(sp500_ret, bins=50, kde=False)\n",
    "plt.title(\"Distribution of S&P 500 Returns\")\n",
    "plt.axvline(x=VaR_norm, lw=2)\n",
    "plt.axvline(x=VaR_t,linestyle='--', lw=1)\n",
    "plt.legend([\"VaR Normal Distribution\", \"VaR T Distribution\"])"
   ]
  },
  {
   "cell_type": "code",
   "execution_count": null,
   "metadata": {},
   "outputs": [],
   "source": [
    "# 7.1.8\n",
    "managers = pd.read_csv(\"managers.csv\", index_col=0)\n",
    "sp500_ret = managers.iloc[:,7]\n",
    "def ES(data):\n",
    "    fit_t = st.t.fit(data)\n",
    "    alpha = 0.05\n",
    "    nu = fit_t[0]\n",
    "    mu = fit_t[1]\n",
    "    sigma = fit_t[2]\n",
    "    VaR_t = sigma * st.t(df=nu).ppf(q=alpha)\n",
    "    return VaR_t\n",
    "\n",
    "es_ttm = sp500_ret.rolling(window=12).apply(ES)\n",
    "sns.barplot(x=sp500_ret.index, y=sp500_ret, color='k')\n",
    "sns.lineplot(x=es_ttm.index, y=es_ttm)"
   ]
  },
  {
   "cell_type": "code",
   "execution_count": null,
   "metadata": {},
   "outputs": [],
   "source": [
    "# FIX DATE LABELS ON AXIS\n",
    "import matplotlib.dates as mdates\n",
    "fig = plt.figure()\n",
    "ax = fig.add_subplot(111)\n",
    "ax.bar(x=sp500_ret.index, height=sp500_ret, color='k')\n",
    "ax.plot_date(es_ttm.index, es_ttm, fmt='-')\n",
    "ax.set(ylabel='Value',title='S&P 500 Return & ES')\n",
    "ax.minorticks_off()\n",
    "years=mdates.YearLocator()\n",
    "yearsFmt = mdates.DateFormatter('%Y')\n",
    "ax.xaxis.set_major_locator(years)\n",
    "ax.xaxis.set_major_formatter(yearsFmt)\n",
    "# ax.xaxis.set_major_formatter(mdates.DateFormatter('%H:%M')) "
   ]
  },
  {
   "cell_type": "code",
   "execution_count": null,
   "metadata": {},
   "outputs": [],
   "source": [
    "# 7.2.1\n",
    "start_date='1991-12-31'\n",
    "end_date='2018-12-01'\n",
    "tickers = ['VFINX','VFITX']\n",
    "\n",
    "\n",
    "start_date = pd.to_datetime(start_date)\n",
    "end_date = pd.to_datetime(end_date)\n",
    "prices = pd.DataFrame()\n",
    "\n",
    "for ticker in tickers:\n",
    "#     prices[ticker] = get_historical_data(ticker, start=start_date, end=end_date, output_format='pandas').loc[:,'close']\n",
    "    prices[ticker] = client.get_dataframe(ticker, startDate=start_date, endDate=end_date).loc[:,'adjClose']\n",
    "prices = prices.dropna()\n",
    "returns = prices.pct_change()\n",
    "returns = returns.dropna()\n",
    "\n",
    "\n",
    "weights = pd.Series([0.6,0.4],index = returns.columns)\n",
    "weighSpecifiedAlgo = bt.algos.WeighSpecified(**weights)\n",
    "port_60_40 = bt.Strategy('Rebalance', [bt.algos.RunYearly(),\n",
    "                       bt.algos.SelectAll(),\n",
    "                       weighSpecifiedAlgo,\n",
    "                       bt.algos.Rebalance()])\n",
    "test = bt.Backtest(port_60_40, prices,progress_bar=True)\n",
    "res = bt.run(test)\n",
    "port_ret = res.prices.pct_change().dropna()"
   ]
  },
  {
   "cell_type": "code",
   "execution_count": null,
   "metadata": {},
   "outputs": [],
   "source": [
    "fig, ax = plt.subplots()\n",
    "sns.distplot(port_ret, bins=100,kde=False, fit=st.norm, ax=ax)\n",
    "ax.legend(labels=[\"normal\",\"empirical\"])\n",
    "ax.set(ylabel=\"Denisty\",title=\"Distribution of 60/40 Returns\")"
   ]
  },
  {
   "cell_type": "code",
   "execution_count": null,
   "metadata": {},
   "outputs": [],
   "source": [
    "# 7.2.2\n",
    "# FIX ADD LEGEND (NOT RENDERING FOR SOME REASON)\n",
    "fit = st.norm.fit(port_ret)\n",
    "norm_data = st.norm.rvs(size=10000, loc=fit[0], scale=fit[1])\n",
    "\n",
    "fig, ax = plt.subplots()\n",
    "g=sns.distplot(port_ret,hist=False,kde_kws=dict(cumulative=True), ax=ax)\n",
    "h=sns.distplot(norm_data,hist=False,kde_kws=dict(cumulative=True), ax=ax)\n",
    "ax.set(ylabel='F(x)',title='CDF')"
   ]
  },
  {
   "cell_type": "code",
   "execution_count": null,
   "metadata": {},
   "outputs": [],
   "source": [
    "# 7.2.3\n",
    "fit = st.norm.fit(port_ret)\n",
    "norm_data = st.norm.rvs(size=10000, loc=fit[0], scale=fit[1])\n",
    "\n",
    "fig, ax = plt.subplots()\n",
    "g=sns.distplot(port_ret,hist=False,kde_kws=dict(cumulative=True), ax=ax)\n",
    "h=sns.distplot(norm_data,hist=False,kde_kws=dict(cumulative=True), ax=ax)\n",
    "ax.set(ylabel='F(x)',title='CDF')\n",
    "ax.set_xlim(-0.05,-0.01)\n",
    "ax.set_ylim(0,0.1)\n"
   ]
  },
  {
   "cell_type": "code",
   "execution_count": null,
   "metadata": {},
   "outputs": [],
   "source": [
    "# 7.2.4\n",
    "\n",
    "# FIX QQ PLOT\n",
    "# fig, ax = plt.subplots()\n",
    "# sm.qqplot(np.quantile(port_ret, q=np.linspace(0,1)), fit=st.norm, line='q')\n",
    "# sm.qqplot(np.quantile(port_ret, q=np.linspace(0,1)), line='q')"
   ]
  },
  {
   "cell_type": "code",
   "execution_count": null,
   "metadata": {},
   "outputs": [],
   "source": [
    "# 7.2.5\n",
    "gpd_fit_1 = st.genpareto.fit(np.array(port_ret))\n",
    "gpd_fit_1\n",
    "# tailRisk(gpd.fit.1, prob=0.99)\n",
    "\n",
    "# 7.2.6\n",
    "var.hist <-PerformanceAnalytics::VaR(port.60.40.ret,\n",
    "                                     p = 0.99,\n",
    "                                     method = c(\"historical\"))\n",
    "es.hist <-PerformanceAnalytics::ES(port.60.40.ret,\n",
    "                                   p = 0.99,\n",
    "                                   method = c(\"historical\"))\n",
    "var.hist\n",
    "es.hist\n",
    " \n",
    "# 7.2.7\n",
    "library(fExtremes)\n",
    "gpd.fit.1 <-gpdFit(as.numeric(port.60.40.ret), u=-0.01) \n",
    " \n",
    "set.seed(83)\n",
    "gpd.sim.1 <-rgpd(1000000, \n",
    "                            xi = gpd.fit.1@fit$par.ests[1], \n",
    "                            beta = gpd.fit.1@fit$par.ests[2])\n",
    "max(gpd.sim.1)\n",
    " \n",
    "# 7.2.8\n",
    "# Histogram of simulated data\n",
    "library(MASS)\n",
    "truehist(gpd.sim.1 * -1,\n",
    "     main = paste(\"Simulated Left-Tail Density Histogram\"),\n",
    "     ylim = c(0, 1),\n",
    "     xlim = c(-0.06, -0.035),\n",
    "     xlab = c(\"estimated daily loss\"),\n",
    "     col = \"gray\",\n",
    "    panel.first = grid())\n",
    "box()\n",
    " "
   ]
  },
  {
   "cell_type": "markdown",
   "metadata": {},
   "source": [
    "# 8 - Risk Contribution and Risk Parity"
   ]
  },
  {
   "cell_type": "code",
   "execution_count": null,
   "metadata": {},
   "outputs": [],
   "source": [
    "#############\n",
    "# Chapter 8 #\n",
    "#############\n",
    " \n",
    "# 8.1.1\n",
    "\n",
    "start_date='2007-12-31'\n",
    "end_date='2017-12-31'\n",
    "tickers = ['SPY','AGG','EFA','EEM','GSG']\n",
    "\n",
    "\n",
    "start_date = pd.to_datetime(start_date)\n",
    "end_date = pd.to_datetime(end_date)\n",
    "prices = pd.DataFrame()\n",
    "\n",
    "for ticker in tickers:\n",
    "    prices[ticker] = client.get_dataframe(ticker, startDate=start_date, endDate=end_date).loc[:,'adjClose']\n",
    "prices = prices.dropna()\n",
    "returns = prices.pct_change()\n",
    "returns = returns.dropna()"
   ]
  },
  {
   "cell_type": "code",
   "execution_count": null,
   "metadata": {},
   "outputs": [],
   "source": [
    "# 8.1.2\n",
    "def calculate_portfolio_var(w,V):\n",
    "    # function that calculates portfolio risk\n",
    "    w = np.matrix(w)\n",
    "    return (w*V*w.T)[0,0]\n",
    "\n",
    "def calculate_risk_contribution(V,w=np.full((1,len(returns.columns)),fill_value=1/len(returns.columns))):\n",
    "    # function that calculates asset contribution to total risk\n",
    "    w = np.matrix(w)\n",
    "    sigma = np.sqrt(calculate_portfolio_var(w,V))\n",
    "    # Marginal Risk Contribution\n",
    "    MRC = V*w.T\n",
    "    # Risk Contribution\n",
    "    RC = np.multiply(MRC,w.T)/sigma\n",
    "    return RC\n",
    "# calculate_risk_contribution(w=np.full((1,5),fill_value=0.2), V=returns.cov().values)\n",
    "# calculate_portfolio_var(w=np.full((1,5),fill_value=0.2), V=returns.cov().values)"
   ]
  },
  {
   "cell_type": "code",
   "execution_count": null,
   "metadata": {},
   "outputs": [],
   "source": [
    "# 8.1.2\n",
    "# set asset allocation weights\n",
    "w = np.matrix(np.full((1,5),fill_value=0.2))\n",
    "V = returns.cov().values\n",
    "# portfolio volatility (variance)\n",
    "port_var = w*V*w.T\n",
    "sigma = np.sqrt(port_var)\n",
    "\n",
    "# marginal contribution to risk\n",
    "mcr = V*w.T\n",
    "\n",
    "# component contribution to risk\n",
    "cr = np.multiply(mcr,w.T)/sigma\n",
    "\n",
    "# percent of contribution to overall portfolio risk\n",
    "cr_port = cr / sigma\n",
    "# combine cr and cr.port\n",
    "\n",
    "cr_1 = pd.DataFrame(cr.reshape(1,5), columns=tickers, index=['contribution'])\n",
    "cr_2 = pd.DataFrame( cr_port.reshape(1,5), columns=tickers, index=['% of contribution'])\n",
    "cr_all = pd.concat([cr_1,cr_2])\n",
    "cr_all"
   ]
  },
  {
   "cell_type": "code",
   "execution_count": null,
   "metadata": {},
   "outputs": [],
   "source": [
    "# 8.1.3\n",
    "def Risk_Contribution(V, w=np.full((1,len(returns.columns)),fill_value=1/len(returns.columns)),tickers=tickers):\n",
    "    # portfolio volatility (variance)\n",
    "    port_var = w*V*w.T\n",
    "    sigma = np.sqrt(port_var)\n",
    "\n",
    "    # marginal contribution to risk\n",
    "    mcr = V*w.T\n",
    "\n",
    "    # component contribution to risk\n",
    "    cr = np.multiply(mcr,w.T)/sigma\n",
    "\n",
    "    # percent of contribution to overall portfolio risk\n",
    "    cr_port = cr / sigma\n",
    "\n",
    "    # combine cr and cr.port\n",
    "    cr = pd.DataFrame(data=cr.reshape(-1,5), index=['contribution'], columns=tickers)\n",
    "    cr_port = pd.DataFrame(data=cr_port.reshape(-1,5), index=['percent of contribution'], columns=tickers)\n",
    "    cr_all = pd.concat([cr,cr_port])\n",
    "    return cr_all\n",
    "\n",
    "Risk_Contribution(V=returns.cov().values, w=w)"
   ]
  },
  {
   "cell_type": "code",
   "execution_count": null,
   "metadata": {},
   "outputs": [],
   "source": [
    "# 8.1.4\n",
    "# rc_roll = pd.DataFrame(columns=tickers, index=returns.index[251:])\n",
    "rc_roll = []\n",
    "for i in range(251,len(returns)):\n",
    "    ret = returns.iloc[i-251:i,:]\n",
    "    V = ret.cov().values\n",
    "    w = np.matrix(np.full((1,5),fill_value=0.2))\n",
    "    rc_perc = Risk_Contribution(V=V,w=w, tickers=tickers).loc['percent of contribution',:]\n",
    "    rc_roll.append(rc_perc)\n",
    "rc_roll = pd.concat(rc_roll, axis=1).transpose()\n",
    "rc_roll.index = returns.index[251:]\n",
    "plt.plot(rc_roll)\n",
    "plt.legend(labels=rc_roll.columns)"
   ]
  },
  {
   "cell_type": "code",
   "execution_count": null,
   "metadata": {},
   "outputs": [],
   "source": [
    "# 8.2.1\n",
    "# 8.2.2\n",
    "import ffn\n",
    "ffn.calc_erc_weights(returns)"
   ]
  },
  {
   "cell_type": "code",
   "execution_count": null,
   "metadata": {},
   "outputs": [],
   "source": [
    "# 8.3.1\n",
    "\n",
    "start_date='2010-12-31'\n",
    "end_date='2015-12-31'\n",
    "tickers = ['SPY']\n",
    "\n",
    "start_date = pd.to_datetime(start_date)\n",
    "end_date = pd.to_datetime(end_date)\n",
    "prices = pd.DataFrame()\n",
    "\n",
    "for ticker in tickers:\n",
    "    prices[ticker] = client.get_dataframe(ticker, startDate=start_date, endDate=end_date).loc[:,'adjClose']\n",
    "prices = prices.dropna()\n",
    "returns = prices.pct_change()\n",
    "returns = returns.dropna()\n",
    "\n",
    "def vol_target_w(prices, window=90, risk_factor=0.1):\n",
    "    a = prices.pct_change()\n",
    "    b = a.rolling(window=window).std() * np.sqrt(252)\n",
    "    c = risk_factor/b\n",
    "    f = pd.DataFrame(c, index=prices.index, columns=tickers)\n",
    "    return f\n",
    "\n",
    "w_5per = vol_target_w(prices, risk_factor=0.05)\n",
    "w_10per = vol_target_w(prices, risk_factor=0.1)\n",
    "\n",
    "s = bt.Strategy('5 Percent Target', [bt.algos.RunMonthly(),\n",
    "                                     bt.algos.SelectAll(),\n",
    "                                     bt.algos.WeighTarget(w_5per),\n",
    "                                     bt.algos.Rebalance()])\n",
    "\n",
    "\n",
    "s2 = bt.Strategy('10 Percent Target', [bt.algos.RunMonthly(),\n",
    "                                       bt.algos.SelectAll(),\n",
    "                                       bt.algos.WeighTarget(w_10per),\n",
    "                                       bt.algos.Rebalance()])\n",
    "\n",
    "s3 = bt.Strategy('No Target', [bt.algos.RunOnce(),\n",
    "                                       bt.algos.SelectAll(),\n",
    "                                       bt.algos.WeighEqually(),\n",
    "                                       bt.algos.Rebalance()])\n",
    "test1 = bt.Backtest(s, prices)\n",
    "test2 = bt.Backtest(s2, prices)\n",
    "test3 = bt.Backtest(s3, prices)\n",
    "res = bt.run(test1, test2, test3)\n",
    "res.plot()"
   ]
  },
  {
   "cell_type": "code",
   "execution_count": null,
   "metadata": {},
   "outputs": [],
   "source": [
    "# 8.3.2\n",
    "res.stats.loc['yearly_vol',:]"
   ]
  },
  {
   "cell_type": "markdown",
   "metadata": {},
   "source": [
    "# 9 - Style Analysis and Replicating Indexes\n",
    "https://docs.scipy.org/doc/scipy/reference/generated/scipy.optimize.minimize.html\n",
    "\n",
    "https://quant.stackexchange.com/questions/40412/implementing-the-sharpes-return-based-style-analysis-on-python?rq=1\n",
    "\n",
    "https://nbviewer.jupyter.org/github/cvxgrp/cvx_short_course/blob/master/applications/portfolio_optimization.ipynb\n",
    "\n",
    "https://github.com/cvxgrp/cvxportfolio/blob/master/examples/HelloWorld.ipynb"
   ]
  },
  {
   "cell_type": "code",
   "execution_count": 3,
   "metadata": {},
   "outputs": [
    {
     "data": {
      "text/html": [
       "<div>\n",
       "<style scoped>\n",
       "    .dataframe tbody tr th:only-of-type {\n",
       "        vertical-align: middle;\n",
       "    }\n",
       "\n",
       "    .dataframe tbody tr th {\n",
       "        vertical-align: top;\n",
       "    }\n",
       "\n",
       "    .dataframe thead th {\n",
       "        text-align: right;\n",
       "    }\n",
       "</style>\n",
       "<table border=\"1\" class=\"dataframe\">\n",
       "  <thead>\n",
       "    <tr style=\"text-align: right;\">\n",
       "      <th></th>\n",
       "      <th>Weight</th>\n",
       "    </tr>\n",
       "  </thead>\n",
       "  <tbody>\n",
       "    <tr>\n",
       "      <th>SPY</th>\n",
       "      <td>0.4342</td>\n",
       "    </tr>\n",
       "    <tr>\n",
       "      <th>AGG</th>\n",
       "      <td>0.4132</td>\n",
       "    </tr>\n",
       "    <tr>\n",
       "      <th>EFA</th>\n",
       "      <td>0.1287</td>\n",
       "    </tr>\n",
       "    <tr>\n",
       "      <th>EEM</th>\n",
       "      <td>0.0239</td>\n",
       "    </tr>\n",
       "    <tr>\n",
       "      <th>GSG</th>\n",
       "      <td>0.0000</td>\n",
       "    </tr>\n",
       "  </tbody>\n",
       "</table>\n",
       "</div>"
      ],
      "text/plain": [
       "     Weight\n",
       "SPY  0.4342\n",
       "AGG  0.4132\n",
       "EFA  0.1287\n",
       "EEM  0.0239\n",
       "GSG  0.0000"
      ]
     },
     "execution_count": 3,
     "metadata": {},
     "output_type": "execute_result"
    }
   ],
   "source": [
    "#############\n",
    "# Chapter 9 #\n",
    "#############\n",
    "\n",
    "# 9.1.1\n",
    "start_date='2010-12-31'\n",
    "end_date='2017-12-31'\n",
    "tickers = ['SPY','AGG','EFA','EEM','GSG','AOR']\n",
    "\n",
    "start_date = pd.to_datetime(start_date)\n",
    "end_date = pd.to_datetime(end_date)\n",
    "prices = pd.DataFrame()\n",
    "\n",
    "for ticker in tickers:\n",
    "    prices[ticker] = client.get_dataframe(ticker, startDate=start_date, endDate=end_date).loc[:,'adjClose']\n",
    "prices = prices.dropna()\n",
    "returns = prices.pct_change()\n",
    "returns = returns.dropna()\n",
    "returns = returns.resample('1M', closed='left').first()\n",
    "\n",
    "from scipy import optimize\n",
    "aor_style = optimize.nnls(returns.iloc[:,0:-1],returns.AOR)\n",
    "weights = np.round(aor_style[0]/sum(aor_style[0]), 4)\n",
    "pd.DataFrame(weights,index=tickers[:-1], columns=[\"Weight\"])"
   ]
  },
  {
   "cell_type": "code",
   "execution_count": 13,
   "metadata": {},
   "outputs": [
    {
     "data": {
      "text/html": [
       "<div>\n",
       "<style scoped>\n",
       "    .dataframe tbody tr th:only-of-type {\n",
       "        vertical-align: middle;\n",
       "    }\n",
       "\n",
       "    .dataframe tbody tr th {\n",
       "        vertical-align: top;\n",
       "    }\n",
       "\n",
       "    .dataframe thead th {\n",
       "        text-align: right;\n",
       "    }\n",
       "</style>\n",
       "<table border=\"1\" class=\"dataframe\">\n",
       "  <thead>\n",
       "    <tr style=\"text-align: right;\">\n",
       "      <th></th>\n",
       "      <th>Weight</th>\n",
       "    </tr>\n",
       "  </thead>\n",
       "  <tbody>\n",
       "    <tr>\n",
       "      <th>SPY</th>\n",
       "      <td>0.293</td>\n",
       "    </tr>\n",
       "    <tr>\n",
       "      <th>AGG</th>\n",
       "      <td>0.464</td>\n",
       "    </tr>\n",
       "    <tr>\n",
       "      <th>EFA</th>\n",
       "      <td>0.172</td>\n",
       "    </tr>\n",
       "    <tr>\n",
       "      <th>EEM</th>\n",
       "      <td>0.071</td>\n",
       "    </tr>\n",
       "    <tr>\n",
       "      <th>GSG</th>\n",
       "      <td>0.000</td>\n",
       "    </tr>\n",
       "  </tbody>\n",
       "</table>\n",
       "</div>"
      ],
      "text/plain": [
       "     Weight\n",
       "SPY   0.293\n",
       "AGG   0.464\n",
       "EFA   0.172\n",
       "EEM   0.071\n",
       "GSG   0.000"
      ]
     },
     "execution_count": 13,
     "metadata": {},
     "output_type": "execute_result"
    }
   ],
   "source": [
    "def SharpeStyleAnalysis(factor, returns):\n",
    "    from scipy.optimize import minimize\n",
    "    N = returns.shape[1] -1    \n",
    "    init_guess = np.array(N*[1. / N,])\n",
    "    cons = ({'type': 'eq', 'fun': lambda b: np.sum(b) - 1.})\n",
    "    bnds = tuple((0, 1) for b in range(N))\n",
    "    D = np.array(returns.cov().loc[returns.cov().index != factor, returns.cov().columns != factor])\n",
    "    d = np.array(returns.cov().loc[returns.cov().index != factor, returns.cov().columns == factor])\n",
    "    fun = lambda b, d, D: np.dot(-d.T, b) + np.dot(1/2 * b.T, np.dot(D,b))\n",
    "    res = minimize(fun, init_guess, args=(d,D), \n",
    "               method='SLSQP', \n",
    "               bounds=bnds, \n",
    "               constraints=cons, \n",
    "               tol=1e-10)\n",
    "    output = pd.DataFrame(np.round(res.x,3), index = tickers[:-1], columns=[\"Weight\"])\n",
    "    return output\n",
    "SharpeStyleAnalysis('AOR', returns)"
   ]
  },
  {
   "cell_type": "code",
   "execution_count": null,
   "metadata": {},
   "outputs": [],
   "source": [
    "def SharpeStyleAnalysis(factor, returns):\n",
    "    from scipy.optimize import minimize\n",
    "    N = returns.shape[1] -1    \n",
    "    init_guess = np.array(N*[1. / N,])\n",
    "    a1 = np.repeat(1,N)\n",
    "    a2 = np.identity(N)\n",
    "    w_min = np.repeat(0,N+1)\n",
    "    w_min[0] = 1\n",
    "    b_0 = w_min\n",
    "    Amat = np.vstack((a1,a2)).T\n",
    "    cons = ({'type': 'eq', 'fun': lambda b: np.sum(b) - 1.})\n",
    "    bnds = tuple((0, 1) for b in range(N))\n",
    "    D = np.array(returns.cov().loc[returns.cov().index != factor, returns.cov().columns != factor])\n",
    "    d = np.array(returns.cov().loc[returns.cov().index != factor, returns.cov().columns == factor])\n",
    "    fun = lambda b, d, D: np.dot(-d.T, b) + np.dot(1/2 * b.T, np.dot(D,b))\n",
    "    res = minimize(fun, init_guess, args=(d,D), \n",
    "               method='SLSQP', \n",
    "               bounds=bnds, \n",
    "               constraints=cons, \n",
    "               tol=1e-10)\n",
    "    output = pd.DataFrame(np.round(res.x,3), index = tickers[:-1], columns=[\"Weight\"])\n",
    "    return output\n",
    "SharpeStyleAnalysis('AOR', returns)"
   ]
  },
  {
   "cell_type": "code",
   "execution_count": 28,
   "metadata": {},
   "outputs": [
    {
     "ename": "ValueError",
     "evalue": "use of function valued P, G, A requires a user-provided kktsolver",
     "output_type": "error",
     "traceback": [
      "\u001b[1;31m---------------------------------------------------------------------------\u001b[0m",
      "\u001b[1;31mValueError\u001b[0m                                Traceback (most recent call last)",
      "\u001b[1;32m<ipython-input-28-3992f563f49e>\u001b[0m in \u001b[0;36m<module>\u001b[1;34m\u001b[0m\n\u001b[0;32m      9\u001b[0m \u001b[0mb_0\u001b[0m \u001b[1;33m=\u001b[0m \u001b[0mw_min\u001b[0m\u001b[1;33m\u001b[0m\u001b[1;33m\u001b[0m\u001b[0m\n\u001b[0;32m     10\u001b[0m \u001b[0mAmat\u001b[0m \u001b[1;33m=\u001b[0m \u001b[0mnp\u001b[0m\u001b[1;33m.\u001b[0m\u001b[0mvstack\u001b[0m\u001b[1;33m(\u001b[0m\u001b[1;33m(\u001b[0m\u001b[0ma1\u001b[0m\u001b[1;33m,\u001b[0m\u001b[0ma2\u001b[0m\u001b[1;33m)\u001b[0m\u001b[1;33m)\u001b[0m\u001b[1;33m.\u001b[0m\u001b[0mT\u001b[0m\u001b[1;33m\u001b[0m\u001b[1;33m\u001b[0m\u001b[0m\n\u001b[1;32m---> 11\u001b[1;33m \u001b[0mconeqp\u001b[0m\u001b[1;33m(\u001b[0m\u001b[0mP\u001b[0m\u001b[1;33m=\u001b[0m\u001b[0mD\u001b[0m\u001b[1;33m,\u001b[0m \u001b[0mq\u001b[0m\u001b[1;33m=\u001b[0m\u001b[0md\u001b[0m\u001b[1;33m,\u001b[0m \u001b[0mG\u001b[0m\u001b[1;33m=\u001b[0m\u001b[0mAmat\u001b[0m\u001b[1;33m,\u001b[0m \u001b[0mh\u001b[0m\u001b[1;33m=\u001b[0m\u001b[0mb_0\u001b[0m\u001b[1;33m)\u001b[0m\u001b[1;33m\u001b[0m\u001b[1;33m\u001b[0m\u001b[0m\n\u001b[0m",
      "\u001b[1;32m~\\Anaconda3\\lib\\site-packages\\cvxopt\\coneprog.py\u001b[0m in \u001b[0;36mconeqp\u001b[1;34m(P, q, G, h, dims, A, b, initvals, kktsolver, xnewcopy, xdot, xaxpy, xscal, ynewcopy, ydot, yaxpy, yscal, **kwargs)\u001b[0m\n\u001b[0;32m   1820\u001b[0m     if (not matrixP or (not matrixG and G is not None) or\n\u001b[0;32m   1821\u001b[0m         (not matrixA and A is not None)) and not customkkt:\n\u001b[1;32m-> 1822\u001b[1;33m         raise ValueError(\"use of function valued P, G, A requires a \"\\\n\u001b[0m\u001b[0;32m   1823\u001b[0m             \"user-provided kktsolver\")\n\u001b[0;32m   1824\u001b[0m     customx = (xnewcopy != None or xdot != None or xaxpy != None or\n",
      "\u001b[1;31mValueError\u001b[0m: use of function valued P, G, A requires a user-provided kktsolver"
     ]
    }
   ],
   "source": [
    "from cvxopt.solvers import coneqp\n",
    "factor = 'AOR'\n",
    "D = np.array(returns.cov().loc[returns.cov().index != factor, returns.cov().columns != factor])\n",
    "d = np.array(returns.cov().loc[returns.cov().index != factor, returns.cov().columns == factor])\n",
    "a1 = np.repeat(1,5)\n",
    "a2 = np.identity(5)\n",
    "w_min = np.repeat(0,6)\n",
    "w_min[0] = 1\n",
    "b_0 = w_min\n",
    "Amat = np.vstack((a1,a2)).T\n",
    "coneqp(P=D, q=d, G=Amat, h=b_0)"
   ]
  },
  {
   "cell_type": "code",
   "execution_count": 94,
   "metadata": {},
   "outputs": [],
   "source": [
    "# Generate data for long only portfolio optimization.\n",
    "import numpy as np\n",
    "np.random.seed(1)\n",
    "n = 6\n",
    "Sigma = np.array(returns.cov())\n",
    "\n",
    "# Long only portfolio optimization.\n",
    "from cvxpy import *\n",
    "w = Variable(n)\n",
    "risk = quad_form(-w, Sigma)\n",
    "prob = Problem(Minimize(risk), \n",
    "               [sum(w[1:n]) == 1, \n",
    "                w[1:n] >= 0, w[1:n] <= 1, w[0]==-1])\n",
    "\n",
    "# # Compute trade-off curve.\n",
    "# SAMPLES = 100\n",
    "# risk_data = np.zeros(SAMPLES)\n",
    "# for i in range(SAMPLES):\n",
    "#     prob.solve()\n",
    "#     risk_data[i] = sqrt(risk).value"
   ]
  },
  {
   "cell_type": "code",
   "execution_count": 95,
   "metadata": {},
   "outputs": [
    {
     "name": "stdout",
     "output_type": "stream",
     "text": [
      "-----------------------------------------------------------------\n",
      "           OSQP v0.5.0  -  Operator Splitting QP Solver\n",
      "              (c) Bartolomeo Stellato,  Goran Banjac\n",
      "        University of Oxford  -  Stanford University 2018\n",
      "-----------------------------------------------------------------\n",
      "problem:  variables n = 12, constraints m = 18\n",
      "          nnz(P) + nnz(A) = 49\n",
      "settings: linear system solver = qdldl,\n",
      "          eps_abs = 1.0e-03, eps_rel = 1.0e-03,\n",
      "          eps_prim_inf = 1.0e-04, eps_dual_inf = 1.0e-04,\n",
      "          rho = 1.00e-01 (adaptive),\n",
      "          sigma = 1.00e-06, alpha = 1.60, max_iter = 4000\n",
      "          check_termination: on (interval 25),\n",
      "          scaling: on, scaled_termination: off\n",
      "          warm start: on, polish: on\n",
      "\n",
      "objective    pri res    dua res    rho        time\n",
      "   1   0.0000e+00   1.00e+00   1.00e+02   1.00e-01   1.81e-04s\n",
      "  25   2.2426e-05   3.08e-04   4.74e-04   1.00e-01   3.76e-04s\n",
      "\n",
      "status:               solved\n",
      "solution polish:      unsuccessful\n",
      "number of iterations: 25\n",
      "optimal objective:    0.0000\n",
      "run time:             6.64e-04s\n",
      "optimal rho estimate: 1.75e-03\n",
      "\n"
     ]
    },
    {
     "data": {
      "text/plain": [
       "2.2425526929936024e-05"
      ]
     },
     "execution_count": 95,
     "metadata": {},
     "output_type": "execute_result"
    }
   ],
   "source": [
    "prob.solve(verbose=True)"
   ]
  },
  {
   "cell_type": "code",
   "execution_count": 96,
   "metadata": {},
   "outputs": [
    {
     "data": {
      "text/plain": [
       "Solution(optimal, {17187: array([-0.99969202,  0.1991097 ,  0.20677307,  0.20306542,  0.18657303,\n",
       "        0.20423514])}, {17188: -0.00016866670676130013, 17190: array([0., 0., 0., 0., 0.]), 17192: array([0., 0., 0., 0., 0.]), 17194: 0.0005207433125704597}, {'solve_time': 0.0006636895666175553, 'num_iters': 25})"
      ]
     },
     "execution_count": 96,
     "metadata": {},
     "output_type": "execute_result"
    }
   ],
   "source": [
    "prob.solution"
   ]
  },
  {
   "cell_type": "code",
   "execution_count": 11,
   "metadata": {},
   "outputs": [
    {
     "data": {
      "image/png": "[encoded data removed]",
      "text/plain": [
       "<Figure size 432x288 with 1 Axes>"
      ]
     },
     "metadata": {
      "needs_background": "light"
     },
     "output_type": "display_data"
    }
   ],
   "source": [
    "regression = np.zeros((len(returns.index)-11,5))\n",
    "for row in range(11, len(returns.index)):\n",
    "    ret = returns.iloc[row-11:row,:]\n",
    "    aor_style = SharpeStyleAnalysis('AOR',ret)\n",
    "    regression[row-11] = aor_style.Weight\n",
    "\n",
    "style_roll_weights = pd.DataFrame(data=regression, index=returns.index[11:], columns=ret.columns[ret.columns != 'AOR'])\n",
    "\n",
    "plt.stackplot(style_roll_weights.index, \n",
    "              style_roll_weights['SPY'], style_roll_weights['AGG'], style_roll_weights['EFA'],  style_roll_weights['EEM'],  style_roll_weights['GSG']\n",
    "              , labels=['SPY','AGG','EFA','EEM','GSG'])\n",
    "plt.legend(loc='upper left')\n",
    "plt.margins(0,0)\n",
    "plt.title('Style Weights for AOR')\n",
    "plt.ylabel(\"weight\")\n",
    "\n",
    "plt.show()"
   ]
  },
  {
   "cell_type": "code",
   "execution_count": 4,
   "metadata": {},
   "outputs": [
    {
     "data": {
      "text/html": [
       "<table class=\"simpletable\">\n",
       "<caption>OLS Regression Results</caption>\n",
       "<tr>\n",
       "  <th>Dep. Variable:</th>           <td>AOR</td>       <th>  R-squared:         </th> <td>   0.953</td>\n",
       "</tr>\n",
       "<tr>\n",
       "  <th>Model:</th>                   <td>OLS</td>       <th>  Adj. R-squared:    </th> <td>   0.950</td>\n",
       "</tr>\n",
       "<tr>\n",
       "  <th>Method:</th>             <td>Least Squares</td>  <th>  F-statistic:       </th> <td>   321.9</td>\n",
       "</tr>\n",
       "<tr>\n",
       "  <th>Date:</th>             <td>Thu, 10 Jan 2019</td> <th>  Prob (F-statistic):</th> <td>5.36e-51</td>\n",
       "</tr>\n",
       "<tr>\n",
       "  <th>Time:</th>                 <td>12:29:19</td>     <th>  Log-Likelihood:    </th> <td>  443.17</td>\n",
       "</tr>\n",
       "<tr>\n",
       "  <th>No. Observations:</th>      <td>    84</td>      <th>  AIC:               </th> <td>  -876.3</td>\n",
       "</tr>\n",
       "<tr>\n",
       "  <th>Df Residuals:</th>          <td>    79</td>      <th>  BIC:               </th> <td>  -864.2</td>\n",
       "</tr>\n",
       "<tr>\n",
       "  <th>Df Model:</th>              <td>     5</td>      <th>                     </th>     <td> </td>   \n",
       "</tr>\n",
       "<tr>\n",
       "  <th>Covariance Type:</th>      <td>nonrobust</td>    <th>                     </th>     <td> </td>   \n",
       "</tr>\n",
       "</table>\n",
       "<table class=\"simpletable\">\n",
       "<tr>\n",
       "   <td></td>      <th>coef</th>     <th>std err</th>      <th>t</th>      <th>P>|t|</th>  <th>[0.025</th>    <th>0.975]</th>  \n",
       "</tr>\n",
       "<tr>\n",
       "  <th>SPY</th> <td>    0.4319</td> <td>    0.040</td> <td>   10.841</td> <td> 0.000</td> <td>    0.353</td> <td>    0.511</td>\n",
       "</tr>\n",
       "<tr>\n",
       "  <th>AGG</th> <td>    0.4071</td> <td>    0.080</td> <td>    5.074</td> <td> 0.000</td> <td>    0.247</td> <td>    0.567</td>\n",
       "</tr>\n",
       "<tr>\n",
       "  <th>EFA</th> <td>    0.1303</td> <td>    0.028</td> <td>    4.652</td> <td> 0.000</td> <td>    0.075</td> <td>    0.186</td>\n",
       "</tr>\n",
       "<tr>\n",
       "  <th>EEM</th> <td>    0.0268</td> <td>    0.020</td> <td>    1.362</td> <td> 0.177</td> <td>   -0.012</td> <td>    0.066</td>\n",
       "</tr>\n",
       "<tr>\n",
       "  <th>GSG</th> <td>   -0.0065</td> <td>    0.010</td> <td>   -0.629</td> <td> 0.531</td> <td>   -0.027</td> <td>    0.014</td>\n",
       "</tr>\n",
       "</table>\n",
       "<table class=\"simpletable\">\n",
       "<tr>\n",
       "  <th>Omnibus:</th>       <td> 0.215</td> <th>  Durbin-Watson:     </th> <td>   1.801</td>\n",
       "</tr>\n",
       "<tr>\n",
       "  <th>Prob(Omnibus):</th> <td> 0.898</td> <th>  Jarque-Bera (JB):  </th> <td>   0.248</td>\n",
       "</tr>\n",
       "<tr>\n",
       "  <th>Skew:</th>          <td>-0.115</td> <th>  Prob(JB):          </th> <td>   0.884</td>\n",
       "</tr>\n",
       "<tr>\n",
       "  <th>Kurtosis:</th>      <td> 2.866</td> <th>  Cond. No.          </th> <td>    12.1</td>\n",
       "</tr>\n",
       "</table><br/><br/>Warnings:<br/>[1] Standard Errors assume that the covariance matrix of the errors is correctly specified."
      ],
      "text/plain": [
       "<class 'statsmodels.iolib.summary.Summary'>\n",
       "\"\"\"\n",
       "                            OLS Regression Results                            \n",
       "==============================================================================\n",
       "Dep. Variable:                    AOR   R-squared:                       0.953\n",
       "Model:                            OLS   Adj. R-squared:                  0.950\n",
       "Method:                 Least Squares   F-statistic:                     321.9\n",
       "Date:                Thu, 10 Jan 2019   Prob (F-statistic):           5.36e-51\n",
       "Time:                        12:29:19   Log-Likelihood:                 443.17\n",
       "No. Observations:                  84   AIC:                            -876.3\n",
       "Df Residuals:                      79   BIC:                            -864.2\n",
       "Df Model:                           5                                         \n",
       "Covariance Type:            nonrobust                                         \n",
       "==============================================================================\n",
       "                 coef    std err          t      P>|t|      [0.025      0.975]\n",
       "------------------------------------------------------------------------------\n",
       "SPY            0.4319      0.040     10.841      0.000       0.353       0.511\n",
       "AGG            0.4071      0.080      5.074      0.000       0.247       0.567\n",
       "EFA            0.1303      0.028      4.652      0.000       0.075       0.186\n",
       "EEM            0.0268      0.020      1.362      0.177      -0.012       0.066\n",
       "GSG           -0.0065      0.010     -0.629      0.531      -0.027       0.014\n",
       "==============================================================================\n",
       "Omnibus:                        0.215   Durbin-Watson:                   1.801\n",
       "Prob(Omnibus):                  0.898   Jarque-Bera (JB):                0.248\n",
       "Skew:                          -0.115   Prob(JB):                        0.884\n",
       "Kurtosis:                       2.866   Cond. No.                         12.1\n",
       "==============================================================================\n",
       "\n",
       "Warnings:\n",
       "[1] Standard Errors assume that the covariance matrix of the errors is correctly specified.\n",
       "\"\"\""
      ]
     },
     "execution_count": 4,
     "metadata": {},
     "output_type": "execute_result"
    }
   ],
   "source": [
    "# 9.1.2\n",
    "import statsmodels.api as sm\n",
    "regression_1 = sm.OLS(returns.AOR,returns.iloc[:,0:-1]).fit()\n",
    "regression_1.summary()"
   ]
  },
  {
   "cell_type": "code",
   "execution_count": null,
   "metadata": {},
   "outputs": [],
   "source": [
    "# 9.2.1\n",
    "regression = np.zeros((len(returns.index)-11,5))\n",
    "\n",
    "for row in range(11, len(returns.index)):\n",
    "    y = returns.AOR[row-11: row]\n",
    "    x = returns.iloc[row-11:row,:-1]\n",
    "    aor_style = optimize.nnls(x,y)\n",
    "    weights = np.round(aor_style[0]/sum(aor_style[0]), 4)\n",
    "    regression[row-11] = weights\n",
    "\n",
    "style_roll_weights = pd.DataFrame(data=regression, index=returns.index[11:], columns=tickers[:-1])\n",
    "style_roll_weights.head()\n"
   ]
  },
  {
   "cell_type": "code",
   "execution_count": null,
   "metadata": {},
   "outputs": [],
   "source": [
    "# 9.2.2\n",
    "plt.stackplot(style_roll_weights.index, \n",
    "              style_roll_weights['SPY'], style_roll_weights['AGG'], style_roll_weights['EFA'],  style_roll_weights['EEM'],  style_roll_weights['GSG']\n",
    "              , labels=['SPY','AGG','EFA','EEM','GSG'])\n",
    "plt.legend(loc='upper left')\n",
    "plt.margins(0,0)\n",
    "plt.title('Style Weights for AOR')\n",
    "plt.ylabel(\"weight\")\n",
    "\n",
    "plt.show()"
   ]
  },
  {
   "cell_type": "code",
   "execution_count": null,
   "metadata": {},
   "outputs": [],
   "source": [
    "# 9.3.1\n",
    "from scipy import optimize\n",
    "\n",
    "start_date='2006-12-31'\n",
    "end_date='2015-12-31'\n",
    "tickers = [\"XLF\", \n",
    "            \"XLK\", \n",
    "            \"XLI\", \n",
    "            \"XLB\", \n",
    "            \"XLY\", \n",
    "            \"XLV\", \n",
    "            \"XLU\", \n",
    "            \"XLP\", \n",
    "            \"XLE\", \n",
    "            \"VOX\", \n",
    "            \"VNQ\", \n",
    "            \"SPY\"]\n",
    "\n",
    "start_date = pd.to_datetime(start_date)\n",
    "end_date = pd.to_datetime(end_date)\n",
    "prices = pd.DataFrame()\n",
    "\n",
    "for ticker in tickers:\n",
    "    prices[ticker] = client.get_dataframe(ticker, startDate=start_date, endDate=end_date).loc[:,'adjClose']\n",
    "prices = prices.dropna()\n",
    "returns = prices.pct_change()\n",
    "returns = returns.dropna()\n",
    "returns = returns.resample('1M', closed='left').first()\n",
    "\n",
    "# generate style weights\n",
    "regression = np.zeros((len(returns.index)-11,11))\n",
    "\n",
    "for row in range(11, len(returns.index)):\n",
    "    y = returns.SPY[row-11: row]\n",
    "    x = returns.iloc[row-11:row,:-1]\n",
    "    aor_style = optimize.nnls(x,y)\n",
    "    weights = np.round(aor_style[0]/sum(aor_style[0]), 4)\n",
    "    regression[row-11] = weights\n",
    "\n",
    "style_roll_weights_sp = pd.DataFrame(data=regression, index=returns.index[11:], columns=tickers[:-1])\n",
    "# transform weights to end of quarter frequency\n",
    "weights_1 = style_roll_weights_sp.resample('BQ',closed='right').first()\n",
    "\n",
    "# create replicated SPY index with\n",
    "# quarterly rebalancing.\n",
    "weights = weights_1\n",
    "weighSpecifiedAlgo = bt.algos.WeighSpecified(**weights)\n",
    "s1 = bt.Strategy('Replicated', [bt.algos.RunMonthly(),\n",
    "                       bt.algos.SelectAll(),\n",
    "                        bt.algos.WeighTarget(weights),\n",
    "                       bt.algos.Rebalance()])\n",
    "s2 = bt.Strategy('Actual', [bt.algos.RunOnce(),\n",
    "                                       bt.algos.SelectAll(),\n",
    "                                       bt.algos.WeighEqually(),\n",
    "                                       bt.algos.Rebalance()])\n",
    "prices = np.cumprod(np.exp(returns.iloc[11:,:]))\n",
    "test1 = bt.Backtest(s1, prices.iloc[:,:-1],progress_bar=False)\n",
    "test2 = bt.Backtest(s2, prices.iloc[:,-1:],progress_bar=False)\n",
    "res = bt.run(test1,test2)\n",
    "res.plot()"
   ]
  },
  {
   "cell_type": "code",
   "execution_count": null,
   "metadata": {},
   "outputs": [],
   "source": [
    "# 9.3.2\n",
    "np.corrcoef(res.prices.Actual,res.prices.Replicated)"
   ]
  },
  {
   "cell_type": "markdown",
   "metadata": {},
   "source": [
    "# 10 - Estimating Shocks on Asset Prices"
   ]
  },
  {
   "cell_type": "code",
   "execution_count": null,
   "metadata": {},
   "outputs": [],
   "source": [
    "##############\n",
    "# Chapter 10 #\n",
    "##############\n",
    " \n",
    "# 10.1.1\n",
    "import pandas_datareader as pdr\n",
    "import statsmodels.api as sm\n",
    "from statsmodels.tsa.api import VAR\n",
    "\n",
    "fred = pdr.get_data_fred(['MCOILWTICO','RU1000TR'],start = \"1986-01-01\")\n",
    "fred.fillna(method='ffill')\n",
    "oil_r1000 = fred.resample('1M', closed='left').first()\n",
    "oil_r1000.columns = ['oil','stocks']\n",
    "oil_r1000_ret =oil_r1000.pct_change().dropna()\n",
    "model = VAR(oil_r1000_ret)\n",
    "var_lag = model.select_order(maxlags=12).aic\n",
    "var_model = VAR(oil_r1000_ret*100)\n",
    "results = var_model.fit(maxlags=12, ic='aic')"
   ]
  },
  {
   "cell_type": "code",
   "execution_count": null,
   "metadata": {},
   "outputs": [],
   "source": [
    "# 10.1.2\n",
    "irf = results.irf(periods=12)\n",
    "irf.plot(impulse='oil',response='stocks',orth=False)"
   ]
  },
  {
   "cell_type": "code",
   "execution_count": null,
   "metadata": {},
   "outputs": [],
   "source": [
    "irf.plot()"
   ]
  },
  {
   "cell_type": "code",
   "execution_count": null,
   "metadata": {},
   "outputs": [],
   "source": [
    "# 10.1.3\n",
    "irf_data = plt.plot(irf.irfs[:,1,0])\n"
   ]
  },
  {
   "cell_type": "code",
   "execution_count": null,
   "metadata": {},
   "outputs": [],
   "source": [
    "\n",
    "# 10.1.3\n",
    "irf.data <-irf(var.model,\n",
    "               impulse=\"oil\", \n",
    "               response=\"stocks\", \n",
    "               boot=T, \n",
    "               n.ahead=12,\n",
    "               cumulative=F)\n",
    " \n",
    "irf.data$irf   # point estimates\n",
    "irf.data$Upper # upper confidence band\n",
    "irf.data$Lower # lower confidence band\n",
    " \n",
    "irf.data$irf\n",
    " \n",
    "# 10.1.4\n",
    "irf.num <-unlist(irf.data$irf, use.names=F)\n",
    " \n",
    "# 10.1.5\n",
    "irf.data$irf$oil\n",
    " \n",
    "# 10.1.6\n",
    "irf.data$irf$oil * 2   # two std dev shock\n",
    "irf.data$irf$oil * -1  # negative shock for one std dev\n",
    " "
   ]
  },
  {
   "cell_type": "markdown",
   "metadata": {},
   "source": [
    "# RECYLCE"
   ]
  },
  {
   "cell_type": "code",
   "execution_count": null,
   "metadata": {},
   "outputs": [],
   "source": [
    "from qpsolvers import solve_qp\n",
    "from cvxopt import matrix,solvers"
   ]
  },
  {
   "cell_type": "code",
   "execution_count": null,
   "metadata": {},
   "outputs": [],
   "source": [
    "from cvxopt import matrix, solvers\n",
    "Q = 2*matrix([ [2, .5], [.5, 1] ])\n",
    "p = matrix([1.0, 1.0])\n",
    "G = matrix([[-1.0,0.0],[0.0,-1.0]])\n",
    "h = matrix([0.0,0.0])\n",
    "A = matrix([1.0, 1.0], (1,2))\n",
    "b = matrix(1.0)\n",
    "sol=solvers.qp(Q, p, G, h, A, b)"
   ]
  },
  {
   "cell_type": "code",
   "execution_count": null,
   "metadata": {},
   "outputs": [],
   "source": [
    "print(sol['x'])"
   ]
  },
  {
   "cell_type": "code",
   "execution_count": null,
   "metadata": {},
   "outputs": [],
   "source": [
    "def Cols(x):\n",
    "    return x.shape[1]\n",
    "\n",
    "def Rows(x):\n",
    "    x.shape[0]\n",
    "    \n",
    "\n",
    "def Correl(x, y):\n",
    "    c = np.corrcoef(x,y)\n",
    "    return c[0,1]\n",
    "\n",
    "def Covar(S, F):\n",
    "    X = np.sqrt(abs(S))\n",
    "    cov = np.dot(F.T - F.mean(), X - X.mean(axis=0)) / (F.shape[0]-1)\n",
    "    return cov\n",
    "\n",
    "def TEMINQP(F,S):\n",
    "    s = Cols(S)\n",
    "    V = np.cov(S)\n",
    "    C = Covar(S,F)\n",
    "    Aeq = np.ones(shape=(1,s))\n",
    "    beq = 1\n",
    "    lb = np.zeros(shape=(1,s))\n",
    "return solve_qp(P=V, q=-C, A=Aeq, b=beq)\n",
    "    \n",
    "fund_returns = np.array(returns.AOR)\n",
    "style_returns = np.matrix(returns.iloc[:,:-1])\n",
    "TEMINQP(fund_returns, style_returns)"
   ]
  }
 ],
 "metadata": {
  "kernelspec": {
   "display_name": "Python 3",
   "language": "python",
   "name": "python3"
  },
  "language_info": {
   "codemirror_mode": {
    "name": "ipython",
    "version": 3
   },
   "file_extension": ".py",
   "mimetype": "text/x-python",
   "name": "python",
   "nbconvert_exporter": "python",
   "pygments_lexer": "ipython3",
   "version": "3.6.8"
  }
 },
 "nbformat": 4,
 "nbformat_minor": 2
}
